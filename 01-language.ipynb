{
 "cells": [
  {
   "cell_type": "markdown",
   "metadata": {},
   "source": [
    "# Kotlin Language features\n",
    "\n",
    "What we will cover:\n",
    "\n",
    "- Basic features\n",
    "- Functions\n",
    "- Null safety\n",
    "\n",
    "## Basic features"
   ]
  },
  {
   "cell_type": "markdown",
   "metadata": {},
   "source": [
    "Functions and variables can be declared outside of classes"
   ]
  },
  {
   "cell_type": "code",
   "metadata": {
    "ExecuteTime": {
     "end_time": "2025-08-18T14:59:56.126278Z",
     "start_time": "2025-08-18T14:59:56.054651Z"
    }
   },
   "source": [
    "fun sum(x: Int, y: Int): Int {\n",
    "    return x + y\n",
    "}\n",
    "\n",
    "val globalValue = \"I am a global value\"\n",
    "\n",
    "println(sum(10, 6))\n",
    "print(globalValue)"
   ],
   "outputs": [
    {
     "name": "stdout",
     "output_type": "stream",
     "text": [
      "16\n",
      "I am a global value"
     ]
    }
   ],
   "execution_count": 43
  },
  {
   "cell_type": "markdown",
   "metadata": {},
   "source": [
    "`var` declares a variable. `val` declares a variable that cannot be reassigned (like `final` in Java)"
   ]
  },
  {
   "cell_type": "code",
   "metadata": {
    "ExecuteTime": {
     "end_time": "2025-08-18T14:59:56.162390Z",
     "start_time": "2025-08-18T14:59:56.133207Z"
    }
   },
   "source": [
    "var a: Int = 0\n",
    "a = 23\n",
    "\n",
    "val b: String = \"Hello\""
   ],
   "outputs": [],
   "execution_count": 44
  },
  {
   "cell_type": "markdown",
   "metadata": {},
   "source": [
    "Variables types can be inferred by the compiler during initialisation"
   ]
  },
  {
   "cell_type": "code",
   "metadata": {
    "ExecuteTime": {
     "end_time": "2025-08-18T14:59:56.225681Z",
     "start_time": "2025-08-18T14:59:56.172159Z"
    }
   },
   "source": [
    "var message = \"Hello\"\n",
    "val total = sum(2, 1)\n",
    "println(message)\n",
    "print(total)"
   ],
   "outputs": [
    {
     "name": "stdout",
     "output_type": "stream",
     "text": [
      "Hello\n",
      "3"
     ]
    }
   ],
   "execution_count": 45
  },
  {
   "cell_type": "markdown",
   "metadata": {},
   "source": [
    "Kotlin supports string interpolation (or string templates)"
   ]
  },
  {
   "cell_type": "code",
   "metadata": {
    "ExecuteTime": {
     "end_time": "2025-08-18T14:59:56.296638Z",
     "start_time": "2025-08-18T14:59:56.260255Z"
    }
   },
   "source": [
    "\"The sum is $total\""
   ],
   "outputs": [
    {
     "data": {
      "text/plain": [
       "The sum is 3"
      ]
     },
     "execution_count": 46,
     "metadata": {},
     "output_type": "execute_result"
    }
   ],
   "execution_count": 46
  },
  {
   "cell_type": "markdown",
   "metadata": {},
   "source": [
    "We can even write complex expressions"
   ]
  },
  {
   "cell_type": "code",
   "metadata": {
    "ExecuteTime": {
     "end_time": "2025-08-18T14:59:56.345051Z",
     "start_time": "2025-08-18T14:59:56.305362Z"
    }
   },
   "source": [
    "import kotlin.random.Random\n",
    "\n",
    "\"Is generated random number even ? ${Random.nextInt(0, 10) % 2 == 0}\""
   ],
   "outputs": [
    {
     "data": {
      "text/plain": [
       "Is generated random number even ? true"
      ]
     },
     "execution_count": 47,
     "metadata": {},
     "output_type": "execute_result"
    }
   ],
   "execution_count": 47
  },
  {
   "cell_type": "markdown",
   "metadata": {},
   "source": [
    "`if` and `when` (equivalent of Java's `switch` are expressions)"
   ]
  },
  {
   "cell_type": "code",
   "metadata": {
    "ExecuteTime": {
     "end_time": "2025-08-18T14:59:56.395941Z",
     "start_time": "2025-08-18T14:59:56.361952Z"
    }
   },
   "source": [
    "val testResult1 = if (total > 3) {\n",
    "    \"Big\"\n",
    "} else {\n",
    "    \"small\"\n",
    "}\n",
    "testResult1"
   ],
   "outputs": [
    {
     "data": {
      "text/plain": [
       "small"
      ]
     },
     "execution_count": 48,
     "metadata": {},
     "output_type": "execute_result"
    }
   ],
   "execution_count": 48
  },
  {
   "cell_type": "code",
   "metadata": {
    "ExecuteTime": {
     "end_time": "2025-08-18T14:59:56.442707Z",
     "start_time": "2025-08-18T14:59:56.404184Z"
    }
   },
   "source": [
    "val greeting = \"Bonjour\"\n",
    "val language = when (greeting) {\n",
    "    \"Bonjour\", \"salut\" -> \"Français\"\n",
    "    \"Good morning\" -> \"English\"\n",
    "    else -> \"Unknown\"\n",
    "}\n",
    "language"
   ],
   "outputs": [
    {
     "data": {
      "text/plain": [
       "Français"
      ]
     },
     "execution_count": 49,
     "metadata": {},
     "output_type": "execute_result"
    }
   ],
   "execution_count": 49
  },
  {
   "cell_type": "markdown",
   "metadata": {},
   "source": [
    "Ternary operation is not available since this can be achieved with a single line `if`"
   ]
  },
  {
   "cell_type": "code",
   "metadata": {
    "ExecuteTime": {
     "end_time": "2025-08-18T14:59:56.501070Z",
     "start_time": "2025-08-18T14:59:56.450979Z"
    }
   },
   "source": [
    "val testResult2 = if (total > 3) \"Big\" else \"small\"\n",
    "testResult2"
   ],
   "outputs": [
    {
     "data": {
      "text/plain": [
       "small"
      ]
     },
     "execution_count": 50,
     "metadata": {},
     "output_type": "execute_result"
    }
   ],
   "execution_count": 50
  },
  {
   "cell_type": "markdown",
   "metadata": {},
   "source": [
    "Ranges are objects that allow to write nice for loops"
   ]
  },
  {
   "cell_type": "code",
   "metadata": {
    "ExecuteTime": {
     "end_time": "2025-08-18T14:59:56.610848Z",
     "start_time": "2025-08-18T14:59:56.522596Z"
    }
   },
   "source": [
    "val range = 1..3\n",
    "\"range: $range, first: ${range.first}, last: ${range.last}, step: ${range.step}\""
   ],
   "outputs": [
    {
     "data": {
      "text/plain": [
       "range: 1..3, first: 1, last: 3, step: 1"
      ]
     },
     "execution_count": 51,
     "metadata": {},
     "output_type": "execute_result"
    }
   ],
   "execution_count": 51
  },
  {
   "cell_type": "markdown",
   "metadata": {},
   "source": [
    "For loop are much easier to write and read"
   ]
  },
  {
   "cell_type": "code",
   "metadata": {
    "ExecuteTime": {
     "end_time": "2025-08-18T14:59:56.737345Z",
     "start_time": "2025-08-18T14:59:56.633251Z"
    }
   },
   "source": [
    "for (i in 1..3) println(i)"
   ],
   "outputs": [
    {
     "name": "stdout",
     "output_type": "stream",
     "text": [
      "1\n",
      "2\n",
      "3\n"
     ]
    }
   ],
   "execution_count": 52
  },
  {
   "cell_type": "markdown",
   "metadata": {},
   "source": [
    "Looping through collections uses the same `for in` syntax. Kotlin thus has a universal loop syntax."
   ]
  },
  {
   "cell_type": "code",
   "metadata": {
    "ExecuteTime": {
     "end_time": "2025-08-18T14:59:56.898420Z",
     "start_time": "2025-08-18T14:59:56.749671Z"
    }
   },
   "source": [
    "val words = listOf(\"Java\", \"Zone\", \"2025\")\n",
    "for (word in words){\n",
    "    println(word)\n",
    "}\n",
    "\n",
    "val emojiSymbols = mapOf(\"hand\" to \"✋\", \"eyes\" to \"👀\")\n",
    "for (emojiSymbol in emojiSymbols){\n",
    "    println(\"${emojiSymbol.key} -> ${emojiSymbol.value}\")\n",
    "}\n",
    "//or\n",
    "for ((key, value) in emojiSymbols){\n",
    "    println(\"${key} -> ${value}\")\n",
    "}"
   ],
   "outputs": [
    {
     "name": "stdout",
     "output_type": "stream",
     "text": [
      "Java\n",
      "Zone\n",
      "2025\n",
      "hand -> ✋\n",
      "eyes -> 👀\n",
      "hand -> ✋\n",
      "eyes -> 👀\n"
     ]
    }
   ],
   "execution_count": 53
  },
  {
   "cell_type": "markdown",
   "metadata": {},
   "source": [
    "## Functions\n",
    "\n",
    "### One-line functions\n",
    "\n",
    "One-line functions can be declared with the `=` operator"
   ]
  },
  {
   "cell_type": "code",
   "metadata": {
    "ExecuteTime": {
     "end_time": "2025-08-18T14:59:57.090222Z",
     "start_time": "2025-08-18T14:59:56.912539Z"
    }
   },
   "source": [
    "fun mult(x:Int, y: Int) = x * y\n",
    "\n",
    "mult(-6, 4)"
   ],
   "outputs": [
    {
     "data": {
      "text/plain": [
       "-24"
      ]
     },
     "execution_count": 54,
     "metadata": {},
     "output_type": "execute_result"
    }
   ],
   "execution_count": 54
  },
  {
   "cell_type": "markdown",
   "metadata": {},
   "source": [
    "This is an example of a consice function that takes advantage of single-line functions and `when` expressions"
   ]
  },
  {
   "cell_type": "code",
   "metadata": {
    "ExecuteTime": {
     "end_time": "2025-08-18T14:59:57.230619Z",
     "start_time": "2025-08-18T14:59:57.109852Z"
    }
   },
   "source": [
    "fun detectLanguage(greeting: String) = when (greeting) {\n",
    "    \"Bonjour\", \"salut\" -> \"Français\"\n",
    "    \"Good morning\" -> \"English\"\n",
    "    else -> \"Unknown\"\n",
    "}\n",
    "\n",
    "val language = detectLanguage(\"Good morning\")\n",
    "language"
   ],
   "outputs": [
    {
     "data": {
      "text/plain": [
       "English"
      ]
     },
     "execution_count": 55,
     "metadata": {},
     "output_type": "execute_result"
    }
   ],
   "execution_count": 55
  },
  {
   "cell_type": "markdown",
   "metadata": {},
   "source": [
    "### Named and optional arguments\n",
    "\n",
    "In additional to positional arguments, functions can be called with named arguments. The order of arguments is not relevant in this case."
   ]
  },
  {
   "cell_type": "code",
   "metadata": {
    "ExecuteTime": {
     "end_time": "2025-08-18T14:59:57.398922Z",
     "start_time": "2025-08-18T14:59:57.343987Z"
    }
   },
   "source": [
    "mult(x = -5, y = 100)"
   ],
   "outputs": [
    {
     "data": {
      "text/plain": [
       "-500"
      ]
     },
     "execution_count": 56,
     "metadata": {},
     "output_type": "execute_result"
    }
   ],
   "execution_count": 56
  },
  {
   "cell_type": "code",
   "metadata": {
    "ExecuteTime": {
     "end_time": "2025-08-18T14:59:57.507937Z",
     "start_time": "2025-08-18T14:59:57.455164Z"
    }
   },
   "source": [
    "mult(y = 100, x = -5)"
   ],
   "outputs": [
    {
     "data": {
      "text/plain": [
       "-500"
      ]
     },
     "execution_count": 57,
     "metadata": {},
     "output_type": "execute_result"
    }
   ],
   "execution_count": 57
  },
  {
   "cell_type": "markdown",
   "metadata": {},
   "source": [
    "Functions support default values\n"
   ]
  },
  {
   "cell_type": "code",
   "metadata": {
    "ExecuteTime": {
     "end_time": "2025-08-18T14:59:57.577278Z",
     "start_time": "2025-08-18T14:59:57.531899Z"
    }
   },
   "source": [
    "fun greet(year: Int = 2018, month: Int = 1, message: String = \"Hello\") : String {\n",
    "    return \"${message}. We are in ${month}/${year}\"\n",
    "}"
   ],
   "outputs": [],
   "execution_count": 58
  },
  {
   "cell_type": "code",
   "metadata": {
    "ExecuteTime": {
     "end_time": "2025-08-18T14:59:57.697864Z",
     "start_time": "2025-08-18T14:59:57.623035Z"
    }
   },
   "source": [
    "greet(2025, 9, \"JavaZone\")"
   ],
   "outputs": [
    {
     "data": {
      "text/plain": [
       "JavaZone. We are in 9/2025"
      ]
     },
     "execution_count": 59,
     "metadata": {},
     "output_type": "execute_result"
    }
   ],
   "execution_count": 59
  },
  {
   "cell_type": "code",
   "metadata": {
    "ExecuteTime": {
     "end_time": "2025-08-18T14:59:57.763718Z",
     "start_time": "2025-08-18T14:59:57.741388Z"
    }
   },
   "source": [
    "greet()"
   ],
   "outputs": [
    {
     "data": {
      "text/plain": [
       "Hello. We are in 1/2018"
      ]
     },
     "execution_count": 60,
     "metadata": {},
     "output_type": "execute_result"
    }
   ],
   "execution_count": 60
  },
  {
   "cell_type": "markdown",
   "metadata": {},
   "source": [
    "Named and optional arguments can be combined to write sleeker code"
   ]
  },
  {
   "cell_type": "code",
   "metadata": {
    "ExecuteTime": {
     "end_time": "2025-08-18T14:59:57.851081Z",
     "start_time": "2025-08-18T14:59:57.798158Z"
    }
   },
   "source": [
    "greet(year = 2025, month = 9)"
   ],
   "outputs": [
    {
     "data": {
      "text/plain": [
       "Hello. We are in 9/2025"
      ]
     },
     "execution_count": 61,
     "metadata": {},
     "output_type": "execute_result"
    }
   ],
   "execution_count": 61
  },
  {
   "cell_type": "markdown",
   "metadata": {},
   "source": [
    "### Functions as first class citizens\n",
    "\n"
   ]
  },
  {
   "cell_type": "markdown",
   "metadata": {},
   "source": [
    "Functions are first-class citizens in Kotlin.\n",
    "This means that functions can be manipulated in a similar way than variables: we can assign them to variables, pass them as function arguments and return them from a function."
   ]
  },
  {
   "cell_type": "markdown",
   "metadata": {},
   "source": [
    "Assign function to a variable with `class::functionName` or `::functionName` if it is a global function.\n",
    "The type of `f` below is `(Int, Int) -> Int` (function that takes two ints and returns and int)"
   ]
  },
  {
   "cell_type": "code",
   "metadata": {
    "ExecuteTime": {
     "end_time": "2025-08-18T14:59:58.010306Z",
     "start_time": "2025-08-18T14:59:57.902917Z"
    }
   },
   "source": [
    "fun subtract(x: Int, y: Int) = x - y\n",
    "\n",
    "val f = ::subtract\n",
    "\n",
    "f(6, 4)"
   ],
   "outputs": [
    {
     "data": {
      "text/plain": [
       "2"
      ]
     },
     "execution_count": 62,
     "metadata": {},
     "output_type": "execute_result"
    }
   ],
   "execution_count": 62
  },
  {
   "cell_type": "markdown",
   "metadata": {},
   "source": [
    "Assign an anonymous function to a variable"
   ]
  },
  {
   "cell_type": "code",
   "metadata": {
    "ExecuteTime": {
     "end_time": "2025-08-18T14:59:58.139913Z",
     "start_time": "2025-08-18T14:59:58.067016Z"
    }
   },
   "source": [
    "val computeMax = {x: Int, y: Int -> max(x, y)}\n",
    "\n",
    "computeMax(6, -7)"
   ],
   "outputs": [
    {
     "data": {
      "text/plain": [
       "6"
      ]
     },
     "execution_count": 63,
     "metadata": {},
     "output_type": "execute_result"
    }
   ],
   "execution_count": 63
  },
  {
   "cell_type": "markdown",
   "metadata": {},
   "source": [
    "Functions can take other functions as arguments. `f` is a function that takes two ints and returns an int).\n",
    "`calculate` is called a higher-order function because it takes a function (`f` in this example) as an argument"
   ]
  },
  {
   "cell_type": "code",
   "metadata": {
    "ExecuteTime": {
     "end_time": "2025-08-18T14:59:58.297873Z",
     "start_time": "2025-08-18T14:59:58.220360Z"
    }
   },
   "source": [
    "fun applyCalculus(x: Int, y: Int, f: (Int, Int) -> Int) : Int{\n",
    "    println(\"Calling the third argument on $x and $y\")\n",
    "    val result = f(x, y)\n",
    "    println(\"The result is $result\")\n",
    "    return result\n",
    "}"
   ],
   "outputs": [],
   "execution_count": 64
  },
  {
   "cell_type": "markdown",
   "metadata": {},
   "source": [
    "There are many ways to call this function.\n",
    "\n",
    "By passing a reference to existing function to the third argument"
   ]
  },
  {
   "cell_type": "code",
   "metadata": {
    "ExecuteTime": {
     "end_time": "2025-08-18T14:59:58.424966Z",
     "start_time": "2025-08-18T14:59:58.357433Z"
    }
   },
   "source": [
    "applyCalculus(6, 4, ::subtract)"
   ],
   "outputs": [
    {
     "name": "stdout",
     "output_type": "stream",
     "text": [
      "Calling the third argument on 6 and 4\n",
      "The result is 2\n"
     ]
    },
    {
     "data": {
      "text/plain": [
       "2"
      ]
     },
     "execution_count": 65,
     "metadata": {},
     "output_type": "execute_result"
    }
   ],
   "execution_count": 65
  },
  {
   "cell_type": "markdown",
   "metadata": {},
   "source": [
    "By passing a variable that references a function (:: are not needed in this case)"
   ]
  },
  {
   "cell_type": "code",
   "metadata": {
    "ExecuteTime": {
     "end_time": "2025-08-18T14:59:58.489570Z",
     "start_time": "2025-08-18T14:59:58.453469Z"
    }
   },
   "source": [
    "applyCalculus(-7, 90, computeMax)"
   ],
   "outputs": [
    {
     "name": "stdout",
     "output_type": "stream",
     "text": [
      "Calling the third argument on -7 and 90\n",
      "The result is 90\n"
     ]
    },
    {
     "data": {
      "text/plain": [
       "90"
      ]
     },
     "execution_count": 66,
     "metadata": {},
     "output_type": "execute_result"
    }
   ],
   "execution_count": 66
  },
  {
   "cell_type": "markdown",
   "metadata": {},
   "source": [
    "Using an anonymous function"
   ]
  },
  {
   "cell_type": "code",
   "metadata": {
    "ExecuteTime": {
     "end_time": "2025-08-18T14:59:58.595846Z",
     "start_time": "2025-08-18T14:59:58.535615Z"
    }
   },
   "source": [
    "applyCalculus(-7, 90, { x, y ->\n",
    "    if (x % 2 == 0) x else y\n",
    "})"
   ],
   "outputs": [
    {
     "name": "stdout",
     "output_type": "stream",
     "text": [
      "Calling the third argument on -7 and 90\n",
      "The result is 90\n"
     ]
    },
    {
     "data": {
      "text/plain": [
       "90"
      ]
     },
     "execution_count": 67,
     "metadata": {},
     "output_type": "execute_result"
    }
   ],
   "execution_count": 67
  },
  {
   "cell_type": "markdown",
   "metadata": {},
   "source": [
    "When the last argument is an anonymous function, the closing parenthesis can be placed on the argument before it"
   ]
  },
  {
   "cell_type": "code",
   "metadata": {
    "ExecuteTime": {
     "end_time": "2025-08-18T14:59:58.703532Z",
     "start_time": "2025-08-18T14:59:58.646508Z"
    }
   },
   "source": [
    "applyCalculus(9, 5) { x, y -> x * y }"
   ],
   "outputs": [
    {
     "name": "stdout",
     "output_type": "stream",
     "text": [
      "Calling the third argument on 9 and 5\n",
      "The result is 45\n"
     ]
    },
    {
     "data": {
      "text/plain": [
       "45"
      ]
     },
     "execution_count": 68,
     "metadata": {},
     "output_type": "execute_result"
    }
   ],
   "execution_count": 68
  },
  {
   "cell_type": "markdown",
   "metadata": {},
   "source": [
    "If a higher-order function has only one argument (the function argument), then the parenthesis can be omitted.\n",
    "In addition to that, if the function argument takes only one argument, then kotlin assigns it to an implicit variable called `it`"
   ]
  },
  {
   "cell_type": "code",
   "metadata": {
    "ExecuteTime": {
     "end_time": "2025-08-18T14:59:58.867354Z",
     "start_time": "2025-08-18T14:59:58.722169Z"
    }
   },
   "source": [
    "fun callTwice(f: (String) -> Unit) {\n",
    "    f(\"Hello\")\n",
    "    f(\"JavaZone 2025\")\n",
    "}\n",
    "\n",
    "callTwice { message ->\n",
    "    println(message)\n",
    "}\n",
    "\n",
    "callTwice {\n",
    "    print(\"Using the implicit it which has a length of ${it.length} - \")\n",
    "    println(\"$it!\")\n",
    "}"
   ],
   "outputs": [
    {
     "name": "stdout",
     "output_type": "stream",
     "text": [
      "Hello\n",
      "JavaZone 2025\n",
      "Using the implicit it which has a length of 5 - Hello!\n",
      "Using the implicit it which has a length of 13 - JavaZone 2025!\n"
     ]
    }
   ],
   "execution_count": 69
  },
  {
   "cell_type": "markdown",
   "metadata": {
    "notebookRunGroups": {
     "groupValue": "1"
    }
   },
   "source": [
    "## Null safety\n",
    "\n",
    "Kotlin types do not accept null as values, unless the type explicitly ends with a ?. In that case, it is called a **nullable** type.\n",
    "\n",
    "These checks are done at **compile time**."
   ]
  },
  {
   "metadata": {
    "ExecuteTime": {
     "end_time": "2025-08-18T14:59:58.952498Z",
     "start_time": "2025-08-18T14:59:58.886980Z"
    }
   },
   "cell_type": "code",
   "source": [
    "var s = \"Hello\"\n",
    "// s = null\n",
    "// at Cell In[29], line 2, column 5: Null can not be a value of a non-null type String\n",
    "\n",
    "var s2: String? = \"Hello\"\n",
    "s2 = null\n",
    "s2"
   ],
   "outputs": [
    {
     "data": {
      "text/plain": [
       "null"
      ]
     },
     "execution_count": 70,
     "metadata": {},
     "output_type": "execute_result"
    }
   ],
   "execution_count": 70
  },
  {
   "metadata": {},
   "cell_type": "markdown",
   "source": "A non-nullable type can be assigned to its nullable equivalent, but not the opposite."
  },
  {
   "metadata": {
    "ExecuteTime": {
     "end_time": "2025-08-18T14:59:59.082299Z",
     "start_time": "2025-08-18T14:59:59.038328Z"
    }
   },
   "cell_type": "code",
   "source": [
    "s2 = s\n",
    "s2\n",
    "\n",
    "// s = s2\n",
    "// Type mismatch: inferred type is String? but String was expected"
   ],
   "outputs": [
    {
     "data": {
      "text/plain": [
       "Hello"
      ]
     },
     "execution_count": 71,
     "metadata": {},
     "output_type": "execute_result"
    }
   ],
   "execution_count": 71
  },
  {
   "metadata": {},
   "cell_type": "markdown",
   "source": "This means that some functions designed to take non-nullables cannot accept nullables."
  },
  {
   "metadata": {
    "ExecuteTime": {
     "end_time": "2025-08-18T14:59:59.167390Z",
     "start_time": "2025-08-18T14:59:59.114702Z"
    }
   },
   "cell_type": "code",
   "source": [
    "//String.format(s2)\n",
    "//Type mismatch: inferred type is String? but String was expected"
   ],
   "outputs": [],
   "execution_count": 72
  },
  {
   "metadata": {},
   "cell_type": "markdown",
   "source": [
    "In Kotlin, we try to get rid of nullables whenever possible and there are many ways to do it.\n",
    "Let's see some examples through a function that takes a nullable and returns a non-nullable.\n",
    "\n",
    "First, let's use smart casting which automatically infers the type based on previous conditions."
   ]
  },
  {
   "cell_type": "code",
   "metadata": {
    "ExecuteTime": {
     "end_time": "2025-08-18T14:59:59.357151Z",
     "start_time": "2025-08-18T14:59:59.245983Z"
    }
   },
   "source": [
    "fun capitalizeFirstOrDefault(text: String?, default: String): String {\n",
    "    if(text == null){\n",
    "        return default\n",
    "    }\n",
    "    // In this point forward text is of type String\n",
    "    return text.first().uppercase()\n",
    "}\n",
    "println(capitalizeFirstOrDefault(\"Hello\", \"W\"))\n",
    "println(capitalizeFirstOrDefault(null, \"W\"))"
   ],
   "outputs": [
    {
     "name": "stdout",
     "output_type": "stream",
     "text": [
      "H\n",
      "W\n"
     ]
    }
   ],
   "execution_count": 73
  },
  {
   "metadata": {},
   "cell_type": "markdown",
   "source": "We can also use null chaining with the ? operator. The result is still a nullable though. Thus, we need to convert the result into a non-nullable."
  },
  {
   "metadata": {
    "ExecuteTime": {
     "end_time": "2025-08-18T14:59:59.887559Z",
     "start_time": "2025-08-18T14:59:59.764032Z"
    }
   },
   "cell_type": "code",
   "source": [
    "fun capitalizeFirstOrDefaultOptChaining(text: String?, default: String): String {\n",
    "    val firstLetter =  text?.first()?.uppercase()\n",
    "    return if (firstLetter == null) default else firstLetter\n",
    "}\n",
    "println(capitalizeFirstOrDefaultOptChaining(\"Hello\", \"W\"))\n",
    "println(capitalizeFirstOrDefaultOptChaining(null, \"W\"))"
   ],
   "outputs": [
    {
     "name": "stdout",
     "output_type": "stream",
     "text": [
      "H\n",
      "W\n"
     ]
    }
   ],
   "execution_count": 74
  },
  {
   "metadata": {},
   "cell_type": "markdown",
   "source": "The elvis operator `?:` allows to more easily provide a default value to a nullable."
  },
  {
   "metadata": {
    "ExecuteTime": {
     "end_time": "2025-08-18T15:00:00.076012Z",
     "start_time": "2025-08-18T14:59:59.985243Z"
    }
   },
   "cell_type": "code",
   "source": [
    "fun capitalizeFirstOrDefaultElvis(text: String?, default: String): String {\n",
    "    return  text?.first()?.uppercase() ?: default\n",
    "}\n",
    "println(capitalizeFirstOrDefaultElvis(\"Hello\", \"W\"))\n",
    "println(capitalizeFirstOrDefaultElvis(null, \"W\"))"
   ],
   "outputs": [
    {
     "name": "stdout",
     "output_type": "stream",
     "text": [
      "H\n",
      "W\n"
     ]
    }
   ],
   "execution_count": 75
  },
  {
   "metadata": {},
   "cell_type": "markdown",
   "source": "We can even make it a single-line function"
  },
  {
   "metadata": {
    "ExecuteTime": {
     "end_time": "2025-08-18T15:00:00.341424Z",
     "start_time": "2025-08-18T15:00:00.180151Z"
    }
   },
   "cell_type": "code",
   "source": [
    "fun capitalizeFirstSingleLine(text: String?, default: String) = text?.first()?.uppercase() ?: default\n",
    "\n",
    "println(capitalizeFirstSingleLine(\"Hello\", \"W\"))\n",
    "println(capitalizeFirstSingleLine(null, \"W\"))"
   ],
   "outputs": [
    {
     "name": "stdout",
     "output_type": "stream",
     "text": [
      "H\n",
      "W\n"
     ]
    }
   ],
   "execution_count": 76
  },
  {
   "cell_type": "markdown",
   "metadata": {},
   "source": [
    "## Collections\n",
    "\n",
    "Kotlin provides out of the box support for collection operations like `map`, `filter`, `reduce`, etc."
   ]
  },
  {
   "cell_type": "code",
   "metadata": {
    "ExecuteTime": {
     "end_time": "2025-08-18T15:00:00.809843Z",
     "start_time": "2025-08-18T15:00:00.436836Z"
    }
   },
   "source": [
    "val fantasyNames = listOf(\"Clebbrer\", \"Sninjur\", \"Moddnaac\", \"Leednat\" ,\"Gierwyst\", \"Zevurig\", \"Claamparairt\", \"Gufapraam\", \"Riemaprast\", \"Bilanjom\")\n",
    "\n",
    "// find names that start with \"G\" or end with \"t\" and return them as capital letters\n",
    "fantasyNames.filter { it.startsWith('G') || it.endsWith('t') }.map { it.uppercase() }\n"
   ],
   "outputs": [
    {
     "data": {
      "text/plain": [
       "[LEEDNAT, GIERWYST, CLAAMPARAIRT, GUFAPRAAM, RIEMAPRAST]"
      ]
     },
     "execution_count": 77,
     "metadata": {},
     "output_type": "execute_result"
    }
   ],
   "execution_count": 77
  },
  {
   "cell_type": "markdown",
   "metadata": {},
   "source": [
    "Ccount the number of vowels. `flapmap` converts a 2d array to a 1d array by concatenating the elements (called a flat operation)"
   ]
  },
  {
   "cell_type": "code",
   "metadata": {
    "ExecuteTime": {
     "end_time": "2025-08-18T15:00:01.225554Z",
     "start_time": "2025-08-18T15:00:00.943896Z"
    }
   },
   "source": [
    "fantasyNames.flatMap{ it.toList() }.filter{ \"aiueo\".contains(it) }.map { 1 }.sum()"
   ],
   "outputs": [
    {
     "data": {
      "text/plain": [
       "31"
      ]
     },
     "execution_count": 78,
     "metadata": {},
     "output_type": "execute_result"
    }
   ],
   "execution_count": 78
  },
  {
   "cell_type": "markdown",
   "metadata": {},
   "source": [
    "Alternative way using `reduce` instead of `sum`"
   ]
  },
  {
   "cell_type": "code",
   "metadata": {
    "ExecuteTime": {
     "end_time": "2025-08-18T15:00:01.465060Z",
     "start_time": "2025-08-18T15:00:01.290806Z"
    }
   },
   "source": [
    "fantasyNames.flatMap{ it.toList() }\n",
    "    .map{ if (\"aiueo\".contains(it)) 1 else 0 }\n",
    "    .reduce { acc, current -> acc + current }"
   ],
   "outputs": [
    {
     "data": {
      "text/plain": [
       "31"
      ]
     },
     "execution_count": 79,
     "metadata": {},
     "output_type": "execute_result"
    }
   ],
   "execution_count": 79
  }
 ],
 "metadata": {
  "kernelspec": {
   "display_name": "Kotlin",
   "language": "kotlin",
   "name": "kotlin"
  },
  "language_info": {
   "codemirror_mode": "text/x-kotlin",
   "file_extension": ".kt",
   "mimetype": "text/x-kotlin",
   "name": "kotlin",
   "nbconvert_exporter": "",
   "pygments_lexer": "kotlin",
   "version": "1.9.23"
  }
 },
 "nbformat": 4,
 "nbformat_minor": 2
}

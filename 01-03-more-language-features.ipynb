{
 "cells": [
  {
   "cell_type": "markdown",
   "metadata": {},
   "source": [
    "# More Kotlin Language features\n",
    "\n",
    "## If ans swift expressions"
   ]
  },
  {
   "metadata": {},
   "cell_type": "markdown",
   "source": "`if` and `when` (equivalent of Java's `switch` are expressions)"
  },
  {
   "metadata": {
    "ExecuteTime": {
     "end_time": "2025-09-02T10:06:57.292905Z",
     "start_time": "2025-09-02T10:06:57.162588Z"
    }
   },
   "cell_type": "code",
   "source": [
    "val total = 5 + 9\n",
    "val testResult1 = if (total > 3) {\n",
    "  \"Big\"\n",
    "} else {\n",
    "  \"small\"\n",
    "}\n",
    "testResult1"
   ],
   "outputs": [
    {
     "data": {
      "text/plain": [
       "Big"
      ]
     },
     "execution_count": 1,
     "metadata": {},
     "output_type": "execute_result"
    }
   ],
   "execution_count": 1
  },
  {
   "metadata": {
    "ExecuteTime": {
     "end_time": "2025-09-02T10:06:57.367519Z",
     "start_time": "2025-09-02T10:06:57.306257Z"
    }
   },
   "cell_type": "code",
   "source": [
    "val greeting = \"Bonjour\"\n",
    "val language = when (greeting) {\n",
    "  \"Bonjour\", \"salut\" -> \"Français\"\n",
    "  \"Good morning\" -> \"English\"\n",
    "  else -> \"Unknown\"\n",
    "}\n",
    "language"
   ],
   "outputs": [
    {
     "data": {
      "text/plain": [
       "Français"
      ]
     },
     "execution_count": 2,
     "metadata": {},
     "output_type": "execute_result"
    }
   ],
   "execution_count": 2
  },
  {
   "metadata": {},
   "cell_type": "markdown",
   "source": "Ternary operation is not available since this can be achieved with a single line `if`"
  },
  {
   "metadata": {
    "ExecuteTime": {
     "end_time": "2025-09-02T10:06:57.431023Z",
     "start_time": "2025-09-02T10:06:57.378124Z"
    }
   },
   "cell_type": "code",
   "source": [
    "val testResult2 = if (total > 3) \"Big\" else \"small\"\n",
    "testResult2"
   ],
   "outputs": [
    {
     "data": {
      "text/plain": [
       "Big"
      ]
     },
     "execution_count": 3,
     "metadata": {},
     "output_type": "execute_result"
    }
   ],
   "execution_count": 3
  },
  {
   "metadata": {},
   "cell_type": "markdown",
   "source": [
    "## Range objects\n",
    "\n",
    "Ranges are objects that allow to write nice for loops"
   ]
  },
  {
   "cell_type": "code",
   "metadata": {
    "ExecuteTime": {
     "end_time": "2025-09-02T10:06:57.534863Z",
     "start_time": "2025-09-02T10:06:57.444987Z"
    }
   },
   "source": [
    "val range = 1..3\n",
    "\"range: $range, first: ${range.first}, last: ${range.last}, step: ${range.step}\""
   ],
   "outputs": [
    {
     "data": {
      "text/plain": [
       "range: 1..3, first: 1, last: 3, step: 1"
      ]
     },
     "execution_count": 4,
     "metadata": {},
     "output_type": "execute_result"
    }
   ],
   "execution_count": 4
  },
  {
   "cell_type": "markdown",
   "metadata": {},
   "source": [
    "For loop are much easier to write and read"
   ]
  },
  {
   "cell_type": "code",
   "metadata": {
    "ExecuteTime": {
     "end_time": "2025-09-02T10:06:57.814292Z",
     "start_time": "2025-09-02T10:06:57.571552Z"
    }
   },
   "source": [
    "for (i in 1..3) println(i)"
   ],
   "outputs": [
    {
     "name": "stdout",
     "output_type": "stream",
     "text": [
      "1\n",
      "2\n",
      "3\n"
     ]
    }
   ],
   "execution_count": 5
  },
  {
   "cell_type": "markdown",
   "metadata": {},
   "source": [
    "## Collections\n",
    "\n",
    "Kotlin, thanks to its standard library, provides out of the box support for collection operations like `map`, `filter`, `reduce`, etc.\n",
    "The declarative API are somewhat similar Java Streams but can feel more natural to use."
   ]
  },
  {
   "metadata": {
    "ExecuteTime": {
     "end_time": "2025-09-02T10:06:58.256392Z",
     "start_time": "2025-09-02T10:06:57.825657Z"
    }
   },
   "cell_type": "code",
   "source": [
    "val fantasyNames = listOf(\n",
    "  \"Clebbrer\",\n",
    "  \"Sninjur\",\n",
    "  \"Moddnaac\",\n",
    "  \"Leednat\",\n",
    "  \"Gierwyst\",\n",
    "  \"Zevurig\",\n",
    "  \"Claamparairt\",\n",
    "  \"Gufapraam\",\n",
    "  \"Riemaprast\",\n",
    "  \"Bilanjom\"\n",
    ")\n",
    "\n",
    "// find names that start with \"G\" or end with \"t\" and return them as capital letters\n",
    "fantasyNames.filter { it.startsWith('G') || it.endsWith('t') }.map { it.uppercase() }\n"
   ],
   "outputs": [
    {
     "data": {
      "text/plain": [
       "[LEEDNAT, GIERWYST, CLAAMPARAIRT, GUFAPRAAM, RIEMAPRAST]"
      ]
     },
     "execution_count": 6,
     "metadata": {},
     "output_type": "execute_result"
    }
   ],
   "execution_count": 6
  },
  {
   "metadata": {},
   "cell_type": "markdown",
   "source": "Ccount the number of vowels. `flapmap` converts a 2d array to a 1d array by concatenating the elements (called a flat operation)"
  },
  {
   "metadata": {
    "ExecuteTime": {
     "end_time": "2025-09-02T10:06:58.562613Z",
     "start_time": "2025-09-02T10:06:58.269357Z"
    }
   },
   "cell_type": "code",
   "source": "fantasyNames.flatMap { it.toList() }.filter { \"aiueo\".contains(it) }.map { 1 }.sum()",
   "outputs": [
    {
     "data": {
      "text/plain": [
       "31"
      ]
     },
     "execution_count": 7,
     "metadata": {},
     "output_type": "execute_result"
    }
   ],
   "execution_count": 7
  },
  {
   "metadata": {},
   "cell_type": "markdown",
   "source": "Alternative way using `reduce` instead of `sum`"
  },
  {
   "metadata": {
    "ExecuteTime": {
     "end_time": "2025-09-02T10:06:58.855628Z",
     "start_time": "2025-09-02T10:06:58.572198Z"
    }
   },
   "cell_type": "code",
   "source": [
    "fantasyNames.flatMap { it.toList() }\n",
    "  .map { if (\"aiueo\".contains(it)) 1 else 0 }\n",
    "  .reduce { acc, current -> acc + current }"
   ],
   "outputs": [
    {
     "data": {
      "text/plain": [
       "31"
      ]
     },
     "execution_count": 8,
     "metadata": {},
     "output_type": "execute_result"
    }
   ],
   "execution_count": 8
  },
  {
   "metadata": {},
   "cell_type": "markdown",
   "source": [
    "## Null safety\n",
    "\n",
    "Kotlin guarantees null safety by distinguishing between nullable and non-nullable types."
   ]
  },
  {
   "metadata": {
    "ExecuteTime": {
     "end_time": "2025-09-02T10:06:59.051746Z",
     "start_time": "2025-09-02T10:06:58.930439Z"
    }
   },
   "cell_type": "code",
   "source": [
    "var s = \"Hello\"\n",
    "// s = null\n",
    "// at Cell In[29], line 2, column 5: Null can not be a value of a non-null type String\n",
    "\n",
    "var s2: String? = \"Hello\"\n",
    "s2 = null\n",
    "s2"
   ],
   "outputs": [
    {
     "data": {
      "text/plain": [
       "null"
      ]
     },
     "execution_count": 9,
     "metadata": {},
     "output_type": "execute_result"
    }
   ],
   "execution_count": 9
  },
  {
   "metadata": {},
   "cell_type": "markdown",
   "source": "A non-nullable type can be assigned to its nullable equivalent, but not the opposite."
  },
  {
   "metadata": {
    "ExecuteTime": {
     "end_time": "2025-09-02T10:06:59.176698Z",
     "start_time": "2025-09-02T10:06:59.074838Z"
    }
   },
   "cell_type": "code",
   "source": [
    "s2 = s\n",
    "s2\n",
    "\n",
    "// s = s2\n",
    "// Type mismatch: inferred type is String? but String was expected"
   ],
   "outputs": [
    {
     "data": {
      "text/plain": [
       "Hello"
      ]
     },
     "execution_count": 10,
     "metadata": {},
     "output_type": "execute_result"
    }
   ],
   "execution_count": 10
  },
  {
   "metadata": {},
   "cell_type": "markdown",
   "source": "This means that some functions designed to take non-nullables cannot accept nullables.\n"
  },
  {
   "metadata": {
    "ExecuteTime": {
     "end_time": "2025-09-02T10:06:59.290594Z",
     "start_time": "2025-09-02T10:06:59.234399Z"
    }
   },
   "cell_type": "code",
   "source": [
    "//String.format(s2)\n",
    "//Type mismatch: inferred type is String? but String was expected"
   ],
   "outputs": [],
   "execution_count": 11
  },
  {
   "metadata": {},
   "cell_type": "markdown",
   "source": [
    "In Kotlin, we try to get rid of nullables whenever possible and there are many ways to do it.\n",
    "Let's see some examples through a function that takes a nullable and returns a non-nullable.\n",
    "\n",
    "First, let's use smart casting which automatically infers the type based on previous conditions."
   ]
  },
  {
   "metadata": {
    "ExecuteTime": {
     "end_time": "2025-09-02T10:06:59.830832Z",
     "start_time": "2025-09-02T10:06:59.684458Z"
    }
   },
   "cell_type": "code",
   "source": [
    "fun capitalizeFirstOrDefault(text: String?, default: String): String {\n",
    "  if (text == null) {\n",
    "    return default\n",
    "  }\n",
    "  // In this point forward text is of type String\n",
    "  return text.first().uppercase()\n",
    "}\n",
    "println(capitalizeFirstOrDefault(\"Hello\", \"W\"))\n",
    "println(capitalizeFirstOrDefault(null, \"W\"))"
   ],
   "outputs": [
    {
     "name": "stdout",
     "output_type": "stream",
     "text": [
      "H\n",
      "W\n"
     ]
    }
   ],
   "execution_count": 12
  },
  {
   "metadata": {},
   "cell_type": "markdown",
   "source": "We can also use null chaining with the ? operator. The result is still a nullable though. Thus, we need to convert the result into a non-nullable."
  },
  {
   "metadata": {
    "ExecuteTime": {
     "end_time": "2025-09-02T10:07:00.064318Z",
     "start_time": "2025-09-02T10:06:59.962641Z"
    }
   },
   "cell_type": "code",
   "source": [
    "fun capitalizeFirstOrDefaultOptChaining(text: String?, default: String): String {\n",
    "  val firstLetter = text?.first()?.uppercase()\n",
    "  return if (firstLetter == null) default else firstLetter\n",
    "}\n",
    "println(capitalizeFirstOrDefaultOptChaining(\"Hello\", \"W\"))\n",
    "println(capitalizeFirstOrDefaultOptChaining(null, \"W\"))"
   ],
   "outputs": [
    {
     "name": "stdout",
     "output_type": "stream",
     "text": [
      "H\n",
      "W\n"
     ]
    }
   ],
   "execution_count": 13
  },
  {
   "metadata": {},
   "cell_type": "markdown",
   "source": "The elvis operator `?:` allows to more easily provide a default value to a nullable."
  },
  {
   "metadata": {
    "ExecuteTime": {
     "end_time": "2025-09-02T10:07:00.269651Z",
     "start_time": "2025-09-02T10:07:00.205455Z"
    }
   },
   "cell_type": "code",
   "source": [
    "fun capitalizeFirstOrDefaultElvis(text: String?, default: String): String {\n",
    "  return text?.first()?.uppercase() ?: default\n",
    "}\n",
    "println(capitalizeFirstOrDefaultElvis(\"Hello\", \"W\"))\n",
    "println(capitalizeFirstOrDefaultElvis(null, \"W\"))"
   ],
   "outputs": [
    {
     "name": "stdout",
     "output_type": "stream",
     "text": [
      "H\n",
      "W\n"
     ]
    }
   ],
   "execution_count": 14
  },
  {
   "metadata": {},
   "cell_type": "markdown",
   "source": "We can even make it a single-line function"
  },
  {
   "metadata": {
    "ExecuteTime": {
     "end_time": "2025-09-02T10:07:00.434647Z",
     "start_time": "2025-09-02T10:07:00.336447Z"
    }
   },
   "cell_type": "code",
   "source": [
    "fun capitalizeFirstSingleLine(text: String?, default: String) = text?.first()?.uppercase() ?: default\n",
    "\n",
    "println(capitalizeFirstSingleLine(\"Hello\", \"W\"))\n",
    "println(capitalizeFirstSingleLine(null, \"W\"))"
   ],
   "outputs": [
    {
     "name": "stdout",
     "output_type": "stream",
     "text": [
      "H\n",
      "W\n"
     ]
    }
   ],
   "execution_count": 15
  },
  {
   "metadata": {},
   "cell_type": "markdown",
   "source": [
    "## Object Oriented Programming\n",
    "\n",
    "- Classes can fit in one line\n",
    "- `val` generates read-only properties\n",
    "- `var` generates mutable properties\n",
    "- getters and setters are generated automatically"
   ]
  },
  {
   "metadata": {
    "ExecuteTime": {
     "end_time": "2025-09-02T10:07:00.791854Z",
     "start_time": "2025-09-02T10:07:00.510745Z"
    }
   },
   "cell_type": "code",
   "source": [
    "class SpaceShip(val maxSpeed: Int, var currentSpeed: Int = 0)\n",
    "\n",
    "val ship1 = SpaceShip(1000, 0)\n",
    "println(ship1.maxSpeed)"
   ],
   "outputs": [
    {
     "name": "stdout",
     "output_type": "stream",
     "text": [
      "1000\n"
     ]
    }
   ],
   "execution_count": 16
  },
  {
   "metadata": {},
   "cell_type": "markdown",
   "source": [
    "- `open`: allows inheritance, because classes and properties are final by default\n",
    "- `init` is the constructor"
   ]
  },
  {
   "metadata": {
    "ExecuteTime": {
     "end_time": "2025-09-02T10:07:01.193158Z",
     "start_time": "2025-09-02T10:07:00.929327Z"
    }
   },
   "cell_type": "code",
   "source": [
    "open class Planet(open val radius: Long) {\n",
    "  var rotationSpeed = 0\n",
    "\n",
    "  // Read-only computed property\n",
    "  val radiusInMeter: Long\n",
    "    get() = radius * 1000\n",
    "}\n",
    "\n",
    "class InhabitedPlanet(override val radius: Long, var population: Long) : Planet(radius) {\n",
    "  init {\n",
    "    println(\"constructor called\")\n",
    "  }\n",
    "\n",
    "  // We can customize the getter and the setter of a propoerty\n",
    "  var populationInBillion: Int\n",
    "    get() = (population / 1_000_000_000).toInt()\n",
    "    set(value) {\n",
    "      population = value.toLong() * 1_000_000_000\n",
    "    }\n",
    "\n",
    "  fun increasePopulation(amount: Long) {\n",
    "    population += amount\n",
    "  }\n",
    "}\n",
    "\n",
    "val earth = InhabitedPlanet(6_371, 7_753_000_000_000)\n",
    "println(earth)\n",
    "println(earth.radius)\n",
    "println(earth.population)\n",
    "earth.population += 1\n",
    "println(earth.population)\n",
    "println(earth.populationInBillion)\n",
    "\n",
    "earth.increasePopulation(100)\n",
    "println(earth.population)\n",
    "println(earth.populationInBillion)"
   ],
   "outputs": [
    {
     "name": "stdout",
     "output_type": "stream",
     "text": [
      "constructor called\n",
      "Line_19_jupyter$InhabitedPlanet@570d827b\n",
      "6371\n",
      "7753000000000\n",
      "7753000000001\n",
      "7753\n",
      "7753000000101\n",
      "7753\n"
     ]
    }
   ],
   "execution_count": 17
  },
  {
   "metadata": {},
   "cell_type": "markdown",
   "source": "Extensions add methods and properties to existing classes. Even ones that we didn't define."
  },
  {
   "metadata": {
    "ExecuteTime": {
     "end_time": "2025-09-02T10:07:01.787544Z",
     "start_time": "2025-09-02T10:07:01.581871Z"
    }
   },
   "cell_type": "code",
   "source": [
    "fun String.countLetters(letters: Array<Char>): Int = this.filter { letters.contains(it) }.map { 1 }.sum()\n",
    "\n",
    "val InhabitedPlanet.hasInhabitants: Boolean\n",
    "  get() = population > 0\n",
    "\n",
    "println(\"Hello\".countLetters(arrayOf('H', 'e')))\n",
    "println(earth.hasInhabitants)"
   ],
   "outputs": [
    {
     "name": "stdout",
     "output_type": "stream",
     "text": [
      "2\n",
      "true\n"
     ]
    }
   ],
   "execution_count": 18
  },
  {
   "metadata": {},
   "cell_type": "markdown",
   "source": "`data class` are final classes that generate many useful boilerplate code (`hashCode`, `equals`, `copy`, `toString` and `componentN`)"
  },
  {
   "metadata": {
    "ExecuteTime": {
     "end_time": "2025-09-02T10:07:02.195678Z",
     "start_time": "2025-09-02T10:07:01.886081Z"
    }
   },
   "cell_type": "code",
   "source": [
    "data class SpaceShip(val maxSpeed: Int, var currentSpeed: Int = 0)\n",
    "\n",
    "val ship1 = SpaceShip(1000, 0)\n",
    "val ship2 = SpaceShip(1000, 0)\n",
    "val ship3 = SpaceShip(1000, 10)\n",
    "println(ship1)\n",
    "println(ship1 == ship2)\n",
    "println(ship1 == ship3)\n",
    "\n",
    "println(ship1.component1())\n",
    "println(ship1.component2())\n",
    "\n",
    "// components enable destructuring\n",
    "val (maxSpeed, currentSpeed) = ship2\n",
    "println(\"Max speed: $maxSpeed. Current speed: $currentSpeed\")"
   ],
   "outputs": [
    {
     "name": "stdout",
     "output_type": "stream",
     "text": [
      "SpaceShip(maxSpeed=1000, currentSpeed=0)\n",
      "true\n",
      "false\n",
      "1000\n",
      "0\n",
      "Max speed: 1000. Current speed: 0\n"
     ]
    }
   ],
   "execution_count": 19
  }
 ],
 "metadata": {
  "kernelspec": {
   "display_name": "Kotlin",
   "language": "kotlin",
   "name": "kotlin"
  },
  "language_info": {
   "codemirror_mode": "text/x-kotlin",
   "file_extension": ".kt",
   "mimetype": "text/x-kotlin",
   "name": "kotlin",
   "nbconvert_exporter": "",
   "pygments_lexer": "kotlin",
   "version": "1.9.23"
  }
 },
 "nbformat": 4,
 "nbformat_minor": 2
}

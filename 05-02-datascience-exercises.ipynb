{
 "cells": [
  {
   "cell_type": "markdown",
   "metadata": {},
   "source": [
    "# Datascience exercices\n",
    "\n",
    "Based on Pandas exercises by: [guipsamora/pandas_exercises](https://github.com/guipsamora/pandas_exercises)\n",
    "\n",
    "1. Import the necessary libraries\n",
    "2. Import the dataset from this [address](https://raw.githubusercontent.com/justmarkham/DAT8/master/data/chipotle.tsv).\n",
    "3. Assign it to a variable called chipo.\n",
    "4. See the first 10 entries\n",
    "5. What is the number of observations in the dataset?\n",
    "6. What is the number of columns in the dataset?\n",
    "7. Print the name of all the columns.\n",
    "8. How is the dataset indexed?\n",
    "9. Which was the most-ordered item?\n",
    "10. For the most-ordered item, how many items were ordered?\n",
    "11. What was the most ordered item in the choice_description column?\n",
    "12. How many items were orderd in total?\n",
    "13. Turn the item price into a float\n",
    "    1. Check the item price type\n",
    "    2. Create a lambda function and change the type of item price\n",
    "    3. Check the item price type\n",
    "14. How much was the revenue for the period in the dataset?\n",
    "15. How many orders were made in the period?\n",
    "16. What is the average revenue amount per order?\n",
    "17. How many different items are sold?"
   ]
  }
 ],
 "metadata": {
  "kernelspec": {
   "display_name": "Kotlin",
   "language": "kotlin",
   "name": "kotlin"
  },
  "language_info": {
   "codemirror_mode": "text/x-kotlin",
   "file_extension": ".kt",
   "mimetype": "text/x-kotlin",
   "name": "kotlin",
   "nbconvert_exporter": "",
   "pygments_lexer": "kotlin",
   "version": "1.9.23"
  }
 },
 "nbformat": 4,
 "nbformat_minor": 0
}

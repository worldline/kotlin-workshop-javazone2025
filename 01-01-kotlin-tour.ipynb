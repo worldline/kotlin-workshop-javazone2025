{
 "cells": [
  {
   "cell_type": "markdown",
   "metadata": {},
   "source": [
    "# Kotlin Language features\n",
    "\n",
    "What we will cover:\n",
    "\n",
    "- Basic features\n",
    "- Functions\n",
    "- DSLs\n",
    "- Null safety\n",
    "\n",
    "## Basic features"
   ]
  },
  {
   "cell_type": "markdown",
   "metadata": {},
   "source": [
    "Functions and variables can be declared outside of classes"
   ]
  },
  {
   "cell_type": "code",
   "metadata": {
    "ExecuteTime": {
     "end_time": "2025-08-27T09:33:06.465404Z",
     "start_time": "2025-08-27T09:33:06.406990Z"
    }
   },
   "source": [
    "fun sum(x: Int, y: Int): Int {\n",
    "  return x + y\n",
    "}\n",
    "\n",
    "val globalValue = \"I am a global value\"\n",
    "\n",
    "println(sum(10, 7))\n",
    "print(globalValue)"
   ],
   "outputs": [
    {
     "name": "stdout",
     "output_type": "stream",
     "text": [
      "17\n",
      "I am a global value"
     ]
    }
   ],
   "execution_count": 13
  },
  {
   "cell_type": "markdown",
   "metadata": {},
   "source": [
    "`var` declares a variable. `val` declares a variable that cannot be reassigned (like `final` in Java)"
   ]
  },
  {
   "cell_type": "code",
   "metadata": {
    "ExecuteTime": {
     "end_time": "2025-08-27T09:33:06.544870Z",
     "start_time": "2025-08-27T09:33:06.480487Z"
    }
   },
   "source": [
    "var a: Int = 0\n",
    "a = 23\n",
    "\n",
    "val b: String = \"Hello\""
   ],
   "outputs": [],
   "execution_count": 14
  },
  {
   "cell_type": "markdown",
   "metadata": {},
   "source": [
    "Variables types can be inferred by the compiler during initialisation.\n",
    "Idiomatic Kotlin code usually omits the type when it can be inferred.\n",
    "\n",
    "Typing is static in Kotlin (it does not change)"
   ]
  },
  {
   "cell_type": "code",
   "metadata": {
    "ExecuteTime": {
     "end_time": "2025-08-27T09:33:06.729710Z",
     "start_time": "2025-08-27T09:33:06.556990Z"
    }
   },
   "source": [
    "var message = \"Hello\" // Inferred as String\n",
    "val total = sum(2, 1)\n",
    "println(message)\n",
    "print(total)"
   ],
   "outputs": [
    {
     "name": "stdout",
     "output_type": "stream",
     "text": [
      "Hello\n",
      "3"
     ]
    }
   ],
   "execution_count": 15
  },
  {
   "cell_type": "markdown",
   "metadata": {},
   "source": [
    "Kotlin supports string interpolation (or string templates)"
   ]
  },
  {
   "cell_type": "code",
   "metadata": {
    "ExecuteTime": {
     "end_time": "2025-08-27T09:33:06.800315Z",
     "start_time": "2025-08-27T09:33:06.756238Z"
    }
   },
   "source": [
    "\"The sum is $total\""
   ],
   "outputs": [
    {
     "data": {
      "text/plain": [
       "The sum is 3"
      ]
     },
     "execution_count": 16,
     "metadata": {},
     "output_type": "execute_result"
    }
   ],
   "execution_count": 16
  },
  {
   "cell_type": "markdown",
   "metadata": {},
   "source": "We can even write complex expressions with `${}`"
  },
  {
   "cell_type": "code",
   "metadata": {
    "ExecuteTime": {
     "end_time": "2025-08-27T09:33:06.946398Z",
     "start_time": "2025-08-27T09:33:06.826398Z"
    }
   },
   "source": [
    "import kotlin.random.Random\n",
    "\n",
    "\"Is generated random number even ? ${Random.nextInt(0, 10) % 2 == 0}\""
   ],
   "outputs": [
    {
     "data": {
      "text/plain": [
       "Is generated random number even ? true"
      ]
     },
     "execution_count": 17,
     "metadata": {},
     "output_type": "execute_result"
    }
   ],
   "execution_count": 17
  },
  {
   "cell_type": "markdown",
   "metadata": {},
   "source": [
    "Looping through collections uses this `for in` universal syntax"
   ]
  },
  {
   "metadata": {
    "ExecuteTime": {
     "end_time": "2025-08-27T09:33:07.097156Z",
     "start_time": "2025-08-27T09:33:06.983544Z"
    }
   },
   "cell_type": "code",
   "source": "for (i in 1..3) println(i) // 1..3 is a range that includes 1, 2 and 3",
   "outputs": [
    {
     "name": "stdout",
     "output_type": "stream",
     "text": [
      "1\n",
      "2\n",
      "3\n"
     ]
    }
   ],
   "execution_count": 18
  },
  {
   "cell_type": "code",
   "metadata": {
    "ExecuteTime": {
     "end_time": "2025-08-27T09:33:07.351825Z",
     "start_time": "2025-08-27T09:33:07.114887Z"
    }
   },
   "source": [
    "val words = listOf(\"Java\", \"Zone\", \"2025\")\n",
    "for (word in words) {\n",
    "  println(word)\n",
    "}\n",
    "\n",
    "val emojiSymbols = mapOf(\"hand\" to \"✋\", \"eyes\" to \"👀\")\n",
    "for (emojiSymbol in emojiSymbols) {\n",
    "  println(\"${emojiSymbol.key} -> ${emojiSymbol.value}\")\n",
    "}\n",
    "//or\n",
    "for ((key, value) in emojiSymbols) {\n",
    "  println(\"${key} -> ${value}\")\n",
    "}"
   ],
   "outputs": [
    {
     "name": "stdout",
     "output_type": "stream",
     "text": [
      "Java\n",
      "Zone\n",
      "2025\n",
      "hand -> ✋\n",
      "eyes -> 👀\n",
      "hand -> ✋\n",
      "eyes -> 👀\n"
     ]
    }
   ],
   "execution_count": 19
  },
  {
   "metadata": {},
   "cell_type": "markdown",
   "source": "Kotlin supports destructuring declarations"
  },
  {
   "metadata": {
    "ExecuteTime": {
     "end_time": "2025-08-27T09:33:07.492158Z",
     "start_time": "2025-08-27T09:33:07.385001Z"
    }
   },
   "cell_type": "code",
   "source": [
    "val pair = \"hand\" to \"✋\" // equivalent ot Pair(\"hand\", \"✋\") or \"hand\".pair(\"✋\")\n",
    "val (k, v) = pair\n",
    "println(\"key: $k, value: $v\")"
   ],
   "outputs": [
    {
     "name": "stdout",
     "output_type": "stream",
     "text": [
      "key: hand, value: ✋\n"
     ]
    }
   ],
   "execution_count": 20
  },
  {
   "cell_type": "markdown",
   "metadata": {},
   "source": [
    "## Functions\n",
    "\n",
    "### One-line functions\n",
    "\n",
    "One-line functions can be declared with the `=` operator.\n",
    "The return type is inferred by the compiler."
   ]
  },
  {
   "cell_type": "code",
   "metadata": {
    "ExecuteTime": {
     "end_time": "2025-08-27T09:33:07.647543Z",
     "start_time": "2025-08-27T09:33:07.524510Z"
    }
   },
   "source": [
    "fun mult(x: Int, y: Int) = x * y\n",
    "\n",
    "mult(-6, 4)"
   ],
   "outputs": [
    {
     "data": {
      "text/plain": [
       "-24"
      ]
     },
     "execution_count": 21,
     "metadata": {},
     "output_type": "execute_result"
    }
   ],
   "execution_count": 21
  },
  {
   "metadata": {},
   "cell_type": "markdown",
   "source": "`Unit` is the equivalent of `void` in Java. It can be omitted in function declarations."
  },
  {
   "metadata": {
    "ExecuteTime": {
     "end_time": "2025-08-27T09:46:40.736090Z",
     "start_time": "2025-08-27T09:46:40.663493Z"
    }
   },
   "cell_type": "code",
   "source": [
    "fun printQuestion(s: String): Unit {\n",
    "  println(\"$s?\")\n",
    "}\n",
    "printQuestion(\"How are you\")"
   ],
   "outputs": [
    {
     "name": "stdout",
     "output_type": "stream",
     "text": [
      "How are you?\n"
     ]
    }
   ],
   "execution_count": 51
  },
  {
   "cell_type": "markdown",
   "metadata": {},
   "source": [
    "This is an example of a consice function that takes advantage of single-line functions and `when` expressions (equivalent of `switch`.\n",
    "Let's take a look at this example that returns the language of a greeting. Here, `detectLanguage` returns a `String`."
   ]
  },
  {
   "cell_type": "code",
   "metadata": {
    "ExecuteTime": {
     "end_time": "2025-08-27T09:33:07.795189Z",
     "start_time": "2025-08-27T09:33:07.680235Z"
    }
   },
   "source": [
    "fun detectLanguage(greeting: String) = when (greeting) {\n",
    "  \"Bonjour\", \"salut\" -> \"Français\"\n",
    "  \"Good morning\" -> \"English\"\n",
    "  else -> \"Unknown\"\n",
    "}\n",
    "\n",
    "val language = detectLanguage(\"Good morning\")\n",
    "language"
   ],
   "outputs": [
    {
     "data": {
      "text/plain": [
       "English"
      ]
     },
     "execution_count": 22,
     "metadata": {},
     "output_type": "execute_result"
    }
   ],
   "execution_count": 22
  },
  {
   "cell_type": "markdown",
   "metadata": {},
   "source": [
    "A function name can be written as a natural sentence by using backticks.\n",
    "This is particularly useful for naming tests functions."
   ]
  },
  {
   "cell_type": "code",
   "metadata": {
    "ExecuteTime": {
     "end_time": "2025-08-27T09:33:07.961825Z",
     "start_time": "2025-08-27T09:33:07.813460Z"
    }
   },
   "source": [
    "fun `Add two integers`() {\n",
    "  assert(sum(-8, 10) == 2)\n",
    "}\n",
    "\n",
    "`Add two integers`()"
   ],
   "outputs": [],
   "execution_count": 23
  },
  {
   "metadata": {},
   "cell_type": "markdown",
   "source": "This is also possible for any identifier, including variable names."
  },
  {
   "metadata": {
    "ExecuteTime": {
     "end_time": "2025-08-27T09:33:08.097461Z",
     "start_time": "2025-08-27T09:33:07.980267Z"
    }
   },
   "cell_type": "code",
   "source": [
    "val `Hello JavaZone 2025` = \"Hello JavaZone 2025\"\n",
    "`Hello JavaZone 2025`"
   ],
   "outputs": [
    {
     "data": {
      "text/plain": [
       "Hello JavaZone 2025"
      ]
     },
     "execution_count": 24,
     "metadata": {},
     "output_type": "execute_result"
    }
   ],
   "execution_count": 24
  },
  {
   "metadata": {},
   "cell_type": "markdown",
   "source": "And also classes"
  },
  {
   "metadata": {
    "ExecuteTime": {
     "end_time": "2025-08-27T09:33:08.349759Z",
     "start_time": "2025-08-27T09:33:08.240246Z"
    }
   },
   "cell_type": "code",
   "source": [
    "class `I am a class`()\n",
    "\n",
    "val obj = `I am a class`()\n",
    "obj"
   ],
   "outputs": [
    {
     "data": {
      "text/plain": [
       "Line_27_jupyter$I am a class@745d67cd"
      ]
     },
     "execution_count": 25,
     "metadata": {},
     "output_type": "execute_result"
    }
   ],
   "execution_count": 25
  },
  {
   "cell_type": "markdown",
   "metadata": {},
   "source": [
    "### Named and optional arguments\n",
    "\n",
    "In additional to positional arguments, functions can be called with named arguments. The order of arguments is not relevant in this case."
   ]
  },
  {
   "cell_type": "code",
   "metadata": {
    "ExecuteTime": {
     "end_time": "2025-08-27T09:33:08.582735Z",
     "start_time": "2025-08-27T09:33:08.522927Z"
    }
   },
   "source": [
    "mult(x = -5, y = 100)"
   ],
   "outputs": [
    {
     "data": {
      "text/plain": [
       "-500"
      ]
     },
     "execution_count": 26,
     "metadata": {},
     "output_type": "execute_result"
    }
   ],
   "execution_count": 26
  },
  {
   "cell_type": "code",
   "metadata": {
    "ExecuteTime": {
     "end_time": "2025-08-27T09:33:08.690749Z",
     "start_time": "2025-08-27T09:33:08.629453Z"
    }
   },
   "source": [
    "mult(y = 100, x = -5)"
   ],
   "outputs": [
    {
     "data": {
      "text/plain": [
       "-500"
      ]
     },
     "execution_count": 27,
     "metadata": {},
     "output_type": "execute_result"
    }
   ],
   "execution_count": 27
  },
  {
   "cell_type": "markdown",
   "metadata": {},
   "source": [
    "Functions support default values\n"
   ]
  },
  {
   "cell_type": "code",
   "metadata": {
    "ExecuteTime": {
     "end_time": "2025-08-27T09:33:09.082088Z",
     "start_time": "2025-08-27T09:33:08.914339Z"
    }
   },
   "source": [
    "fun greet(year: Int = 2018, month: Int = 1, message: String = \"Hello\"): String {\n",
    "  return \"${message}. We are in ${month}/${year}\"\n",
    "}"
   ],
   "outputs": [],
   "execution_count": 28
  },
  {
   "cell_type": "code",
   "metadata": {
    "ExecuteTime": {
     "end_time": "2025-08-27T09:33:09.186701Z",
     "start_time": "2025-08-27T09:33:09.131642Z"
    }
   },
   "source": [
    "greet(2025, 9, \"JavaZone\")"
   ],
   "outputs": [
    {
     "data": {
      "text/plain": [
       "JavaZone. We are in 9/2025"
      ]
     },
     "execution_count": 29,
     "metadata": {},
     "output_type": "execute_result"
    }
   ],
   "execution_count": 29
  },
  {
   "cell_type": "code",
   "metadata": {
    "ExecuteTime": {
     "end_time": "2025-08-27T09:33:09.449995Z",
     "start_time": "2025-08-27T09:33:09.366274Z"
    }
   },
   "source": [
    "greet()"
   ],
   "outputs": [
    {
     "data": {
      "text/plain": [
       "Hello. We are in 1/2018"
      ]
     },
     "execution_count": 30,
     "metadata": {},
     "output_type": "execute_result"
    }
   ],
   "execution_count": 30
  },
  {
   "cell_type": "markdown",
   "metadata": {},
   "source": [
    "Named and optional arguments can be combined to write sleeker code"
   ]
  },
  {
   "cell_type": "code",
   "metadata": {
    "ExecuteTime": {
     "end_time": "2025-08-27T09:33:09.860893Z",
     "start_time": "2025-08-27T09:33:09.811088Z"
    }
   },
   "source": [
    "greet(year = 2025, month = 9)"
   ],
   "outputs": [
    {
     "data": {
      "text/plain": [
       "Hello. We are in 9/2025"
      ]
     },
     "execution_count": 31,
     "metadata": {},
     "output_type": "execute_result"
    }
   ],
   "execution_count": 31
  },
  {
   "metadata": {
    "ExecuteTime": {
     "end_time": "2025-08-27T09:33:10.110650Z",
     "start_time": "2025-08-27T09:33:10.069563Z"
    }
   },
   "cell_type": "code",
   "source": "greet(message = \"JavaZone\")",
   "outputs": [
    {
     "data": {
      "text/plain": [
       "JavaZone. We are in 1/2018"
      ]
     },
     "execution_count": 32,
     "metadata": {},
     "output_type": "execute_result"
    }
   ],
   "execution_count": 32
  },
  {
   "cell_type": "markdown",
   "metadata": {},
   "source": [
    "## Function extensions\n",
    "\n",
    "They provide a way to add functions to existing classes without using inheritance.\n",
    "\n",
    "The syntax is:\n",
    "\n",
    "```kotlin\n",
    "fun ReceiverType.newFunctionName(args): returnType {\n",
    "    // this is avaialbe\n",
    "    // implementation\n",
    "}\n",
    "```\n",
    "\n",
    "Here is an example of an extension funtion that adds a `isCurrentJavaZone(year: Int): Boolean` function to the String class."
   ]
  },
  {
   "cell_type": "code",
   "metadata": {
    "ExecuteTime": {
     "end_time": "2025-08-27T09:33:10.258552Z",
     "start_time": "2025-08-27T09:33:10.148704Z"
    }
   },
   "source": [
    "fun String.isCurrentJavaZone(year: Int): Boolean {\n",
    "  val s = \"$this $year\"\n",
    "  return s == \"JavaZone 2025\"\n",
    "}\n",
    "\n",
    "println(\"hello\".isCurrentJavaZone(2025))\n",
    "println(\"JavaZone\".isCurrentJavaZone(2025))"
   ],
   "outputs": [
    {
     "name": "stdout",
     "output_type": "stream",
     "text": [
      "false\n",
      "true\n"
     ]
    }
   ],
   "execution_count": 33
  },
  {
   "cell_type": "markdown",
   "metadata": {},
   "source": [
    "Another example of extesion that adds a `cirleArea(): Double` function to `Int`"
   ]
  },
  {
   "cell_type": "code",
   "metadata": {
    "ExecuteTime": {
     "end_time": "2025-08-27T09:38:33.956593Z",
     "start_time": "2025-08-27T09:38:33.908024Z"
    }
   },
   "source": [
    "fun Int.cirleArea() = this * this * Math.PI\n",
    "\n",
    "2.cirleArea()"
   ],
   "outputs": [
    {
     "data": {
      "text/plain": [
       "12.566370614359172"
      ]
     },
     "execution_count": 50,
     "metadata": {},
     "output_type": "execute_result"
    }
   ],
   "execution_count": 50
  },
  {
   "cell_type": "markdown",
   "metadata": {},
   "source": [
    "### Functions as first class citizens\n",
    "\n"
   ]
  },
  {
   "cell_type": "markdown",
   "metadata": {},
   "source": [
    "Functions are first-class citizens in Kotlin.\n",
    "This means that functions can be manipulated in a similar way than variables: we can assign them to variables, pass them as function arguments and return them from a function."
   ]
  },
  {
   "cell_type": "markdown",
   "metadata": {},
   "source": [
    "Assign function to a variable with `class::functionName` or `::functionName` if it is a global function.\n",
    "The type of `f` below is `(Int, Int) -> Int` (function that takes two ints and returns and int)"
   ]
  },
  {
   "cell_type": "code",
   "metadata": {
    "ExecuteTime": {
     "end_time": "2025-08-27T09:33:11.030879Z",
     "start_time": "2025-08-27T09:33:10.837645Z"
    }
   },
   "source": [
    "fun subtract(x: Int, y: Int) = x - y\n",
    "\n",
    "val f = ::subtract // :: because subtract is a global function\n",
    "\n",
    "f(6, 4)"
   ],
   "outputs": [
    {
     "data": {
      "text/plain": [
       "2"
      ]
     },
     "execution_count": 35,
     "metadata": {},
     "output_type": "execute_result"
    }
   ],
   "execution_count": 35
  },
  {
   "cell_type": "markdown",
   "metadata": {},
   "source": [
    "Assign an anonymous function to a variable"
   ]
  },
  {
   "cell_type": "code",
   "metadata": {
    "ExecuteTime": {
     "end_time": "2025-08-27T09:33:11.481257Z",
     "start_time": "2025-08-27T09:33:11.309893Z"
    }
   },
   "source": [
    "val computeMax = { x: Int, y: Int -> max(x, y) }\n",
    "\n",
    "computeMax(6, -7)"
   ],
   "outputs": [
    {
     "data": {
      "text/plain": [
       "6"
      ]
     },
     "execution_count": 36,
     "metadata": {},
     "output_type": "execute_result"
    }
   ],
   "execution_count": 36
  },
  {
   "cell_type": "markdown",
   "metadata": {},
   "source": [
    "Functions can take other functions as arguments. `f` is a function that takes two ints and returns an int).\n",
    "`calculate` is called a higher-order function because it takes a function (`f` in this example) as an argument"
   ]
  },
  {
   "cell_type": "code",
   "metadata": {
    "ExecuteTime": {
     "end_time": "2025-08-27T09:33:11.827788Z",
     "start_time": "2025-08-27T09:33:11.733174Z"
    }
   },
   "source": [
    "fun applyCalculus(x: Int, y: Int, f: (Int, Int) -> Int): Int {\n",
    "  println(\"Calling the third argument on $x and $y\")\n",
    "  val result = f(x, y)\n",
    "  println(\"The result is $result\")\n",
    "  return result\n",
    "}"
   ],
   "outputs": [],
   "execution_count": 37
  },
  {
   "cell_type": "markdown",
   "metadata": {},
   "source": [
    "There are many ways to call this function.\n",
    "\n",
    "By passing a reference to existing function to the third argument"
   ]
  },
  {
   "cell_type": "code",
   "metadata": {
    "ExecuteTime": {
     "end_time": "2025-08-27T09:33:12.242085Z",
     "start_time": "2025-08-27T09:33:12.127301Z"
    }
   },
   "source": [
    "applyCalculus(6, 4, ::subtract)"
   ],
   "outputs": [
    {
     "name": "stdout",
     "output_type": "stream",
     "text": [
      "Calling the third argument on 6 and 4\n",
      "The result is 2\n"
     ]
    },
    {
     "data": {
      "text/plain": [
       "2"
      ]
     },
     "execution_count": 38,
     "metadata": {},
     "output_type": "execute_result"
    }
   ],
   "execution_count": 38
  },
  {
   "cell_type": "markdown",
   "metadata": {},
   "source": [
    "By passing a variable that references a function (:: are not needed in this case)"
   ]
  },
  {
   "cell_type": "code",
   "metadata": {
    "ExecuteTime": {
     "end_time": "2025-08-27T09:33:12.377800Z",
     "start_time": "2025-08-27T09:33:12.287904Z"
    }
   },
   "source": [
    "applyCalculus(-7, 90, computeMax)"
   ],
   "outputs": [
    {
     "name": "stdout",
     "output_type": "stream",
     "text": [
      "Calling the third argument on -7 and 90\n",
      "The result is 90\n"
     ]
    },
    {
     "data": {
      "text/plain": [
       "90"
      ]
     },
     "execution_count": 39,
     "metadata": {},
     "output_type": "execute_result"
    }
   ],
   "execution_count": 39
  },
  {
   "cell_type": "markdown",
   "metadata": {},
   "source": "Using an anonymous function (please also note that `if` is also an expression in Kotlin)"
  },
  {
   "cell_type": "code",
   "metadata": {
    "ExecuteTime": {
     "end_time": "2025-08-27T09:33:12.644169Z",
     "start_time": "2025-08-27T09:33:12.492432Z"
    }
   },
   "source": [
    "applyCalculus(-7, 90, { x, y ->\n",
    "  if (x % 2 == 0) x else y\n",
    "})"
   ],
   "outputs": [
    {
     "name": "stdout",
     "output_type": "stream",
     "text": [
      "Calling the third argument on -7 and 90\n",
      "The result is 90\n"
     ]
    },
    {
     "data": {
      "text/plain": [
       "90"
      ]
     },
     "execution_count": 40,
     "metadata": {},
     "output_type": "execute_result"
    }
   ],
   "execution_count": 40
  },
  {
   "cell_type": "markdown",
   "metadata": {},
   "source": [
    "When the last argument is an anonymous function, the closing parenthesis can be placed on the argument before it"
   ]
  },
  {
   "cell_type": "code",
   "metadata": {
    "ExecuteTime": {
     "end_time": "2025-08-27T09:33:12.758181Z",
     "start_time": "2025-08-27T09:33:12.701710Z"
    }
   },
   "source": "applyCalculus(9, 5) { x, y -> x * y }",
   "outputs": [
    {
     "name": "stdout",
     "output_type": "stream",
     "text": [
      "Calling the third argument on 9 and 5\n",
      "The result is 45\n"
     ]
    },
    {
     "data": {
      "text/plain": [
       "45"
      ]
     },
     "execution_count": 41,
     "metadata": {},
     "output_type": "execute_result"
    }
   ],
   "execution_count": 41
  },
  {
   "cell_type": "markdown",
   "metadata": {},
   "source": [
    "If a higher-order function has only one argument (the function argument), then the parenthesis can be omitted.\n",
    "In addition to that, if the function argument takes only one argument, then kotlin assigns it to an implicit variable called `it`"
   ]
  },
  {
   "cell_type": "code",
   "metadata": {
    "ExecuteTime": {
     "end_time": "2025-08-27T09:33:13.026798Z",
     "start_time": "2025-08-27T09:33:12.813086Z"
    }
   },
   "source": [
    "fun callTwice(f: (String) -> Unit) {\n",
    "  f(\"Hello\")\n",
    "  f(\"JavaZone 2025\")\n",
    "}\n",
    "\n",
    "callTwice { message ->\n",
    "  println(message)\n",
    "}\n",
    "\n",
    "callTwice {\n",
    "  print(\"Using the implicit it which has a length of ${it.length} - \")\n",
    "  println(\"$it!\")\n",
    "}"
   ],
   "outputs": [
    {
     "name": "stdout",
     "output_type": "stream",
     "text": [
      "Hello\n",
      "JavaZone 2025\n",
      "Using the implicit it which has a length of 5 - Hello!\n",
      "Using the implicit it which has a length of 13 - JavaZone 2025!\n"
     ]
    }
   ],
   "execution_count": 42
  },
  {
   "metadata": {},
   "cell_type": "markdown",
   "source": [
    "A function argument can also be an extensions function.\n",
    "In that case the argument is expressed as follows: `ReveiverType.(arguments) -> ReturnType`.\n",
    "Note that after the dot, we immediately put the `(arguments)` and not the name of the function since it is not needed in that context."
   ]
  },
  {
   "metadata": {
    "ExecuteTime": {
     "end_time": "2025-08-27T13:25:55.978161Z",
     "start_time": "2025-08-27T13:25:55.884745Z"
    }
   },
   "cell_type": "code",
   "source": [
    "fun applyTwiceOnTen(f: Int.() -> Int): Int {\n",
    "  return 10.f().f()\n",
    "}"
   ],
   "outputs": [],
   "execution_count": 68
  },
  {
   "metadata": {},
   "cell_type": "markdown",
   "source": "When we call `applyTwice`, we can use `this` to reference the receiver object (the Int on which the function is called)"
  },
  {
   "metadata": {
    "ExecuteTime": {
     "end_time": "2025-08-27T13:25:57.461365Z",
     "start_time": "2025-08-27T13:25:57.424268Z"
    }
   },
   "cell_type": "code",
   "source": "applyTwiceOnTen { this.plus(3) }",
   "outputs": [
    {
     "data": {
      "text/plain": [
       "16"
      ]
     },
     "execution_count": 69,
     "metadata": {},
     "output_type": "execute_result"
    }
   ],
   "execution_count": 69
  },
  {
   "metadata": {},
   "cell_type": "markdown",
   "source": "Or omit it completely."
  },
  {
   "metadata": {
    "ExecuteTime": {
     "end_time": "2025-08-27T13:25:59.306287Z",
     "start_time": "2025-08-27T13:25:59.272264Z"
    }
   },
   "cell_type": "code",
   "source": "applyTwiceOnTen { plus(6) }",
   "outputs": [
    {
     "data": {
      "text/plain": [
       "22"
      ]
     },
     "execution_count": 70,
     "metadata": {},
     "output_type": "execute_result"
    }
   ],
   "execution_count": 70
  },
  {
   "metadata": {},
   "cell_type": "markdown",
   "source": [
    "This kind syntax is particularly useful when building DSLs.\n",
    "The code should look like this:\n",
    "\n",
    "```kotlin\n",
    "house {\n",
    "  room(\"Living Room\")\n",
    "  room(\"Kitchen\")\n",
    "  room(\"Bedroom\")\n",
    "}\n",
    "```\n",
    "\n",
    "This means that we have a global function called `house` that takes a function as argument.\n",
    "That argument is an extension function on a class (that we'll call `HouseBuilder` by convention) that defines the `room` function.\n",
    "\n",
    "Let's define one for building a `House` with multiple `Room`s.\n",
    "First, let's define the `Room` and `House` data classes."
   ]
  },
  {
   "metadata": {
    "ExecuteTime": {
     "end_time": "2025-08-27T12:56:44.135072Z",
     "start_time": "2025-08-27T12:56:44.000113Z"
    }
   },
   "cell_type": "code",
   "source": [
    "data class Room(val name: String)\n",
    "data class House(val rooms: List<Room>)"
   ],
   "outputs": [],
   "execution_count": 62
  },
  {
   "metadata": {},
   "cell_type": "markdown",
   "source": "Next, let's create a `HouseBuilder` class that defines a `room` function to add rooms and a `build` function to create the house from the list of rooms."
  },
  {
   "metadata": {
    "ExecuteTime": {
     "end_time": "2025-08-27T12:56:45.998572Z",
     "start_time": "2025-08-27T12:56:45.911835Z"
    }
   },
   "cell_type": "code",
   "source": [
    "class HouseBuilder() {\n",
    "  val rooms = mutableListOf<Room>()\n",
    "  fun room(name: String) {\n",
    "    val room = Room(name)\n",
    "    rooms.add(room)\n",
    "  }\n",
    "\n",
    "  fun build() = House(rooms.toList())\n",
    "}"
   ],
   "outputs": [],
   "execution_count": 63
  },
  {
   "metadata": {},
   "cell_type": "markdown",
   "source": [
    "Finally, we can define the `house` function that takes an extension function on `HouseBuilder` as argument.\n",
    "Inside it, at the end, we call the `build` function to create the `House` object."
   ]
  },
  {
   "metadata": {
    "ExecuteTime": {
     "end_time": "2025-08-27T12:58:36.096377Z",
     "start_time": "2025-08-27T12:58:36.062582Z"
    }
   },
   "cell_type": "code",
   "source": [
    "fun house(f: HouseBuilder.() -> Unit): House {\n",
    "  val builder = HouseBuilder()\n",
    "  builder.f()\n",
    "  return builder.build()\n",
    "}"
   ],
   "outputs": [],
   "execution_count": 64
  },
  {
   "metadata": {},
   "cell_type": "markdown",
   "source": [
    "Let's define a house.\n",
    "We can note that inside the lambda, we can call the `room` function directly without any qualifier."
   ]
  },
  {
   "metadata": {
    "ExecuteTime": {
     "end_time": "2025-08-27T12:58:52.236919Z",
     "start_time": "2025-08-27T12:58:52.178753Z"
    }
   },
   "cell_type": "code",
   "source": [
    "val h = house {\n",
    "  room(\"Living Room\")\n",
    "  room(\"Kitchen\")\n",
    "  room(\"Bedroom\")\n",
    "}\n",
    "h"
   ],
   "outputs": [
    {
     "data": {
      "text/plain": [
       "House(rooms=[Room(name=Living Room), Room(name=Kitchen), Room(name=Bedroom)])"
      ]
     },
     "execution_count": 66,
     "metadata": {},
     "output_type": "execute_result"
    }
   ],
   "execution_count": 66
  },
  {
   "metadata": {
    "ExecuteTime": {
     "end_time": "2025-08-27T12:59:04.934541Z",
     "start_time": "2025-08-27T12:59:04.874360Z"
    }
   },
   "cell_type": "code",
   "source": [
    "house {\n",
    "  room(\"Living Room\")\n",
    "  room(\"Kitchen\")\n",
    "  room(\"Bedroom\")\n",
    "  room(\"Bathroom\")\n",
    "  room(\"Office\")\n",
    "}"
   ],
   "outputs": [
    {
     "data": {
      "text/plain": [
       "House(rooms=[Room(name=Living Room), Room(name=Kitchen), Room(name=Bedroom), Room(name=Bathroom), Room(name=Office)])"
      ]
     },
     "execution_count": 67,
     "metadata": {},
     "output_type": "execute_result"
    }
   ],
   "execution_count": 67
  },
  {
   "metadata": {},
   "cell_type": "markdown",
   "source": [
    "## Domain Specific Languages (DSLs)\n",
    "\n",
    "By combining function extensions and higher-order functions, we can create DSLs in Kotlin."
   ]
  },
  {
   "cell_type": "code",
   "metadata": {
    "ExecuteTime": {
     "end_time": "2025-08-27T09:58:42.828587Z",
     "start_time": "2025-08-27T09:58:42.793634Z"
    }
   },
   "source": [
    "var s = \"Hello\"\n",
    "// s = null\n",
    "// at Cell In[29], line 2, column 5: Null can not be a value of a non-null type String\n",
    "\n",
    "var s2: String? = \"Hello\"\n",
    "s2 = null\n",
    "s2"
   ],
   "outputs": [
    {
     "data": {
      "text/plain": [
       "null"
      ]
     },
     "execution_count": 53,
     "metadata": {},
     "output_type": "execute_result"
    }
   ],
   "execution_count": 53
  },
  {
   "cell_type": "markdown",
   "metadata": {},
   "source": [
    "A non-nullable type can be assigned to its nullable equivalent, but not the opposite."
   ]
  },
  {
   "cell_type": "code",
   "metadata": {
    "ExecuteTime": {
     "end_time": "2025-08-27T10:00:48.904360Z",
     "start_time": "2025-08-27T10:00:48.863803Z"
    }
   },
   "source": [
    "s2 = s\n",
    "s2\n",
    "\n",
    "// s = s2\n",
    "// Type mismatch: inferred type is String? but String was expected"
   ],
   "outputs": [
    {
     "data": {
      "text/plain": [
       "Hello"
      ]
     },
     "execution_count": 55,
     "metadata": {},
     "output_type": "execute_result"
    }
   ],
   "execution_count": 55
  },
  {
   "cell_type": "markdown",
   "metadata": {},
   "source": [
    "This means that some functions designed to take non-nullables cannot accept nullables."
   ]
  },
  {
   "cell_type": "code",
   "metadata": {
    "ExecuteTime": {
     "end_time": "2025-08-27T09:33:13.452971Z",
     "start_time": "2025-08-27T09:33:13.411349Z"
    }
   },
   "source": [
    "//String.format(s2)\n",
    "//Type mismatch: inferred type is String? but String was expected"
   ],
   "outputs": [],
   "execution_count": 45
  },
  {
   "cell_type": "markdown",
   "metadata": {},
   "source": [
    "In Kotlin, we try to get rid of nullables whenever possible and there are many ways to do it.\n",
    "Let's see some examples through a function that takes a nullable and returns a non-nullable.\n",
    "\n",
    "First, let's use smart casting which automatically infers the type based on previous conditions."
   ]
  },
  {
   "cell_type": "code",
   "metadata": {
    "ExecuteTime": {
     "end_time": "2025-08-27T09:33:13.668449Z",
     "start_time": "2025-08-27T09:33:13.513983Z"
    }
   },
   "source": [
    "fun capitalizeFirstOrDefault(text: String?, default: String): String {\n",
    "  if (text == null) {\n",
    "    return default\n",
    "  }\n",
    "  // In this point forward text is of type String\n",
    "  return text.first().uppercase()\n",
    "}\n",
    "println(capitalizeFirstOrDefault(\"Hello\", \"W\"))\n",
    "println(capitalizeFirstOrDefault(null, \"W\"))"
   ],
   "outputs": [
    {
     "name": "stdout",
     "output_type": "stream",
     "text": [
      "H\n",
      "W\n"
     ]
    }
   ],
   "execution_count": 46
  },
  {
   "cell_type": "markdown",
   "metadata": {},
   "source": [
    "We can also use null chaining with the ? operator. The result is still a nullable though. Thus, we need to convert the result into a non-nullable."
   ]
  },
  {
   "cell_type": "code",
   "metadata": {
    "ExecuteTime": {
     "end_time": "2025-08-27T09:33:14.001111Z",
     "start_time": "2025-08-27T09:33:13.820281Z"
    }
   },
   "source": [
    "fun capitalizeFirstOrDefaultOptChaining(text: String?, default: String): String {\n",
    "  val firstLetter = text?.first()?.uppercase()\n",
    "  return if (firstLetter == null) default else firstLetter\n",
    "}\n",
    "println(capitalizeFirstOrDefaultOptChaining(\"Hello\", \"W\"))\n",
    "println(capitalizeFirstOrDefaultOptChaining(null, \"W\"))"
   ],
   "outputs": [
    {
     "name": "stdout",
     "output_type": "stream",
     "text": [
      "H\n",
      "W\n"
     ]
    }
   ],
   "execution_count": 47
  },
  {
   "cell_type": "markdown",
   "metadata": {},
   "source": [
    "The elvis operator `?:` allows to more easily provide a default value to a nullable."
   ]
  },
  {
   "cell_type": "code",
   "metadata": {
    "ExecuteTime": {
     "end_time": "2025-08-27T09:33:14.357671Z",
     "start_time": "2025-08-27T09:33:14.146521Z"
    }
   },
   "source": [
    "fun capitalizeFirstOrDefaultElvis(text: String?, default: String): String {\n",
    "  return text?.first()?.uppercase() ?: default\n",
    "}\n",
    "println(capitalizeFirstOrDefaultElvis(\"Hello\", \"W\"))\n",
    "println(capitalizeFirstOrDefaultElvis(null, \"W\"))"
   ],
   "outputs": [
    {
     "name": "stdout",
     "output_type": "stream",
     "text": [
      "H\n",
      "W\n"
     ]
    }
   ],
   "execution_count": 48
  },
  {
   "cell_type": "markdown",
   "metadata": {},
   "source": [
    "We can even make it a single-line function"
   ]
  },
  {
   "cell_type": "code",
   "metadata": {
    "ExecuteTime": {
     "end_time": "2025-08-27T09:33:14.596859Z",
     "start_time": "2025-08-27T09:33:14.518513Z"
    }
   },
   "source": [
    "fun capitalizeFirstSingleLine(text: String?, default: String) = text?.first()?.uppercase() ?: default\n",
    "\n",
    "println(capitalizeFirstSingleLine(\"Hello\", \"W\"))\n",
    "println(capitalizeFirstSingleLine(null, \"W\"))"
   ],
   "outputs": [
    {
     "name": "stdout",
     "output_type": "stream",
     "text": [
      "H\n",
      "W\n"
     ]
    }
   ],
   "execution_count": 49
  },
  {
   "metadata": {},
   "cell_type": "markdown",
   "source": [
    "## References\n",
    "\n",
    "- [Building DSLs in Kotlin](https://www.baeldung.com/kotlin/dsl)"
   ]
  }
 ],
 "metadata": {
  "kernelspec": {
   "display_name": "Kotlin",
   "language": "kotlin",
   "name": "kotlin"
  },
  "language_info": {
   "codemirror_mode": "text/x-kotlin",
   "file_extension": ".kt",
   "mimetype": "text/x-kotlin",
   "name": "kotlin",
   "nbconvert_exporter": "",
   "pygments_lexer": "kotlin",
   "version": "1.9.23"
  }
 },
 "nbformat": 4,
 "nbformat_minor": 2
}

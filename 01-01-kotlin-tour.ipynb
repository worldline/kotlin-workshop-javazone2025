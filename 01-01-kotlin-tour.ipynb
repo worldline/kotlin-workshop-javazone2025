{
 "cells": [
  {
   "cell_type": "markdown",
   "metadata": {},
   "source": [
    "# Kotlin Language features\n",
    "\n",
    "What we will cover:\n",
    "\n",
    "- Basic features\n",
    "- Functions\n",
    "- Null safety\n",
    "\n",
    "## Basic features"
   ]
  },
  {
   "cell_type": "markdown",
   "metadata": {},
   "source": [
    "Functions and variables can be declared outside of classes"
   ]
  },
  {
   "cell_type": "code",
   "metadata": {
    "ExecuteTime": {
     "end_time": "2025-08-19T19:53:43.215396700Z",
     "start_time": "2025-08-19T19:53:42.805435700Z"
    }
   },
   "source": [
    "fun sum(x: Int, y: Int): Int {\n",
    "    return x + y\n",
    "}\n",
    "\n",
    "val globalValue = \"I am a global value\"\n",
    "\n",
    "println(sum(10, 6))\n",
    "print(globalValue)"
   ],
   "outputs": [
    {
     "name": "stdout",
     "output_type": "stream",
     "text": [
      "16\r\n",
      "I am a global value"
     ]
    }
   ],
   "execution_count": 1
  },
  {
   "cell_type": "markdown",
   "metadata": {},
   "source": [
    "`var` declares a variable. `val` declares a variable that cannot be reassigned (like `final` in Java)"
   ]
  },
  {
   "cell_type": "code",
   "metadata": {
    "ExecuteTime": {
     "end_time": "2025-08-19T19:53:43.519481800Z",
     "start_time": "2025-08-19T19:53:43.324597100Z"
    }
   },
   "source": [
    "var a: Int = 0\n",
    "a = 23\n",
    "\n",
    "val b: String = \"Hello\""
   ],
   "outputs": [],
   "execution_count": 2
  },
  {
   "cell_type": "markdown",
   "metadata": {},
   "source": [
    "Variables types can be inferred by the compiler during initialisation"
   ]
  },
  {
   "cell_type": "code",
   "metadata": {
    "ExecuteTime": {
     "end_time": "2025-08-19T19:53:43.781570800Z",
     "start_time": "2025-08-19T19:53:43.561409900Z"
    }
   },
   "source": [
    "var message = \"Hello\"\n",
    "val total = sum(2, 1)\n",
    "println(message)\n",
    "print(total)"
   ],
   "outputs": [
    {
     "name": "stdout",
     "output_type": "stream",
     "text": [
      "Hello\r\n",
      "3"
     ]
    }
   ],
   "execution_count": 3
  },
  {
   "cell_type": "markdown",
   "metadata": {},
   "source": [
    "Kotlin supports string interpolation (or string templates)"
   ]
  },
  {
   "cell_type": "code",
   "metadata": {
    "ExecuteTime": {
     "end_time": "2025-08-19T19:53:44.362094500Z",
     "start_time": "2025-08-19T19:53:44.137056700Z"
    }
   },
   "source": [
    "\"The sum is $total\""
   ],
   "outputs": [
    {
     "data": {
      "text/plain": [
       "The sum is 3"
      ]
     },
     "execution_count": 4,
     "metadata": {},
     "output_type": "execute_result"
    }
   ],
   "execution_count": 4
  },
  {
   "cell_type": "markdown",
   "metadata": {},
   "source": [
    "We can even write complex expressions"
   ]
  },
  {
   "cell_type": "code",
   "metadata": {
    "ExecuteTime": {
     "end_time": "2025-08-19T19:53:44.594717500Z",
     "start_time": "2025-08-19T19:53:44.408031500Z"
    }
   },
   "source": [
    "import kotlin.random.Random\n",
    "\n",
    "\"Is generated random number even ? ${Random.nextInt(0, 10) % 2 == 0}\""
   ],
   "outputs": [
    {
     "data": {
      "text/plain": [
       "Is generated random number even ? false"
      ]
     },
     "execution_count": 5,
     "metadata": {},
     "output_type": "execute_result"
    }
   ],
   "execution_count": 5
  },
  {
   "cell_type": "markdown",
   "metadata": {},
   "source": [
    "`if` and `when` (equivalent of Java's `switch` are expressions)"
   ]
  },
  {
   "cell_type": "code",
   "metadata": {
    "ExecuteTime": {
     "end_time": "2025-08-19T19:53:44.903719600Z",
     "start_time": "2025-08-19T19:53:44.621312100Z"
    }
   },
   "source": [
    "val testResult1 = if (total > 3) {\n",
    "    \"Big\"\n",
    "} else {\n",
    "    \"small\"\n",
    "}\n",
    "testResult1"
   ],
   "outputs": [
    {
     "data": {
      "text/plain": [
       "small"
      ]
     },
     "execution_count": 6,
     "metadata": {},
     "output_type": "execute_result"
    }
   ],
   "execution_count": 6
  },
  {
   "cell_type": "code",
   "metadata": {
    "ExecuteTime": {
     "end_time": "2025-08-19T19:53:45.102942800Z",
     "start_time": "2025-08-19T19:53:44.927904400Z"
    }
   },
   "source": [
    "val greeting = \"Bonjour\"\n",
    "val language = when (greeting) {\n",
    "    \"Bonjour\", \"salut\" -> \"Français\"\n",
    "    \"Good morning\" -> \"English\"\n",
    "    else -> \"Unknown\"\n",
    "}\n",
    "language"
   ],
   "outputs": [
    {
     "data": {
      "text/plain": [
       "Français"
      ]
     },
     "execution_count": 7,
     "metadata": {},
     "output_type": "execute_result"
    }
   ],
   "execution_count": 7
  },
  {
   "cell_type": "markdown",
   "metadata": {},
   "source": [
    "Ternary operation is not available since this can be achieved with a single line `if`"
   ]
  },
  {
   "cell_type": "code",
   "metadata": {
    "ExecuteTime": {
     "end_time": "2025-08-19T19:53:45.327025Z",
     "start_time": "2025-08-19T19:53:45.144549700Z"
    }
   },
   "source": [
    "val testResult2 = if (total > 3) \"Big\" else \"small\"\n",
    "testResult2"
   ],
   "outputs": [
    {
     "data": {
      "text/plain": [
       "small"
      ]
     },
     "execution_count": 8,
     "metadata": {},
     "output_type": "execute_result"
    }
   ],
   "execution_count": 8
  },
  {
   "cell_type": "markdown",
   "metadata": {},
   "source": [
    "Ranges are objects that allow to write nice for loops"
   ]
  },
  {
   "cell_type": "code",
   "metadata": {
    "ExecuteTime": {
     "end_time": "2025-08-19T19:53:45.574263300Z",
     "start_time": "2025-08-19T19:53:45.403277100Z"
    }
   },
   "source": [
    "val range = 1..3\n",
    "\"range: $range, first: ${range.first}, last: ${range.last}, step: ${range.step}\""
   ],
   "outputs": [
    {
     "data": {
      "text/plain": [
       "range: 1..3, first: 1, last: 3, step: 1"
      ]
     },
     "execution_count": 9,
     "metadata": {},
     "output_type": "execute_result"
    }
   ],
   "execution_count": 9
  },
  {
   "cell_type": "markdown",
   "metadata": {},
   "source": [
    "For loop are much easier to write and read"
   ]
  },
  {
   "cell_type": "code",
   "metadata": {
    "ExecuteTime": {
     "end_time": "2025-08-19T19:53:46.022514700Z",
     "start_time": "2025-08-19T19:53:45.699270Z"
    }
   },
   "source": [
    "for (i in 1..3) println(i)"
   ],
   "outputs": [
    {
     "name": "stdout",
     "output_type": "stream",
     "text": [
      "1\r\n",
      "2\r\n",
      "3\r\n"
     ]
    }
   ],
   "execution_count": 10
  },
  {
   "cell_type": "markdown",
   "metadata": {},
   "source": [
    "Looping through collections uses the same `for in` syntax. Kotlin thus has a universal loop syntax."
   ]
  },
  {
   "cell_type": "code",
   "metadata": {
    "ExecuteTime": {
     "end_time": "2025-08-19T19:53:47.336421600Z",
     "start_time": "2025-08-19T19:53:46.128210100Z"
    }
   },
   "source": [
    "val words = listOf(\"Java\", \"Zone\", \"2025\")\n",
    "for (word in words){\n",
    "    println(word)\n",
    "}\n",
    "\n",
    "val emojiSymbols = mapOf(\"hand\" to \"✋\", \"eyes\" to \"👀\")\n",
    "for (emojiSymbol in emojiSymbols){\n",
    "    println(\"${emojiSymbol.key} -> ${emojiSymbol.value}\")\n",
    "}\n",
    "//or\n",
    "for ((key, value) in emojiSymbols){\n",
    "    println(\"${key} -> ${value}\")\n",
    "}"
   ],
   "outputs": [
    {
     "name": "stdout",
     "output_type": "stream",
     "text": [
      "Java\r\n",
      "Zone\r\n",
      "2025\r\n",
      "hand -> ✋\r\n",
      "eyes -> 👀\r\n",
      "hand -> ✋\r\n",
      "eyes -> 👀\r\n"
     ]
    }
   ],
   "execution_count": 11
  },
  {
   "cell_type": "markdown",
   "metadata": {},
   "source": [
    "## Functions\n",
    "\n",
    "### One-line functions\n",
    "\n",
    "One-line functions can be declared with the `=` operator"
   ]
  },
  {
   "cell_type": "code",
   "metadata": {
    "ExecuteTime": {
     "end_time": "2025-08-19T19:53:47.642677900Z",
     "start_time": "2025-08-19T19:53:47.419258200Z"
    }
   },
   "source": [
    "fun mult(x:Int, y: Int) = x * y\n",
    "\n",
    "mult(-6, 4)"
   ],
   "outputs": [
    {
     "data": {
      "text/plain": [
       "-24"
      ]
     },
     "execution_count": 12,
     "metadata": {},
     "output_type": "execute_result"
    }
   ],
   "execution_count": 12
  },
  {
   "cell_type": "markdown",
   "metadata": {},
   "source": [
    "This is an example of a consice function that takes advantage of single-line functions and `when` expressions"
   ]
  },
  {
   "cell_type": "code",
   "metadata": {
    "ExecuteTime": {
     "end_time": "2025-08-19T19:53:47.813470300Z",
     "start_time": "2025-08-19T19:53:47.696409600Z"
    }
   },
   "source": [
    "fun detectLanguage(greeting: String) = when (greeting) {\n",
    "    \"Bonjour\", \"salut\" -> \"Français\"\n",
    "    \"Good morning\" -> \"English\"\n",
    "    else -> \"Unknown\"\n",
    "}\n",
    "\n",
    "val language = detectLanguage(\"Good morning\")\n",
    "language"
   ],
   "outputs": [
    {
     "data": {
      "text/plain": [
       "English"
      ]
     },
     "execution_count": 13,
     "metadata": {},
     "output_type": "execute_result"
    }
   ],
   "execution_count": 13
  },
  {
   "cell_type": "markdown",
   "metadata": {},
   "source": [
    "### Named and optional arguments\n",
    "\n",
    "In additional to positional arguments, functions can be called with named arguments. The order of arguments is not relevant in this case."
   ]
  },
  {
   "cell_type": "code",
   "metadata": {
    "ExecuteTime": {
     "end_time": "2025-08-19T19:53:47.924461100Z",
     "start_time": "2025-08-19T19:53:47.843560200Z"
    }
   },
   "source": [
    "mult(x = -5, y = 100)"
   ],
   "outputs": [
    {
     "data": {
      "text/plain": [
       "-500"
      ]
     },
     "execution_count": 14,
     "metadata": {},
     "output_type": "execute_result"
    }
   ],
   "execution_count": 14
  },
  {
   "cell_type": "code",
   "metadata": {
    "ExecuteTime": {
     "end_time": "2025-08-19T19:53:48.030085800Z",
     "start_time": "2025-08-19T19:53:47.972622500Z"
    }
   },
   "source": [
    "mult(y = 100, x = -5)"
   ],
   "outputs": [
    {
     "data": {
      "text/plain": [
       "-500"
      ]
     },
     "execution_count": 15,
     "metadata": {},
     "output_type": "execute_result"
    }
   ],
   "execution_count": 15
  },
  {
   "cell_type": "markdown",
   "metadata": {},
   "source": [
    "Functions support default values\n"
   ]
  },
  {
   "cell_type": "code",
   "metadata": {
    "ExecuteTime": {
     "end_time": "2025-08-19T19:53:48.217805400Z",
     "start_time": "2025-08-19T19:53:48.051501600Z"
    }
   },
   "source": [
    "fun greet(year: Int = 2018, month: Int = 1, message: String = \"Hello\") : String {\n",
    "    return \"${message}. We are in ${month}/${year}\"\n",
    "}"
   ],
   "outputs": [],
   "execution_count": 16
  },
  {
   "cell_type": "code",
   "metadata": {
    "ExecuteTime": {
     "end_time": "2025-08-19T19:53:48.322551800Z",
     "start_time": "2025-08-19T19:53:48.257147300Z"
    }
   },
   "source": [
    "greet(2025, 9, \"JavaZone\")"
   ],
   "outputs": [
    {
     "data": {
      "text/plain": [
       "JavaZone. We are in 9/2025"
      ]
     },
     "execution_count": 17,
     "metadata": {},
     "output_type": "execute_result"
    }
   ],
   "execution_count": 17
  },
  {
   "cell_type": "code",
   "metadata": {
    "ExecuteTime": {
     "end_time": "2025-08-19T19:53:48.422872500Z",
     "start_time": "2025-08-19T19:53:48.348095600Z"
    }
   },
   "source": [
    "greet()"
   ],
   "outputs": [
    {
     "data": {
      "text/plain": [
       "Hello. We are in 1/2018"
      ]
     },
     "execution_count": 18,
     "metadata": {},
     "output_type": "execute_result"
    }
   ],
   "execution_count": 18
  },
  {
   "cell_type": "markdown",
   "metadata": {},
   "source": [
    "Named and optional arguments can be combined to write sleeker code"
   ]
  },
  {
   "cell_type": "code",
   "metadata": {
    "ExecuteTime": {
     "end_time": "2025-08-19T19:53:48.538053100Z",
     "start_time": "2025-08-19T19:53:48.475687300Z"
    }
   },
   "source": [
    "greet(year = 2025, month = 9)"
   ],
   "outputs": [
    {
     "data": {
      "text/plain": [
       "Hello. We are in 9/2025"
      ]
     },
     "execution_count": 19,
     "metadata": {},
     "output_type": "execute_result"
    }
   ],
   "execution_count": 19
  },
  {
   "cell_type": "markdown",
   "metadata": {},
   "source": [
    "### Functions as first class citizens\n",
    "\n"
   ]
  },
  {
   "cell_type": "markdown",
   "metadata": {},
   "source": [
    "Functions are first-class citizens in Kotlin.\n",
    "This means that functions can be manipulated in a similar way than variables: we can assign them to variables, pass them as function arguments and return them from a function."
   ]
  },
  {
   "cell_type": "markdown",
   "metadata": {},
   "source": [
    "Assign function to a variable with `class::functionName` or `::functionName` if it is a global function.\n",
    "The type of `f` below is `(Int, Int) -> Int` (function that takes two ints and returns and int)"
   ]
  },
  {
   "cell_type": "code",
   "metadata": {
    "ExecuteTime": {
     "end_time": "2025-08-19T19:53:48.907329200Z",
     "start_time": "2025-08-19T19:53:48.580534Z"
    }
   },
   "source": [
    "fun subtract(x: Int, y: Int) = x - y\n",
    "\n",
    "val f = ::subtract\n",
    "\n",
    "f(6, 4)"
   ],
   "outputs": [
    {
     "data": {
      "text/plain": [
       "2"
      ]
     },
     "execution_count": 20,
     "metadata": {},
     "output_type": "execute_result"
    }
   ],
   "execution_count": 20
  },
  {
   "cell_type": "markdown",
   "metadata": {},
   "source": [
    "Assign an anonymous function to a variable"
   ]
  },
  {
   "cell_type": "code",
   "metadata": {
    "ExecuteTime": {
     "end_time": "2025-08-19T19:53:49.329340800Z",
     "start_time": "2025-08-19T19:53:48.936467900Z"
    }
   },
   "source": [
    "val computeMax = {x: Int, y: Int -> max(x, y)}\n",
    "\n",
    "computeMax(6, -7)"
   ],
   "outputs": [
    {
     "data": {
      "text/plain": [
       "6"
      ]
     },
     "execution_count": 21,
     "metadata": {},
     "output_type": "execute_result"
    }
   ],
   "execution_count": 21
  },
  {
   "cell_type": "markdown",
   "metadata": {},
   "source": [
    "Functions can take other functions as arguments. `f` is a function that takes two ints and returns an int).\n",
    "`calculate` is called a higher-order function because it takes a function (`f` in this example) as an argument"
   ]
  },
  {
   "cell_type": "code",
   "metadata": {
    "ExecuteTime": {
     "end_time": "2025-08-19T19:53:49.639291800Z",
     "start_time": "2025-08-19T19:53:49.475550Z"
    }
   },
   "source": [
    "fun applyCalculus(x: Int, y: Int, f: (Int, Int) -> Int) : Int{\n",
    "    println(\"Calling the third argument on $x and $y\")\n",
    "    val result = f(x, y)\n",
    "    println(\"The result is $result\")\n",
    "    return result\n",
    "}"
   ],
   "outputs": [],
   "execution_count": 22
  },
  {
   "cell_type": "markdown",
   "metadata": {},
   "source": [
    "There are many ways to call this function.\n",
    "\n",
    "By passing a reference to existing function to the third argument"
   ]
  },
  {
   "cell_type": "code",
   "metadata": {
    "ExecuteTime": {
     "end_time": "2025-08-19T19:53:49.877563800Z",
     "start_time": "2025-08-19T19:53:49.742562Z"
    }
   },
   "source": [
    "applyCalculus(6, 4, ::subtract)"
   ],
   "outputs": [
    {
     "name": "stdout",
     "output_type": "stream",
     "text": [
      "Calling the third argument on 6 and 4\r\n",
      "The result is 2\r\n"
     ]
    },
    {
     "data": {
      "text/plain": [
       "2"
      ]
     },
     "execution_count": 23,
     "metadata": {},
     "output_type": "execute_result"
    }
   ],
   "execution_count": 23
  },
  {
   "cell_type": "markdown",
   "metadata": {},
   "source": [
    "By passing a variable that references a function (:: are not needed in this case)"
   ]
  },
  {
   "cell_type": "code",
   "metadata": {
    "ExecuteTime": {
     "end_time": "2025-08-19T19:53:50.161232800Z",
     "start_time": "2025-08-19T19:53:50.028241400Z"
    }
   },
   "source": [
    "applyCalculus(-7, 90, computeMax)"
   ],
   "outputs": [
    {
     "name": "stdout",
     "output_type": "stream",
     "text": [
      "Calling the third argument on -7 and 90\r\n",
      "The result is 90\r\n"
     ]
    },
    {
     "data": {
      "text/plain": [
       "90"
      ]
     },
     "execution_count": 24,
     "metadata": {},
     "output_type": "execute_result"
    }
   ],
   "execution_count": 24
  },
  {
   "cell_type": "markdown",
   "metadata": {},
   "source": [
    "Using an anonymous function"
   ]
  },
  {
   "cell_type": "code",
   "metadata": {
    "ExecuteTime": {
     "end_time": "2025-08-19T19:53:50.501881800Z",
     "start_time": "2025-08-19T19:53:50.270614800Z"
    }
   },
   "source": [
    "applyCalculus(-7, 90, { x, y ->\n",
    "    if (x % 2 == 0) x else y\n",
    "})"
   ],
   "outputs": [
    {
     "name": "stdout",
     "output_type": "stream",
     "text": [
      "Calling the third argument on -7 and 90\r\n",
      "The result is 90\r\n"
     ]
    },
    {
     "data": {
      "text/plain": [
       "90"
      ]
     },
     "execution_count": 25,
     "metadata": {},
     "output_type": "execute_result"
    }
   ],
   "execution_count": 25
  },
  {
   "cell_type": "markdown",
   "metadata": {},
   "source": [
    "When the last argument is an anonymous function, the closing parenthesis can be placed on the argument before it"
   ]
  },
  {
   "cell_type": "code",
   "metadata": {
    "ExecuteTime": {
     "end_time": "2025-08-19T19:53:51.107970400Z",
     "start_time": "2025-08-19T19:53:50.593177500Z"
    }
   },
   "source": [
    "applyCalculus(9, 5) { x, y -> x * y }"
   ],
   "outputs": [
    {
     "name": "stdout",
     "output_type": "stream",
     "text": [
      "Calling the third argument on 9 and 5\r\n",
      "The result is 45\r\n"
     ]
    },
    {
     "data": {
      "text/plain": [
       "45"
      ]
     },
     "execution_count": 26,
     "metadata": {},
     "output_type": "execute_result"
    }
   ],
   "execution_count": 26
  },
  {
   "cell_type": "markdown",
   "metadata": {},
   "source": [
    "If a higher-order function has only one argument (the function argument), then the parenthesis can be omitted.\n",
    "In addition to that, if the function argument takes only one argument, then kotlin assigns it to an implicit variable called `it`"
   ]
  },
  {
   "cell_type": "code",
   "metadata": {
    "ExecuteTime": {
     "end_time": "2025-08-19T19:53:53.597537700Z",
     "start_time": "2025-08-19T19:53:53.142101400Z"
    }
   },
   "source": [
    "fun callTwice(f: (String) -> Unit) {\n",
    "    f(\"Hello\")\n",
    "    f(\"JavaZone 2025\")\n",
    "}\n",
    "\n",
    "callTwice { message ->\n",
    "    println(message)\n",
    "}\n",
    "\n",
    "callTwice {\n",
    "    print(\"Using the implicit it which has a length of ${it.length} - \")\n",
    "    println(\"$it!\")\n",
    "}"
   ],
   "outputs": [
    {
     "name": "stdout",
     "output_type": "stream",
     "text": [
      "Hello\r\n",
      "JavaZone 2025\r\n",
      "Using the implicit it which has a length of 5 - Hello!\r\n",
      "Using the implicit it which has a length of 13 - JavaZone 2025!\r\n"
     ]
    }
   ],
   "execution_count": 27
  },
  {
   "cell_type": "markdown",
   "metadata": {
    "notebookRunGroups": {
     "groupValue": "1"
    }
   },
   "source": [
    "## Null safety\n",
    "\n",
    "Kotlin types do not accept null as values, unless the type explicitly ends with a ?. In that case, it is called a **nullable** type.\n",
    "\n",
    "These checks are done at **compile time**."
   ]
  },
  {
   "metadata": {
    "ExecuteTime": {
     "end_time": "2025-08-19T19:53:53.714117800Z",
     "start_time": "2025-08-19T19:53:53.630335600Z"
    }
   },
   "cell_type": "code",
   "source": [
    "var s = \"Hello\"\n",
    "// s = null\n",
    "// at Cell In[29], line 2, column 5: Null can not be a value of a non-null type String\n",
    "\n",
    "var s2: String? = \"Hello\"\n",
    "s2 = null\n",
    "s2"
   ],
   "outputs": [
    {
     "data": {
      "text/plain": [
       "null"
      ]
     },
     "execution_count": 28,
     "metadata": {},
     "output_type": "execute_result"
    }
   ],
   "execution_count": 28
  },
  {
   "metadata": {},
   "cell_type": "markdown",
   "source": "A non-nullable type can be assigned to its nullable equivalent, but not the opposite."
  },
  {
   "metadata": {
    "ExecuteTime": {
     "end_time": "2025-08-19T19:53:53.802587600Z",
     "start_time": "2025-08-19T19:53:53.732183600Z"
    }
   },
   "cell_type": "code",
   "source": [
    "s2 = s\n",
    "s2\n",
    "\n",
    "// s = s2\n",
    "// Type mismatch: inferred type is String? but String was expected"
   ],
   "outputs": [
    {
     "data": {
      "text/plain": [
       "Hello"
      ]
     },
     "execution_count": 29,
     "metadata": {},
     "output_type": "execute_result"
    }
   ],
   "execution_count": 29
  },
  {
   "metadata": {},
   "cell_type": "markdown",
   "source": "This means that some functions designed to take non-nullables cannot accept nullables."
  },
  {
   "metadata": {
    "ExecuteTime": {
     "end_time": "2025-08-19T19:53:53.901387500Z",
     "start_time": "2025-08-19T19:53:53.845200600Z"
    }
   },
   "cell_type": "code",
   "source": [
    "//String.format(s2)\n",
    "//Type mismatch: inferred type is String? but String was expected"
   ],
   "outputs": [],
   "execution_count": 30
  },
  {
   "metadata": {},
   "cell_type": "markdown",
   "source": [
    "In Kotlin, we try to get rid of nullables whenever possible and there are many ways to do it.\n",
    "Let's see some examples through a function that takes a nullable and returns a non-nullable.\n",
    "\n",
    "First, let's use smart casting which automatically infers the type based on previous conditions."
   ]
  },
  {
   "cell_type": "code",
   "metadata": {
    "ExecuteTime": {
     "end_time": "2025-08-19T19:53:54.202600700Z",
     "start_time": "2025-08-19T19:53:53.921477600Z"
    }
   },
   "source": [
    "fun capitalizeFirstOrDefault(text: String?, default: String): String {\n",
    "    if(text == null){\n",
    "        return default\n",
    "    }\n",
    "    // In this point forward text is of type String\n",
    "    return text.first().uppercase()\n",
    "}\n",
    "println(capitalizeFirstOrDefault(\"Hello\", \"W\"))\n",
    "println(capitalizeFirstOrDefault(null, \"W\"))"
   ],
   "outputs": [
    {
     "name": "stdout",
     "output_type": "stream",
     "text": [
      "H\r\n",
      "W\r\n"
     ]
    }
   ],
   "execution_count": 31
  },
  {
   "metadata": {},
   "cell_type": "markdown",
   "source": "We can also use null chaining with the ? operator. The result is still a nullable though. Thus, we need to convert the result into a non-nullable."
  },
  {
   "metadata": {
    "ExecuteTime": {
     "end_time": "2025-08-19T19:53:54.588543900Z",
     "start_time": "2025-08-19T19:53:54.297969Z"
    }
   },
   "cell_type": "code",
   "source": [
    "fun capitalizeFirstOrDefaultOptChaining(text: String?, default: String): String {\n",
    "    val firstLetter =  text?.first()?.uppercase()\n",
    "    return if (firstLetter == null) default else firstLetter\n",
    "}\n",
    "println(capitalizeFirstOrDefaultOptChaining(\"Hello\", \"W\"))\n",
    "println(capitalizeFirstOrDefaultOptChaining(null, \"W\"))"
   ],
   "outputs": [
    {
     "name": "stdout",
     "output_type": "stream",
     "text": [
      "H\r\n",
      "W\r\n"
     ]
    }
   ],
   "execution_count": 32
  },
  {
   "metadata": {},
   "cell_type": "markdown",
   "source": "The elvis operator `?:` allows to more easily provide a default value to a nullable."
  },
  {
   "metadata": {
    "ExecuteTime": {
     "end_time": "2025-08-19T19:53:54.893188800Z",
     "start_time": "2025-08-19T19:53:54.634713700Z"
    }
   },
   "cell_type": "code",
   "source": [
    "fun capitalizeFirstOrDefaultElvis(text: String?, default: String): String {\n",
    "    return  text?.first()?.uppercase() ?: default\n",
    "}\n",
    "println(capitalizeFirstOrDefaultElvis(\"Hello\", \"W\"))\n",
    "println(capitalizeFirstOrDefaultElvis(null, \"W\"))"
   ],
   "outputs": [
    {
     "name": "stdout",
     "output_type": "stream",
     "text": [
      "H\r\n",
      "W\r\n"
     ]
    }
   ],
   "execution_count": 33
  },
  {
   "metadata": {},
   "cell_type": "markdown",
   "source": "We can even make it a single-line function"
  },
  {
   "metadata": {
    "ExecuteTime": {
     "end_time": "2025-08-19T19:53:55.281574900Z",
     "start_time": "2025-08-19T19:53:54.932334500Z"
    }
   },
   "cell_type": "code",
   "source": [
    "fun capitalizeFirstSingleLine(text: String?, default: String) = text?.first()?.uppercase() ?: default\n",
    "\n",
    "println(capitalizeFirstSingleLine(\"Hello\", \"W\"))\n",
    "println(capitalizeFirstSingleLine(null, \"W\"))"
   ],
   "outputs": [
    {
     "name": "stdout",
     "output_type": "stream",
     "text": [
      "H\r\n",
      "W\r\n"
     ]
    }
   ],
   "execution_count": 34
  },
  {
   "cell_type": "markdown",
   "metadata": {},
   "source": [
    "## Collections\n",
    "\n",
    "Kotlin provides out of the box support for collection operations like `map`, `filter`, `reduce`, etc."
   ]
  },
  {
   "cell_type": "code",
   "metadata": {
    "ExecuteTime": {
     "end_time": "2025-08-19T19:53:55.953565600Z",
     "start_time": "2025-08-19T19:53:55.486358200Z"
    }
   },
   "source": [
    "val fantasyNames = listOf(\"Clebbrer\", \"Sninjur\", \"Moddnaac\", \"Leednat\" ,\"Gierwyst\", \"Zevurig\", \"Claamparairt\", \"Gufapraam\", \"Riemaprast\", \"Bilanjom\")\n",
    "\n",
    "// find names that start with \"G\" or end with \"t\" and return them as capital letters\n",
    "fantasyNames.filter { it.startsWith('G') || it.endsWith('t') }.map { it.uppercase() }\n"
   ],
   "outputs": [
    {
     "data": {
      "text/plain": [
       "[LEEDNAT, GIERWYST, CLAAMPARAIRT, GUFAPRAAM, RIEMAPRAST]"
      ]
     },
     "execution_count": 35,
     "metadata": {},
     "output_type": "execute_result"
    }
   ],
   "execution_count": 35
  },
  {
   "cell_type": "markdown",
   "metadata": {},
   "source": [
    "Ccount the number of vowels. `flapmap` converts a 2d array to a 1d array by concatenating the elements (called a flat operation)"
   ]
  },
  {
   "cell_type": "code",
   "metadata": {
    "ExecuteTime": {
     "end_time": "2025-08-19T19:53:56.464251Z",
     "start_time": "2025-08-19T19:53:56.014528300Z"
    }
   },
   "source": [
    "fantasyNames.flatMap{ it.toList() }.filter{ \"aiueo\".contains(it) }.map { 1 }.sum()"
   ],
   "outputs": [
    {
     "data": {
      "text/plain": [
       "31"
      ]
     },
     "execution_count": 36,
     "metadata": {},
     "output_type": "execute_result"
    }
   ],
   "execution_count": 36
  },
  {
   "cell_type": "markdown",
   "metadata": {},
   "source": [
    "Alternative way using `reduce` instead of `sum`"
   ]
  },
  {
   "cell_type": "code",
   "metadata": {
    "ExecuteTime": {
     "end_time": "2025-08-19T19:53:56.767255700Z",
     "start_time": "2025-08-19T19:53:56.477791200Z"
    }
   },
   "source": [
    "fantasyNames.flatMap{ it.toList() }\n",
    "    .map{ if (\"aiueo\".contains(it)) 1 else 0 }\n",
    "    .reduce { acc, current -> acc + current }"
   ],
   "outputs": [
    {
     "data": {
      "text/plain": [
       "31"
      ]
     },
     "execution_count": 37,
     "metadata": {},
     "output_type": "execute_result"
    }
   ],
   "execution_count": 37
  }
 ],
 "metadata": {
  "kernelspec": {
   "display_name": "Kotlin",
   "language": "kotlin",
   "name": "kotlin"
  },
  "language_info": {
   "codemirror_mode": "text/x-kotlin",
   "file_extension": ".kt",
   "mimetype": "text/x-kotlin",
   "name": "kotlin",
   "nbconvert_exporter": "",
   "pygments_lexer": "kotlin",
   "version": "1.9.23"
  }
 },
 "nbformat": 4,
 "nbformat_minor": 2
}

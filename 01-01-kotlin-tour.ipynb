{
 "cells": [
  {
   "cell_type": "markdown",
   "metadata": {},
   "source": [
    "# Kotlin Language features\n",
    "\n",
    "What we will cover:\n",
    "\n",
    "- Basic features\n",
    "- Functions\n",
    "- Null safety\n",
    "\n",
    "## Basic features"
   ]
  },
  {
   "cell_type": "markdown",
   "metadata": {},
   "source": [
    "Functions and variables can be declared outside of classes"
   ]
  },
  {
   "cell_type": "code",
   "metadata": {
    "ExecuteTime": {
     "end_time": "2025-08-27T08:58:16.046611Z",
     "start_time": "2025-08-27T08:58:15.985387Z"
    }
   },
   "source": [
    "fun sum(x: Int, y: Int): Int {\n",
    "  return x + y\n",
    "}\n",
    "\n",
    "val globalValue = \"I am a global value\"\n",
    "\n",
    "println(sum(10, 7))\n",
    "print(globalValue)"
   ],
   "outputs": [
    {
     "name": "stdout",
     "output_type": "stream",
     "text": [
      "17\n",
      "I am a global value"
     ]
    }
   ],
   "execution_count": 3
  },
  {
   "cell_type": "markdown",
   "metadata": {},
   "source": [
    "`var` declares a variable. `val` declares a variable that cannot be reassigned (like `final` in Java)"
   ]
  },
  {
   "cell_type": "code",
   "execution_count": 5,
   "metadata": {
    "ExecuteTime": {
     "end_time": "2025-08-22T09:09:09.132553Z",
     "start_time": "2025-08-22T09:09:09.086123Z"
    }
   },
   "outputs": [],
   "source": [
    "var a: Int = 0\n",
    "a = 23\n",
    "\n",
    "val b: String = \"Hello\""
   ]
  },
  {
   "cell_type": "markdown",
   "metadata": {},
   "source": [
    "Variables types can be inferred by the compiler during initialisation"
   ]
  },
  {
   "cell_type": "code",
   "execution_count": 6,
   "metadata": {
    "ExecuteTime": {
     "end_time": "2025-08-22T09:09:09.207564Z",
     "start_time": "2025-08-22T09:09:09.142425Z"
    }
   },
   "outputs": [
    {
     "name": "stdout",
     "output_type": "stream",
     "text": [
      "Hello\n",
      "3"
     ]
    }
   ],
   "source": [
    "var message = \"Hello\" // Inferred as String\n",
    "val total = sum(2, 1)\n",
    "println(message)\n",
    "print(total)"
   ]
  },
  {
   "cell_type": "markdown",
   "metadata": {},
   "source": [
    "Kotlin supports string interpolation (or string templates)"
   ]
  },
  {
   "cell_type": "code",
   "execution_count": 7,
   "metadata": {
    "ExecuteTime": {
     "end_time": "2025-08-22T09:09:09.297078Z",
     "start_time": "2025-08-22T09:09:09.219946Z"
    }
   },
   "outputs": [
    {
     "data": {
      "text/plain": [
       "The sum is 3"
      ]
     },
     "execution_count": 7,
     "metadata": {},
     "output_type": "execute_result"
    }
   ],
   "source": [
    "\"The sum is $total\""
   ]
  },
  {
   "cell_type": "markdown",
   "metadata": {},
   "source": [
    "We can even write complex expressions"
   ]
  },
  {
   "cell_type": "code",
   "execution_count": 8,
   "metadata": {
    "ExecuteTime": {
     "end_time": "2025-08-22T09:09:09.383446Z",
     "start_time": "2025-08-22T09:09:09.321602Z"
    }
   },
   "outputs": [
    {
     "data": {
      "text/plain": [
       "Is generated random number even ? true"
      ]
     },
     "execution_count": 8,
     "metadata": {},
     "output_type": "execute_result"
    }
   ],
   "source": [
    "import kotlin.random.Random\n",
    "\n",
    "\"Is generated random number even ? ${Random.nextInt(0, 10) % 2 == 0}\""
   ]
  },
  {
   "cell_type": "markdown",
   "metadata": {},
   "source": [
    "Looping through collections uses this `for in` universal syntax"
   ]
  },
  {
   "cell_type": "code",
   "execution_count": 9,
   "metadata": {
    "ExecuteTime": {
     "end_time": "2025-08-22T09:09:09.963823Z",
     "start_time": "2025-08-22T09:09:09.395972Z"
    }
   },
   "outputs": [
    {
     "name": "stdout",
     "output_type": "stream",
     "text": [
      "1\n",
      "2\n",
      "3\n",
      "Java\n",
      "Zone\n",
      "2025\n",
      "hand -> ✋\n",
      "eyes -> 👀\n",
      "hand -> ✋\n",
      "eyes -> 👀\n"
     ]
    }
   ],
   "source": [
    "for (i in 1..3) println(i)\n",
    "\n",
    "val words = listOf(\"Java\", \"Zone\", \"2025\")\n",
    "for (word in words) {\n",
    "  println(word)\n",
    "}\n",
    "\n",
    "val emojiSymbols = mapOf(\"hand\" to \"✋\", \"eyes\" to \"👀\")\n",
    "for (emojiSymbol in emojiSymbols) {\n",
    "  println(\"${emojiSymbol.key} -> ${emojiSymbol.value}\")\n",
    "}\n",
    "//or\n",
    "for ((key, value) in emojiSymbols) {\n",
    "  println(\"${key} -> ${value}\")\n",
    "}"
   ]
  },
  {
   "cell_type": "markdown",
   "metadata": {},
   "source": [
    "## Functions\n",
    "\n",
    "### One-line functions\n",
    "\n",
    "One-line functions can be declared with the `=` operator"
   ]
  },
  {
   "cell_type": "code",
   "execution_count": 10,
   "metadata": {
    "ExecuteTime": {
     "end_time": "2025-08-22T09:09:10.040585Z",
     "start_time": "2025-08-22T09:09:09.989362Z"
    }
   },
   "outputs": [
    {
     "data": {
      "text/plain": [
       "-24"
      ]
     },
     "execution_count": 10,
     "metadata": {},
     "output_type": "execute_result"
    }
   ],
   "source": [
    "fun mult(x: Int, y: Int) = x * y\n",
    "\n",
    "mult(-6, 4)"
   ]
  },
  {
   "cell_type": "markdown",
   "metadata": {},
   "source": [
    "This is an example of a consice function that takes advantage of single-line functions and `when` expressions"
   ]
  },
  {
   "cell_type": "code",
   "execution_count": 11,
   "metadata": {
    "ExecuteTime": {
     "end_time": "2025-08-22T09:09:10.131447Z",
     "start_time": "2025-08-22T09:09:10.054837Z"
    }
   },
   "outputs": [
    {
     "data": {
      "text/plain": [
       "English"
      ]
     },
     "execution_count": 11,
     "metadata": {},
     "output_type": "execute_result"
    }
   ],
   "source": [
    "fun detectLanguage(greeting: String) = when (greeting) {\n",
    "  \"Bonjour\", \"salut\" -> \"Français\"\n",
    "  \"Good morning\" -> \"English\"\n",
    "  else -> \"Unknown\"\n",
    "}\n",
    "\n",
    "val language = detectLanguage(\"Good morning\")\n",
    "language"
   ]
  },
  {
   "cell_type": "markdown",
   "metadata": {},
   "source": [
    "A function name can be written as a natural sentence by using backticks.\n",
    "This is particularly useful for naming tests functions."
   ]
  },
  {
   "cell_type": "code",
   "execution_count": 12,
   "metadata": {
    "ExecuteTime": {
     "end_time": "2025-08-22T09:09:10.242888Z",
     "start_time": "2025-08-22T09:09:10.141378Z"
    }
   },
   "outputs": [],
   "source": [
    "fun `Add two integers`() {\n",
    "  assert(sum(-8, 10) == 2)\n",
    "}\n",
    "\n",
    "`Add two integers`()"
   ]
  },
  {
   "cell_type": "markdown",
   "metadata": {},
   "source": [
    "### Named and optional arguments\n",
    "\n",
    "In additional to positional arguments, functions can be called with named arguments. The order of arguments is not relevant in this case."
   ]
  },
  {
   "cell_type": "code",
   "execution_count": 13,
   "metadata": {
    "ExecuteTime": {
     "end_time": "2025-08-22T09:09:10.340729Z",
     "start_time": "2025-08-22T09:09:10.254132Z"
    }
   },
   "outputs": [
    {
     "data": {
      "text/plain": [
       "-500"
      ]
     },
     "execution_count": 13,
     "metadata": {},
     "output_type": "execute_result"
    }
   ],
   "source": [
    "mult(x = -5, y = 100)"
   ]
  },
  {
   "cell_type": "code",
   "execution_count": 14,
   "metadata": {
    "ExecuteTime": {
     "end_time": "2025-08-22T09:09:10.407991Z",
     "start_time": "2025-08-22T09:09:10.354796Z"
    }
   },
   "outputs": [
    {
     "data": {
      "text/plain": [
       "-500"
      ]
     },
     "execution_count": 14,
     "metadata": {},
     "output_type": "execute_result"
    }
   ],
   "source": [
    "mult(y = 100, x = -5)"
   ]
  },
  {
   "cell_type": "markdown",
   "metadata": {},
   "source": [
    "Functions support default values\n"
   ]
  },
  {
   "cell_type": "code",
   "execution_count": 15,
   "metadata": {
    "ExecuteTime": {
     "end_time": "2025-08-22T09:09:10.474630Z",
     "start_time": "2025-08-22T09:09:10.419578Z"
    }
   },
   "outputs": [],
   "source": [
    "fun greet(year: Int = 2018, month: Int = 1, message: String = \"Hello\"): String {\n",
    "  return \"${message}. We are in ${month}/${year}\"\n",
    "}"
   ]
  },
  {
   "cell_type": "code",
   "execution_count": 16,
   "metadata": {
    "ExecuteTime": {
     "end_time": "2025-08-22T09:09:10.660159Z",
     "start_time": "2025-08-22T09:09:10.537161Z"
    }
   },
   "outputs": [
    {
     "data": {
      "text/plain": [
       "JavaZone. We are in 9/2025"
      ]
     },
     "execution_count": 16,
     "metadata": {},
     "output_type": "execute_result"
    }
   ],
   "source": [
    "greet(2025, 9, \"JavaZone\")"
   ]
  },
  {
   "cell_type": "code",
   "execution_count": 17,
   "metadata": {
    "ExecuteTime": {
     "end_time": "2025-08-22T09:09:10.737029Z",
     "start_time": "2025-08-22T09:09:10.671563Z"
    }
   },
   "outputs": [
    {
     "data": {
      "text/plain": [
       "Hello. We are in 1/2018"
      ]
     },
     "execution_count": 17,
     "metadata": {},
     "output_type": "execute_result"
    }
   ],
   "source": [
    "greet()"
   ]
  },
  {
   "cell_type": "markdown",
   "metadata": {},
   "source": [
    "Named and optional arguments can be combined to write sleeker code"
   ]
  },
  {
   "cell_type": "code",
   "execution_count": 18,
   "metadata": {
    "ExecuteTime": {
     "end_time": "2025-08-22T09:09:10.844698Z",
     "start_time": "2025-08-22T09:09:10.748003Z"
    }
   },
   "outputs": [
    {
     "data": {
      "text/plain": [
       "Hello. We are in 9/2025"
      ]
     },
     "execution_count": 18,
     "metadata": {},
     "output_type": "execute_result"
    }
   ],
   "source": [
    "greet(year = 2025, month = 9)"
   ]
  },
  {
   "cell_type": "markdown",
   "metadata": {},
   "source": [
    "## Function extensions\n",
    "\n",
    "They provide a way to add functions to existing classes without using inheritance.\n",
    "\n",
    "The syntax is:\n",
    "\n",
    "```kotlin\n",
    "fun ReceiverType.newFunctionName(args): returnType {\n",
    "    // this is avaialbe\n",
    "    // implementation\n",
    "}\n",
    "```\n",
    "\n",
    "Here is an example of an extension funtion that adds a `isCurrentJavaZone(year: Int): Boolean` function to the String class."
   ]
  },
  {
   "cell_type": "code",
   "execution_count": 19,
   "metadata": {
    "ExecuteTime": {
     "end_time": "2025-08-22T09:09:11.052472Z",
     "start_time": "2025-08-22T09:09:10.857881Z"
    }
   },
   "outputs": [
    {
     "name": "stdout",
     "output_type": "stream",
     "text": [
      "false\n",
      "true\n"
     ]
    }
   ],
   "source": [
    "fun String.isCurrentJavaZone(year: Int): Boolean {\n",
    "  val s = \"$this $year\"\n",
    "  return s == \"JavaZone 2025\"\n",
    "}\n",
    "\n",
    "println(\"hello\".isCurrentJavaZone(2025))\n",
    "println(\"JavaZone\".isCurrentJavaZone(2025))"
   ]
  },
  {
   "cell_type": "markdown",
   "metadata": {},
   "source": [
    "Another example of extesion that adds a `cirleArea(): Double` function to `Int`"
   ]
  },
  {
   "cell_type": "code",
   "execution_count": 20,
   "metadata": {
    "ExecuteTime": {
     "end_time": "2025-08-22T09:09:11.169407Z",
     "start_time": "2025-08-22T09:09:11.086368Z"
    }
   },
   "outputs": [
    {
     "data": {
      "text/plain": [
       "19.739208802178716"
      ]
     },
     "execution_count": 20,
     "metadata": {},
     "output_type": "execute_result"
    }
   ],
   "source": [
    "fun Int.cirleArea() = this * Math.PI * Math.PI\n",
    "\n",
    "2.cirleArea()"
   ]
  },
  {
   "cell_type": "markdown",
   "metadata": {},
   "source": [
    "### Functions as first class citizens\n",
    "\n"
   ]
  },
  {
   "cell_type": "markdown",
   "metadata": {},
   "source": [
    "Functions are first-class citizens in Kotlin.\n",
    "This means that functions can be manipulated in a similar way than variables: we can assign them to variables, pass them as function arguments and return them from a function."
   ]
  },
  {
   "cell_type": "markdown",
   "metadata": {},
   "source": [
    "Assign function to a variable with `class::functionName` or `::functionName` if it is a global function.\n",
    "The type of `f` below is `(Int, Int) -> Int` (function that takes two ints and returns and int)"
   ]
  },
  {
   "cell_type": "code",
   "execution_count": 21,
   "metadata": {
    "ExecuteTime": {
     "end_time": "2025-08-22T09:09:11.423145Z",
     "start_time": "2025-08-22T09:09:11.179974Z"
    }
   },
   "outputs": [
    {
     "data": {
      "text/plain": [
       "2"
      ]
     },
     "execution_count": 21,
     "metadata": {},
     "output_type": "execute_result"
    }
   ],
   "source": [
    "fun subtract(x: Int, y: Int) = x - y\n",
    "\n",
    "val f = ::subtract\n",
    "\n",
    "f(6, 4)"
   ]
  },
  {
   "cell_type": "markdown",
   "metadata": {},
   "source": [
    "Assign an anonymous function to a variable"
   ]
  },
  {
   "cell_type": "code",
   "execution_count": 22,
   "metadata": {
    "ExecuteTime": {
     "end_time": "2025-08-22T09:09:11.583532Z",
     "start_time": "2025-08-22T09:09:11.433343Z"
    }
   },
   "outputs": [
    {
     "data": {
      "text/plain": [
       "6"
      ]
     },
     "execution_count": 22,
     "metadata": {},
     "output_type": "execute_result"
    }
   ],
   "source": [
    "val computeMax = { x: Int, y: Int -> max(x, y) }\n",
    "\n",
    "computeMax(6, -7)"
   ]
  },
  {
   "cell_type": "markdown",
   "metadata": {},
   "source": [
    "Functions can take other functions as arguments. `f` is a function that takes two ints and returns an int).\n",
    "`calculate` is called a higher-order function because it takes a function (`f` in this example) as an argument"
   ]
  },
  {
   "cell_type": "code",
   "execution_count": 23,
   "metadata": {
    "ExecuteTime": {
     "end_time": "2025-08-22T09:09:11.674907Z",
     "start_time": "2025-08-22T09:09:11.599552Z"
    }
   },
   "outputs": [],
   "source": [
    "fun applyCalculus(x: Int, y: Int, f: (Int, Int) -> Int): Int {\n",
    "  println(\"Calling the third argument on $x and $y\")\n",
    "  val result = f(x, y)\n",
    "  println(\"The result is $result\")\n",
    "  return result\n",
    "}"
   ]
  },
  {
   "cell_type": "markdown",
   "metadata": {},
   "source": [
    "There are many ways to call this function.\n",
    "\n",
    "By passing a reference to existing function to the third argument"
   ]
  },
  {
   "cell_type": "code",
   "execution_count": 24,
   "metadata": {
    "ExecuteTime": {
     "end_time": "2025-08-22T09:09:11.802819Z",
     "start_time": "2025-08-22T09:09:11.694446Z"
    }
   },
   "outputs": [
    {
     "name": "stdout",
     "output_type": "stream",
     "text": [
      "Calling the third argument on 6 and 4\n",
      "The result is 2\n"
     ]
    },
    {
     "data": {
      "text/plain": [
       "2"
      ]
     },
     "execution_count": 24,
     "metadata": {},
     "output_type": "execute_result"
    }
   ],
   "source": [
    "applyCalculus(6, 4, ::subtract)"
   ]
  },
  {
   "cell_type": "markdown",
   "metadata": {},
   "source": [
    "By passing a variable that references a function (:: are not needed in this case)"
   ]
  },
  {
   "cell_type": "code",
   "execution_count": 25,
   "metadata": {
    "ExecuteTime": {
     "end_time": "2025-08-22T09:09:11.954995Z",
     "start_time": "2025-08-22T09:09:11.839652Z"
    }
   },
   "outputs": [
    {
     "name": "stdout",
     "output_type": "stream",
     "text": [
      "Calling the third argument on -7 and 90\n",
      "The result is 90\n"
     ]
    },
    {
     "data": {
      "text/plain": [
       "90"
      ]
     },
     "execution_count": 25,
     "metadata": {},
     "output_type": "execute_result"
    }
   ],
   "source": [
    "applyCalculus(-7, 90, computeMax)"
   ]
  },
  {
   "cell_type": "markdown",
   "metadata": {},
   "source": [
    "Using an anonymous function"
   ]
  },
  {
   "cell_type": "code",
   "execution_count": 26,
   "metadata": {
    "ExecuteTime": {
     "end_time": "2025-08-22T09:09:12.113518Z",
     "start_time": "2025-08-22T09:09:11.992262Z"
    }
   },
   "outputs": [
    {
     "name": "stdout",
     "output_type": "stream",
     "text": [
      "Calling the third argument on -7 and 90\n",
      "The result is 90\n"
     ]
    },
    {
     "data": {
      "text/plain": [
       "90"
      ]
     },
     "execution_count": 26,
     "metadata": {},
     "output_type": "execute_result"
    }
   ],
   "source": [
    "applyCalculus(-7, 90, { x, y ->\n",
    "  if (x % 2 == 0) x else y\n",
    "})"
   ]
  },
  {
   "cell_type": "markdown",
   "metadata": {},
   "source": [
    "When the last argument is an anonymous function, the closing parenthesis can be placed on the argument before it"
   ]
  },
  {
   "cell_type": "code",
   "execution_count": 27,
   "metadata": {
    "ExecuteTime": {
     "end_time": "2025-08-22T09:09:12.213592Z",
     "start_time": "2025-08-22T09:09:12.128434Z"
    }
   },
   "outputs": [
    {
     "name": "stdout",
     "output_type": "stream",
     "text": [
      "Calling the third argument on 9 and 5\n",
      "The result is 45\n"
     ]
    },
    {
     "data": {
      "text/plain": [
       "45"
      ]
     },
     "execution_count": 27,
     "metadata": {},
     "output_type": "execute_result"
    }
   ],
   "source": [
    "applyCalculus(9, 5) { x, y -> x * y }"
   ]
  },
  {
   "cell_type": "markdown",
   "metadata": {},
   "source": [
    "If a higher-order function has only one argument (the function argument), then the parenthesis can be omitted.\n",
    "In addition to that, if the function argument takes only one argument, then kotlin assigns it to an implicit variable called `it`"
   ]
  },
  {
   "cell_type": "code",
   "execution_count": 28,
   "metadata": {
    "ExecuteTime": {
     "end_time": "2025-08-22T09:09:12.349814Z",
     "start_time": "2025-08-22T09:09:12.224676Z"
    }
   },
   "outputs": [
    {
     "name": "stdout",
     "output_type": "stream",
     "text": [
      "Hello\n",
      "JavaZone 2025\n",
      "Using the implicit it which has a length of 5 - Hello!\n",
      "Using the implicit it which has a length of 13 - JavaZone 2025!\n"
     ]
    }
   ],
   "source": [
    "fun callTwice(f: (String) -> Unit) {\n",
    "  f(\"Hello\")\n",
    "  f(\"JavaZone 2025\")\n",
    "}\n",
    "\n",
    "callTwice { message ->\n",
    "  println(message)\n",
    "}\n",
    "\n",
    "callTwice {\n",
    "  print(\"Using the implicit it which has a length of ${it.length} - \")\n",
    "  println(\"$it!\")\n",
    "}"
   ]
  },
  {
   "cell_type": "markdown",
   "metadata": {
    "notebookRunGroups": {
     "groupValue": "1"
    }
   },
   "source": [
    "## Null safety\n",
    "\n",
    "Kotlin types do not accept null as values, unless the type explicitly ends with a ?. In that case, it is called a **nullable** type.\n",
    "\n",
    "These checks are done at **compile time**."
   ]
  },
  {
   "cell_type": "code",
   "execution_count": 29,
   "metadata": {
    "ExecuteTime": {
     "end_time": "2025-08-22T09:09:12.621614Z",
     "start_time": "2025-08-22T09:09:12.447607Z"
    }
   },
   "outputs": [
    {
     "data": {
      "text/plain": [
       "null"
      ]
     },
     "execution_count": 29,
     "metadata": {},
     "output_type": "execute_result"
    }
   ],
   "source": [
    "var s = \"Hello\"\n",
    "// s = null\n",
    "// at Cell In[29], line 2, column 5: Null can not be a value of a non-null type String\n",
    "\n",
    "var s2: String? = \"Hello\"\n",
    "s2 = null\n",
    "s2"
   ]
  },
  {
   "cell_type": "markdown",
   "metadata": {},
   "source": [
    "A non-nullable type can be assigned to its nullable equivalent, but not the opposite."
   ]
  },
  {
   "cell_type": "code",
   "execution_count": 30,
   "metadata": {
    "ExecuteTime": {
     "end_time": "2025-08-22T09:09:12.705752Z",
     "start_time": "2025-08-22T09:09:12.633715Z"
    }
   },
   "outputs": [
    {
     "data": {
      "text/plain": [
       "Hello"
      ]
     },
     "execution_count": 30,
     "metadata": {},
     "output_type": "execute_result"
    }
   ],
   "source": [
    "s2 = s\n",
    "s2\n",
    "\n",
    "// s = s2\n",
    "// Type mismatch: inferred type is String? but String was expected"
   ]
  },
  {
   "cell_type": "markdown",
   "metadata": {},
   "source": [
    "This means that some functions designed to take non-nullables cannot accept nullables."
   ]
  },
  {
   "cell_type": "code",
   "execution_count": 31,
   "metadata": {
    "ExecuteTime": {
     "end_time": "2025-08-22T09:09:12.752366Z",
     "start_time": "2025-08-22T09:09:12.712734Z"
    }
   },
   "outputs": [],
   "source": [
    "//String.format(s2)\n",
    "//Type mismatch: inferred type is String? but String was expected"
   ]
  },
  {
   "cell_type": "markdown",
   "metadata": {},
   "source": [
    "In Kotlin, we try to get rid of nullables whenever possible and there are many ways to do it.\n",
    "Let's see some examples through a function that takes a nullable and returns a non-nullable.\n",
    "\n",
    "First, let's use smart casting which automatically infers the type based on previous conditions."
   ]
  },
  {
   "cell_type": "code",
   "execution_count": 32,
   "metadata": {
    "ExecuteTime": {
     "end_time": "2025-08-22T09:09:12.960240Z",
     "start_time": "2025-08-22T09:09:12.759549Z"
    }
   },
   "outputs": [
    {
     "name": "stdout",
     "output_type": "stream",
     "text": [
      "H\n",
      "W\n"
     ]
    }
   ],
   "source": [
    "fun capitalizeFirstOrDefault(text: String?, default: String): String {\n",
    "  if (text == null) {\n",
    "    return default\n",
    "  }\n",
    "  // In this point forward text is of type String\n",
    "  return text.first().uppercase()\n",
    "}\n",
    "println(capitalizeFirstOrDefault(\"Hello\", \"W\"))\n",
    "println(capitalizeFirstOrDefault(null, \"W\"))"
   ]
  },
  {
   "cell_type": "markdown",
   "metadata": {},
   "source": [
    "We can also use null chaining with the ? operator. The result is still a nullable though. Thus, we need to convert the result into a non-nullable."
   ]
  },
  {
   "cell_type": "code",
   "execution_count": 33,
   "metadata": {
    "ExecuteTime": {
     "end_time": "2025-08-22T09:09:13.212088Z",
     "start_time": "2025-08-22T09:09:13.001389Z"
    }
   },
   "outputs": [
    {
     "name": "stdout",
     "output_type": "stream",
     "text": [
      "H\n",
      "W\n"
     ]
    }
   ],
   "source": [
    "fun capitalizeFirstOrDefaultOptChaining(text: String?, default: String): String {\n",
    "  val firstLetter = text?.first()?.uppercase()\n",
    "  return if (firstLetter == null) default else firstLetter\n",
    "}\n",
    "println(capitalizeFirstOrDefaultOptChaining(\"Hello\", \"W\"))\n",
    "println(capitalizeFirstOrDefaultOptChaining(null, \"W\"))"
   ]
  },
  {
   "cell_type": "markdown",
   "metadata": {},
   "source": [
    "The elvis operator `?:` allows to more easily provide a default value to a nullable."
   ]
  },
  {
   "cell_type": "code",
   "execution_count": 34,
   "metadata": {
    "ExecuteTime": {
     "end_time": "2025-08-22T09:09:13.426343Z",
     "start_time": "2025-08-22T09:09:13.264182Z"
    }
   },
   "outputs": [
    {
     "name": "stdout",
     "output_type": "stream",
     "text": [
      "H\n",
      "W\n"
     ]
    }
   ],
   "source": [
    "fun capitalizeFirstOrDefaultElvis(text: String?, default: String): String {\n",
    "  return text?.first()?.uppercase() ?: default\n",
    "}\n",
    "println(capitalizeFirstOrDefaultElvis(\"Hello\", \"W\"))\n",
    "println(capitalizeFirstOrDefaultElvis(null, \"W\"))"
   ]
  },
  {
   "cell_type": "markdown",
   "metadata": {},
   "source": [
    "We can even make it a single-line function"
   ]
  },
  {
   "cell_type": "code",
   "execution_count": 35,
   "metadata": {
    "ExecuteTime": {
     "end_time": "2025-08-22T09:09:13.594742Z",
     "start_time": "2025-08-22T09:09:13.477169Z"
    }
   },
   "outputs": [
    {
     "name": "stdout",
     "output_type": "stream",
     "text": [
      "H\n",
      "W\n"
     ]
    }
   ],
   "source": [
    "fun capitalizeFirstSingleLine(text: String?, default: String) = text?.first()?.uppercase() ?: default\n",
    "\n",
    "println(capitalizeFirstSingleLine(\"Hello\", \"W\"))\n",
    "println(capitalizeFirstSingleLine(null, \"W\"))"
   ]
  }
 ],
 "metadata": {
  "kernelspec": {
   "display_name": "Kotlin",
   "language": "kotlin",
   "name": "kotlin"
  },
  "language_info": {
   "codemirror_mode": "text/x-kotlin",
   "file_extension": ".kt",
   "mimetype": "text/x-kotlin",
   "name": "kotlin",
   "nbconvert_exporter": "",
   "pygments_lexer": "kotlin",
   "version": "1.9.23"
  }
 },
 "nbformat": 4,
 "nbformat_minor": 2
}

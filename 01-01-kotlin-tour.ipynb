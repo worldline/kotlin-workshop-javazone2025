{
 "cells": [
  {
   "cell_type": "markdown",
   "metadata": {},
   "source": [
    "# Kotlin Language features\n",
    "\n",
    "What we will cover:\n",
    "\n",
    "- Basic features\n",
    "- Functions\n",
    "- DSLs\n",
    "\n",
    "## Basic features\n",
    "\n",
    "Functions and variables can be declared outside of classes"
   ]
  },
  {
   "cell_type": "code",
   "execution_count": 13,
   "metadata": {
    "ExecuteTime": {
     "end_time": "2025-08-27T09:33:06.465404Z",
     "start_time": "2025-08-27T09:33:06.406990Z"
    }
   },
   "outputs": [
    {
     "name": "stdout",
     "output_type": "stream",
     "text": [
      "17\n",
      "I am a global value"
     ]
    }
   ],
   "source": [
    "fun sum(x: Int, y: Int): Int {\n",
    "  return x + y\n",
    "}\n",
    "\n",
    "val globalValue = \"I am a global value\"\n",
    "\n",
    "println(sum(10, 7))\n",
    "print(globalValue)"
   ]
  },
  {
   "cell_type": "markdown",
   "metadata": {},
   "source": [
    "`var` declares a variable. `val` declares a variable that cannot be reassigned (like `final` in Java)"
   ]
  },
  {
   "cell_type": "code",
   "execution_count": 14,
   "metadata": {
    "ExecuteTime": {
     "end_time": "2025-08-27T09:33:06.544870Z",
     "start_time": "2025-08-27T09:33:06.480487Z"
    }
   },
   "outputs": [],
   "source": [
    "var a: Int = 0\n",
    "a = 23\n",
    "\n",
    "val b: String = \"Hello\""
   ]
  },
  {
   "cell_type": "markdown",
   "metadata": {},
   "source": [
    "Variables types can be inferred by the compiler during initialisation.\n",
    "Idiomatic Kotlin code usually omits the type when it can be inferred.\n",
    "\n",
    "Typing is static in Kotlin (it does not change)"
   ]
  },
  {
   "cell_type": "code",
   "execution_count": 15,
   "metadata": {
    "ExecuteTime": {
     "end_time": "2025-08-27T09:33:06.729710Z",
     "start_time": "2025-08-27T09:33:06.556990Z"
    }
   },
   "outputs": [
    {
     "name": "stdout",
     "output_type": "stream",
     "text": [
      "Hello\n",
      "3"
     ]
    }
   ],
   "source": [
    "var message = \"Hello\" // Inferred as String\n",
    "val total = sum(2, 1)\n",
    "println(message)\n",
    "print(total)"
   ]
  },
  {
   "cell_type": "markdown",
   "metadata": {},
   "source": [
    "Kotlin supports string interpolation (or string templates)"
   ]
  },
  {
   "cell_type": "code",
   "execution_count": 16,
   "metadata": {
    "ExecuteTime": {
     "end_time": "2025-08-27T09:33:06.800315Z",
     "start_time": "2025-08-27T09:33:06.756238Z"
    }
   },
   "outputs": [
    {
     "data": {
      "text/plain": [
       "The sum is 3"
      ]
     },
     "execution_count": 16,
     "metadata": {},
     "output_type": "execute_result"
    }
   ],
   "source": [
    "\"The sum is $total\""
   ]
  },
  {
   "cell_type": "markdown",
   "metadata": {},
   "source": [
    "We can even write complex expressions with `${}`"
   ]
  },
  {
   "cell_type": "code",
   "execution_count": 17,
   "metadata": {
    "ExecuteTime": {
     "end_time": "2025-08-27T09:33:06.946398Z",
     "start_time": "2025-08-27T09:33:06.826398Z"
    }
   },
   "outputs": [
    {
     "data": {
      "text/plain": [
       "Is generated random number even ? true"
      ]
     },
     "execution_count": 17,
     "metadata": {},
     "output_type": "execute_result"
    }
   ],
   "source": [
    "import kotlin.random.Random\n",
    "\n",
    "\"Is generated random number even ? ${Random.nextInt(0, 10) % 2 == 0}\""
   ]
  },
  {
   "cell_type": "markdown",
   "metadata": {},
   "source": [
    "Looping through collections uses this `for in` universal syntax"
   ]
  },
  {
   "cell_type": "code",
   "execution_count": 18,
   "metadata": {
    "ExecuteTime": {
     "end_time": "2025-08-27T09:33:07.097156Z",
     "start_time": "2025-08-27T09:33:06.983544Z"
    }
   },
   "outputs": [
    {
     "name": "stdout",
     "output_type": "stream",
     "text": [
      "1\n",
      "2\n",
      "3\n"
     ]
    }
   ],
   "source": [
    "for (i in 1..3) println(i) // 1..3 is a range that includes 1, 2 and 3"
   ]
  },
  {
   "cell_type": "code",
   "execution_count": 19,
   "metadata": {
    "ExecuteTime": {
     "end_time": "2025-08-27T09:33:07.351825Z",
     "start_time": "2025-08-27T09:33:07.114887Z"
    }
   },
   "outputs": [
    {
     "name": "stdout",
     "output_type": "stream",
     "text": [
      "Java\n",
      "Zone\n",
      "2025\n",
      "hand -> ✋\n",
      "eyes -> 👀\n",
      "hand -> ✋\n",
      "eyes -> 👀\n"
     ]
    }
   ],
   "source": [
    "val words = listOf(\"Java\", \"Zone\", \"2025\")\n",
    "for (word in words) {\n",
    "  println(word)\n",
    "}\n",
    "\n",
    "val emojiSymbols = mapOf(\"hand\" to \"✋\", \"eyes\" to \"👀\")\n",
    "for (emojiSymbol in emojiSymbols) {\n",
    "  println(\"${emojiSymbol.key} -> ${emojiSymbol.value}\")\n",
    "}\n",
    "//or\n",
    "for ((key, value) in emojiSymbols) {\n",
    "  println(\"${key} -> ${value}\")\n",
    "}"
   ]
  },
  {
   "cell_type": "markdown",
   "metadata": {},
   "source": [
    "Kotlin supports destructuring declarations"
   ]
  },
  {
   "cell_type": "code",
   "execution_count": null,
   "metadata": {
    "ExecuteTime": {
     "end_time": "2025-08-27T09:33:07.492158Z",
     "start_time": "2025-08-27T09:33:07.385001Z"
    }
   },
   "outputs": [
    {
     "name": "stdout",
     "output_type": "stream",
     "text": [
      "key: hand, value: ✋\n"
     ]
    }
   ],
   "source": [
    "val pair = \"hand\" to \"✋\" // equivalent to Pair(\"hand\", \"✋\") or \"hand\".pair(\"✋\")\n",
    "val (k, v) = pair\n",
    "println(\"key: $k, value: $v\")"
   ]
  },
  {
   "cell_type": "markdown",
   "metadata": {},
   "source": [
    "## Functions\n",
    "\n",
    "### One-line functions\n",
    "\n",
    "One-line functions can be declared with the `=` operator.\n",
    "The return type is inferred by the compiler."
   ]
  },
  {
   "cell_type": "code",
   "execution_count": 21,
   "metadata": {
    "ExecuteTime": {
     "end_time": "2025-08-27T09:33:07.647543Z",
     "start_time": "2025-08-27T09:33:07.524510Z"
    }
   },
   "outputs": [
    {
     "data": {
      "text/plain": [
       "-24"
      ]
     },
     "execution_count": 21,
     "metadata": {},
     "output_type": "execute_result"
    }
   ],
   "source": [
    "fun mult(x: Int, y: Int) = x * y\n",
    "\n",
    "mult(-6, 4)"
   ]
  },
  {
   "cell_type": "markdown",
   "metadata": {},
   "source": [
    "`Unit` is the equivalent of `void` in Java. It can be omitted in function declarations."
   ]
  },
  {
   "cell_type": "code",
   "execution_count": 51,
   "metadata": {
    "ExecuteTime": {
     "end_time": "2025-08-27T09:46:40.736090Z",
     "start_time": "2025-08-27T09:46:40.663493Z"
    }
   },
   "outputs": [
    {
     "name": "stdout",
     "output_type": "stream",
     "text": [
      "How are you?\n"
     ]
    }
   ],
   "source": [
    "fun printQuestion(s: String): Unit {\n",
    "  println(\"$s?\")\n",
    "}\n",
    "printQuestion(\"How are you\")"
   ]
  },
  {
   "cell_type": "markdown",
   "metadata": {},
   "source": [
    "This is an example of a concise function that takes advantage of single-line functions and `when` expressions (equivalent of `switch`).\n",
    "Let's take a look at this example that returns the language of a greeting. Here, `detectLanguage` returns a `String`."
   ]
  },
  {
   "cell_type": "code",
   "execution_count": 22,
   "metadata": {
    "ExecuteTime": {
     "end_time": "2025-08-27T09:33:07.795189Z",
     "start_time": "2025-08-27T09:33:07.680235Z"
    }
   },
   "outputs": [
    {
     "data": {
      "text/plain": [
       "English"
      ]
     },
     "execution_count": 22,
     "metadata": {},
     "output_type": "execute_result"
    }
   ],
   "source": [
    "fun detectLanguage(greeting: String) = when (greeting) {\n",
    "  \"Bonjour\", \"salut\" -> \"Français\"\n",
    "  \"Good morning\" -> \"English\"\n",
    "  else -> \"Unknown\"\n",
    "}\n",
    "\n",
    "val language = detectLanguage(\"Good morning\")\n",
    "language"
   ]
  },
  {
   "cell_type": "markdown",
   "metadata": {},
   "source": [
    "A function name can be written as a natural sentence by using backticks.\n",
    "This is particularly useful for naming test functions."
   ]
  },
  {
   "cell_type": "code",
   "execution_count": 23,
   "metadata": {
    "ExecuteTime": {
     "end_time": "2025-08-27T09:33:07.961825Z",
     "start_time": "2025-08-27T09:33:07.813460Z"
    }
   },
   "outputs": [],
   "source": [
    "fun `Add two integers`() {\n",
    "  assert(sum(-8, 10) == 2)\n",
    "}\n",
    "\n",
    "`Add two integers`()"
   ]
  },
  {
   "cell_type": "markdown",
   "metadata": {},
   "source": [
    "This is also possible for any identifier, including variable names."
   ]
  },
  {
   "cell_type": "code",
   "execution_count": 24,
   "metadata": {
    "ExecuteTime": {
     "end_time": "2025-08-27T09:33:08.097461Z",
     "start_time": "2025-08-27T09:33:07.980267Z"
    }
   },
   "outputs": [
    {
     "data": {
      "text/plain": [
       "Hello JavaZone 2025"
      ]
     },
     "execution_count": 24,
     "metadata": {},
     "output_type": "execute_result"
    }
   ],
   "source": [
    "val `Hello JavaZone 2025` = \"Hello JavaZone 2025\"\n",
    "`Hello JavaZone 2025`"
   ]
  },
  {
   "cell_type": "markdown",
   "metadata": {},
   "source": [
    "And also classes"
   ]
  },
  {
   "cell_type": "code",
   "execution_count": 25,
   "metadata": {
    "ExecuteTime": {
     "end_time": "2025-08-27T09:33:08.349759Z",
     "start_time": "2025-08-27T09:33:08.240246Z"
    }
   },
   "outputs": [
    {
     "data": {
      "text/plain": [
       "Line_27_jupyter$I am a class@745d67cd"
      ]
     },
     "execution_count": 25,
     "metadata": {},
     "output_type": "execute_result"
    }
   ],
   "source": [
    "class `I am a class`()\n",
    "\n",
    "val obj = `I am a class`()\n",
    "obj"
   ]
  },
  {
   "cell_type": "markdown",
   "metadata": {},
   "source": [
    "### Named and optional arguments\n",
    "\n",
    "In addition to positional arguments, functions can be called with named arguments. The order of arguments is not relevant in this case."
   ]
  },
  {
   "cell_type": "code",
   "execution_count": 26,
   "metadata": {
    "ExecuteTime": {
     "end_time": "2025-08-27T09:33:08.582735Z",
     "start_time": "2025-08-27T09:33:08.522927Z"
    }
   },
   "outputs": [
    {
     "data": {
      "text/plain": [
       "-500"
      ]
     },
     "execution_count": 26,
     "metadata": {},
     "output_type": "execute_result"
    }
   ],
   "source": [
    "mult(x = -5, y = 100)"
   ]
  },
  {
   "cell_type": "code",
   "execution_count": 27,
   "metadata": {
    "ExecuteTime": {
     "end_time": "2025-08-27T09:33:08.690749Z",
     "start_time": "2025-08-27T09:33:08.629453Z"
    }
   },
   "outputs": [
    {
     "data": {
      "text/plain": [
       "-500"
      ]
     },
     "execution_count": 27,
     "metadata": {},
     "output_type": "execute_result"
    }
   ],
   "source": [
    "mult(y = 100, x = -5)"
   ]
  },
  {
   "cell_type": "markdown",
   "metadata": {},
   "source": [
    "Functions support default values\n"
   ]
  },
  {
   "cell_type": "code",
   "execution_count": 28,
   "metadata": {
    "ExecuteTime": {
     "end_time": "2025-08-27T09:33:09.082088Z",
     "start_time": "2025-08-27T09:33:08.914339Z"
    }
   },
   "outputs": [],
   "source": [
    "fun greet(year: Int = 2018, month: Int = 1, message: String = \"Hello\"): String {\n",
    "  return \"${message}. We are in ${month}/${year}\"\n",
    "}"
   ]
  },
  {
   "cell_type": "code",
   "execution_count": 29,
   "metadata": {
    "ExecuteTime": {
     "end_time": "2025-08-27T09:33:09.186701Z",
     "start_time": "2025-08-27T09:33:09.131642Z"
    }
   },
   "outputs": [
    {
     "data": {
      "text/plain": [
       "JavaZone. We are in 9/2025"
      ]
     },
     "execution_count": 29,
     "metadata": {},
     "output_type": "execute_result"
    }
   ],
   "source": [
    "greet(2025, 9, \"JavaZone\")"
   ]
  },
  {
   "cell_type": "code",
   "execution_count": 30,
   "metadata": {
    "ExecuteTime": {
     "end_time": "2025-08-27T09:33:09.449995Z",
     "start_time": "2025-08-27T09:33:09.366274Z"
    }
   },
   "outputs": [
    {
     "data": {
      "text/plain": [
       "Hello. We are in 1/2018"
      ]
     },
     "execution_count": 30,
     "metadata": {},
     "output_type": "execute_result"
    }
   ],
   "source": [
    "greet()"
   ]
  },
  {
   "cell_type": "markdown",
   "metadata": {},
   "source": [
    "Named and optional arguments can be combined to write sleeker code"
   ]
  },
  {
   "cell_type": "code",
   "execution_count": 31,
   "metadata": {
    "ExecuteTime": {
     "end_time": "2025-08-27T09:33:09.860893Z",
     "start_time": "2025-08-27T09:33:09.811088Z"
    }
   },
   "outputs": [
    {
     "data": {
      "text/plain": [
       "Hello. We are in 9/2025"
      ]
     },
     "execution_count": 31,
     "metadata": {},
     "output_type": "execute_result"
    }
   ],
   "source": [
    "greet(year = 2025, month = 9)"
   ]
  },
  {
   "cell_type": "code",
   "execution_count": 32,
   "metadata": {
    "ExecuteTime": {
     "end_time": "2025-08-27T09:33:10.110650Z",
     "start_time": "2025-08-27T09:33:10.069563Z"
    }
   },
   "outputs": [
    {
     "data": {
      "text/plain": [
       "JavaZone. We are in 1/2018"
      ]
     },
     "execution_count": 32,
     "metadata": {},
     "output_type": "execute_result"
    }
   ],
   "source": [
    "greet(message = \"JavaZone\")"
   ]
  },
  {
   "cell_type": "markdown",
   "metadata": {},
   "source": [
    "### Function extensions\n",
    "\n",
    "They provide a way to add functions to existing classes without using inheritance.\n",
    "\n",
    "The syntax is:\n",
    "\n",
    "```kotlin\n",
    "fun ReceiverType.newFunctionName(args): returnType {\n",
    "    // this is available\n",
    "    // implementation\n",
    "}\n",
    "```\n",
    "\n",
    "Here is an example of an extension function that adds an `isCurrentJavaZone(year: Int): Boolean` function to the String class."
   ]
  },
  {
   "cell_type": "code",
   "execution_count": 33,
   "metadata": {
    "ExecuteTime": {
     "end_time": "2025-08-27T09:33:10.258552Z",
     "start_time": "2025-08-27T09:33:10.148704Z"
    }
   },
   "outputs": [
    {
     "name": "stdout",
     "output_type": "stream",
     "text": [
      "false\n",
      "true\n"
     ]
    }
   ],
   "source": [
    "fun String.isCurrentJavaZone(year: Int): Boolean {\n",
    "  val s = \"$this $year\"\n",
    "  return s == \"JavaZone 2025\"\n",
    "}\n",
    "\n",
    "println(\"hello\".isCurrentJavaZone(2025))\n",
    "println(\"JavaZone\".isCurrentJavaZone(2025))"
   ]
  },
  {
   "cell_type": "markdown",
   "metadata": {},
   "source": [
    "Another example of extension that adds a `circleArea(): Double` function to `Int`"
   ]
  },
  {
   "cell_type": "code",
   "execution_count": null,
   "metadata": {
    "ExecuteTime": {
     "end_time": "2025-08-27T09:38:33.956593Z",
     "start_time": "2025-08-27T09:38:33.908024Z"
    }
   },
   "outputs": [
    {
     "data": {
      "text/plain": [
       "12.566370614359172"
      ]
     },
     "execution_count": 50,
     "metadata": {},
     "output_type": "execute_result"
    }
   ],
   "source": [
    "fun Int.circleArea() = this * this * Math.PI\n",
    "\n",
    "2.circleArea()"
   ]
  },
  {
   "cell_type": "markdown",
   "metadata": {},
   "source": [
    "### Functions as first class citizens\n",
    "\n"
   ]
  },
  {
   "cell_type": "markdown",
   "metadata": {},
   "source": [
    "Functions are first-class citizens in Kotlin.\n",
    "This means that functions can be manipulated in a similar way as variables: we can assign them to variables, pass them as function arguments, and return them from a function."
   ]
  },
  {
   "cell_type": "markdown",
   "metadata": {},
   "source": [
    "Assign function to a variable with `class::functionName` or `::functionName` if it is a global function.\n",
    "The type of `f` below is `(Int, Int) -> Int` (function that takes two ints and returns and int)"
   ]
  },
  {
   "cell_type": "code",
   "execution_count": 35,
   "metadata": {
    "ExecuteTime": {
     "end_time": "2025-08-27T09:33:11.030879Z",
     "start_time": "2025-08-27T09:33:10.837645Z"
    }
   },
   "outputs": [
    {
     "data": {
      "text/plain": [
       "2"
      ]
     },
     "execution_count": 35,
     "metadata": {},
     "output_type": "execute_result"
    }
   ],
   "source": [
    "fun subtract(x: Int, y: Int) = x - y\n",
    "\n",
    "val f = ::subtract // :: because subtract is a global function\n",
    "\n",
    "f(6, 4)"
   ]
  },
  {
   "cell_type": "markdown",
   "metadata": {},
   "source": [
    "Assign an anonymous function to a variable"
   ]
  },
  {
   "cell_type": "code",
   "execution_count": 36,
   "metadata": {
    "ExecuteTime": {
     "end_time": "2025-08-27T09:33:11.481257Z",
     "start_time": "2025-08-27T09:33:11.309893Z"
    }
   },
   "outputs": [
    {
     "data": {
      "text/plain": [
       "6"
      ]
     },
     "execution_count": 36,
     "metadata": {},
     "output_type": "execute_result"
    }
   ],
   "source": [
    "val computeMax = { x: Int, y: Int -> max(x, y) }\n",
    "\n",
    "computeMax(6, -7)"
   ]
  },
  {
   "cell_type": "markdown",
   "metadata": {},
   "source": [
    "Functions can take other functions as arguments. `f` is a function that takes two ints and returns an int).\n",
    "`calculate` is called a higher-order function because it takes a function (`f` in this example) as an argument"
   ]
  },
  {
   "cell_type": "code",
   "execution_count": 37,
   "metadata": {
    "ExecuteTime": {
     "end_time": "2025-08-27T09:33:11.827788Z",
     "start_time": "2025-08-27T09:33:11.733174Z"
    }
   },
   "outputs": [],
   "source": [
    "fun applyCalculus(x: Int, y: Int, f: (Int, Int) -> Int): Int {\n",
    "  println(\"Calling the third argument on $x and $y\")\n",
    "  val result = f(x, y)\n",
    "  println(\"The result is $result\")\n",
    "  return result\n",
    "}"
   ]
  },
  {
   "cell_type": "markdown",
   "metadata": {},
   "source": [
    "There are many ways to call this function.\n",
    "\n",
    "By passing a reference to an existing function to the third argument"
   ]
  },
  {
   "cell_type": "code",
   "execution_count": 38,
   "metadata": {
    "ExecuteTime": {
     "end_time": "2025-08-27T09:33:12.242085Z",
     "start_time": "2025-08-27T09:33:12.127301Z"
    }
   },
   "outputs": [
    {
     "name": "stdout",
     "output_type": "stream",
     "text": [
      "Calling the third argument on 6 and 4\n",
      "The result is 2\n"
     ]
    },
    {
     "data": {
      "text/plain": [
       "2"
      ]
     },
     "execution_count": 38,
     "metadata": {},
     "output_type": "execute_result"
    }
   ],
   "source": [
    "applyCalculus(6, 4, ::subtract)"
   ]
  },
  {
   "cell_type": "markdown",
   "metadata": {},
   "source": [
    "By passing a variable that references a function (:: are not needed in this case)"
   ]
  },
  {
   "cell_type": "code",
   "execution_count": 39,
   "metadata": {
    "ExecuteTime": {
     "end_time": "2025-08-27T09:33:12.377800Z",
     "start_time": "2025-08-27T09:33:12.287904Z"
    }
   },
   "outputs": [
    {
     "name": "stdout",
     "output_type": "stream",
     "text": [
      "Calling the third argument on -7 and 90\n",
      "The result is 90\n"
     ]
    },
    {
     "data": {
      "text/plain": [
       "90"
      ]
     },
     "execution_count": 39,
     "metadata": {},
     "output_type": "execute_result"
    }
   ],
   "source": [
    "applyCalculus(-7, 90, computeMax)"
   ]
  },
  {
   "cell_type": "markdown",
   "metadata": {},
   "source": [
    "Using an anonymous function (please also note that `if` is also an expression in Kotlin)"
   ]
  },
  {
   "cell_type": "code",
   "execution_count": 40,
   "metadata": {
    "ExecuteTime": {
     "end_time": "2025-08-27T09:33:12.644169Z",
     "start_time": "2025-08-27T09:33:12.492432Z"
    }
   },
   "outputs": [
    {
     "name": "stdout",
     "output_type": "stream",
     "text": [
      "Calling the third argument on -7 and 90\n",
      "The result is 90\n"
     ]
    },
    {
     "data": {
      "text/plain": [
       "90"
      ]
     },
     "execution_count": 40,
     "metadata": {},
     "output_type": "execute_result"
    }
   ],
   "source": [
    "applyCalculus(-7, 90, { x, y ->\n",
    "  if (x % 2 == 0) x else y\n",
    "})"
   ]
  },
  {
   "cell_type": "markdown",
   "metadata": {},
   "source": [
    "When the last argument is an anonymous function, the closing parenthesis can be placed on the argument before it"
   ]
  },
  {
   "cell_type": "code",
   "execution_count": 41,
   "metadata": {
    "ExecuteTime": {
     "end_time": "2025-08-27T09:33:12.758181Z",
     "start_time": "2025-08-27T09:33:12.701710Z"
    }
   },
   "outputs": [
    {
     "name": "stdout",
     "output_type": "stream",
     "text": [
      "Calling the third argument on 9 and 5\n",
      "The result is 45\n"
     ]
    },
    {
     "data": {
      "text/plain": [
       "45"
      ]
     },
     "execution_count": 41,
     "metadata": {},
     "output_type": "execute_result"
    }
   ],
   "source": [
    "applyCalculus(9, 5) { x, y -> x * y }"
   ]
  },
  {
   "cell_type": "markdown",
   "metadata": {},
   "source": [
    "If a higher-order function has only one argument (the function argument), then the parenthesis can be omitted.\n",
    "In addition to that, if the function argument takes only one argument, then kotlin assigns it to an implicit variable called `it`"
   ]
  },
  {
   "cell_type": "code",
   "execution_count": 42,
   "metadata": {
    "ExecuteTime": {
     "end_time": "2025-08-27T09:33:13.026798Z",
     "start_time": "2025-08-27T09:33:12.813086Z"
    }
   },
   "outputs": [
    {
     "name": "stdout",
     "output_type": "stream",
     "text": [
      "Hello\n",
      "JavaZone 2025\n",
      "Using the implicit it which has a length of 5 - Hello!\n",
      "Using the implicit it which has a length of 13 - JavaZone 2025!\n"
     ]
    }
   ],
   "source": [
    "fun callTwice(f: (String) -> Unit) {\n",
    "  f(\"Hello\")\n",
    "  f(\"JavaZone 2025\")\n",
    "}\n",
    "\n",
    "callTwice { message ->\n",
    "  println(message)\n",
    "}\n",
    "\n",
    "callTwice {\n",
    "  print(\"Using the implicit it which has a length of ${it.length} - \")\n",
    "  println(\"$it!\")\n",
    "}"
   ]
  },
  {
   "cell_type": "markdown",
   "metadata": {},
   "source": [
    "A function argument can also be an extension function.\n",
    "In that case, the argument is expressed as follows: `ReceiverType.(arguments) -> ReturnType`.\n",
    "Note that after the dot, we immediately put the `(arguments)` and not the name of the function since it is not needed in that context."
   ]
  },
  {
   "cell_type": "code",
   "execution_count": 68,
   "metadata": {
    "ExecuteTime": {
     "end_time": "2025-08-27T13:25:55.978161Z",
     "start_time": "2025-08-27T13:25:55.884745Z"
    }
   },
   "outputs": [],
   "source": [
    "fun applyTwiceOnTen(f: Int.() -> Int): Int {\n",
    "  return 10.f().f()\n",
    "}"
   ]
  },
  {
   "cell_type": "markdown",
   "metadata": {},
   "source": [
    "When we call `applyTwice`, we can use `this` to reference the receiver object (the Int on which the function is called)"
   ]
  },
  {
   "cell_type": "code",
   "execution_count": 69,
   "metadata": {
    "ExecuteTime": {
     "end_time": "2025-08-27T13:25:57.461365Z",
     "start_time": "2025-08-27T13:25:57.424268Z"
    }
   },
   "outputs": [
    {
     "data": {
      "text/plain": [
       "16"
      ]
     },
     "execution_count": 69,
     "metadata": {},
     "output_type": "execute_result"
    }
   ],
   "source": [
    "applyTwiceOnTen { this.plus(3) }"
   ]
  },
  {
   "cell_type": "markdown",
   "metadata": {},
   "source": [
    "Or omit it completely."
   ]
  },
  {
   "cell_type": "code",
   "execution_count": 70,
   "metadata": {
    "ExecuteTime": {
     "end_time": "2025-08-27T13:25:59.306287Z",
     "start_time": "2025-08-27T13:25:59.272264Z"
    }
   },
   "outputs": [
    {
     "data": {
      "text/plain": [
       "22"
      ]
     },
     "execution_count": 70,
     "metadata": {},
     "output_type": "execute_result"
    }
   ],
   "source": [
    "applyTwiceOnTen { plus(6) }"
   ]
  },
  {
   "cell_type": "markdown",
   "metadata": {},
   "source": [
    "This kind of syntax is particularly useful when building DSLs.\n",
    "\n",
    "## Domain Specific Languages (DSL)\n",
    "\n",
    "Let's create a DSL that creates a house with rooms.\n",
    "The code should look like this:\n",
    "\n",
    "```kotlin\n",
    "house {\n",
    "  room(\"Living Room\")\n",
    "  room(\"Kitchen\")\n",
    "  room(\"Bedroom\")\n",
    "}\n",
    "```\n",
    "\n",
    "The result of the above code should be a `House` object that contains three `Room` objects.\n",
    "\n",
    "In order to define this DSL, let's first analyse the above code:\n",
    "\n",
    "- We have a global function called `house` that takes a function as argument.\n",
    "- That argument is an extension function on a class (that we'll call `HouseBuilder` by convention) that defines the `room` function.\n",
    "- The room function takes a `String` as argument and adds a `Room` to the `HouseBuilder`.\n",
    "- When the lambda passed to `house` completed, the `house` function calls build a `House` object from the `HouseBuilder`.\n",
    "\n",
    "Let's define one for building a `House` with multiple `Room`s.\n",
    "First, let's define the `Room` and `House` data classes."
   ]
  },
  {
   "cell_type": "code",
   "execution_count": 62,
   "metadata": {
    "ExecuteTime": {
     "end_time": "2025-08-27T12:56:44.135072Z",
     "start_time": "2025-08-27T12:56:44.000113Z"
    }
   },
   "outputs": [],
   "source": [
    "data class Room(val name: String)\n",
    "data class House(val rooms: List<Room>)"
   ]
  },
  {
   "cell_type": "markdown",
   "metadata": {},
   "source": [
    "We can already create a `House` using classic coding."
   ]
  },
  {
   "cell_type": "code",
   "execution_count": 71,
   "metadata": {
    "ExecuteTime": {
     "end_time": "2025-08-27T13:37:31.083183Z",
     "start_time": "2025-08-27T13:37:30.926788Z"
    }
   },
   "outputs": [
    {
     "data": {
      "text/plain": [
       "House(rooms=[Room(name=room1), Room(name=room2), Room(name=room3)])"
      ]
     },
     "execution_count": 71,
     "metadata": {},
     "output_type": "execute_result"
    }
   ],
   "source": [
    "val rooms = listOf(Room(\"room1\"), Room(\"room2\"), Room(\"room3\"))\n",
    "House(rooms)"
   ]
  },
  {
   "cell_type": "markdown",
   "metadata": {},
   "source": [
    "Next, let's create a `HouseBuilder` class that defines a `room` function to add rooms and a `build` function to create the house from the list of rooms."
   ]
  },
  {
   "cell_type": "code",
   "execution_count": 63,
   "metadata": {
    "ExecuteTime": {
     "end_time": "2025-08-27T12:56:45.998572Z",
     "start_time": "2025-08-27T12:56:45.911835Z"
    }
   },
   "outputs": [],
   "source": [
    "class HouseBuilder() {\n",
    "  val rooms = mutableListOf<Room>()\n",
    "  fun room(name: String) {\n",
    "    val room = Room(name)\n",
    "    rooms.add(room)\n",
    "  }\n",
    "\n",
    "  fun build() = House(rooms.toList())\n",
    "}"
   ]
  },
  {
   "cell_type": "markdown",
   "metadata": {},
   "source": [
    "Finally, we can define the `house` function that takes an extension function on `HouseBuilder` as argument.\n",
    "Inside it, at the end, we call the `build` function to create the `House` object."
   ]
  },
  {
   "cell_type": "code",
   "execution_count": 64,
   "metadata": {
    "ExecuteTime": {
     "end_time": "2025-08-27T12:58:36.096377Z",
     "start_time": "2025-08-27T12:58:36.062582Z"
    }
   },
   "outputs": [],
   "source": [
    "fun house(f: HouseBuilder.() -> Unit): House {\n",
    "  val builder = HouseBuilder()\n",
    "  builder.f()\n",
    "  return builder.build()\n",
    "}"
   ]
  },
  {
   "cell_type": "markdown",
   "metadata": {},
   "source": [
    "Let's define a house.\n",
    "We can note that inside the lambda, we can call the `room` function directly without any qualifier."
   ]
  },
  {
   "cell_type": "code",
   "execution_count": 73,
   "metadata": {
    "ExecuteTime": {
     "end_time": "2025-08-27T13:39:54.135112Z",
     "start_time": "2025-08-27T13:39:54.095637Z"
    }
   },
   "outputs": [
    {
     "data": {
      "text/plain": [
       "House(rooms=[Room(name=Living Room), Room(name=Kitchen), Room(name=Bedroom)])"
      ]
     },
     "execution_count": 73,
     "metadata": {},
     "output_type": "execute_result"
    }
   ],
   "source": [
    "val h = house {\n",
    "  room(\"Living Room\")\n",
    "  room(\"Kitchen\")\n",
    "  room(\"Bedroom\")\n",
    "}\n",
    "h"
   ]
  },
  {
   "cell_type": "code",
   "execution_count": 67,
   "metadata": {
    "ExecuteTime": {
     "end_time": "2025-08-27T12:59:04.934541Z",
     "start_time": "2025-08-27T12:59:04.874360Z"
    }
   },
   "outputs": [
    {
     "data": {
      "text/plain": [
       "House(rooms=[Room(name=Living Room), Room(name=Kitchen), Room(name=Bedroom), Room(name=Bathroom), Room(name=Office)])"
      ]
     },
     "execution_count": 67,
     "metadata": {},
     "output_type": "execute_result"
    }
   ],
   "source": [
    "house {\n",
    "  room(\"Living Room\")\n",
    "  room(\"Kitchen\")\n",
    "  room(\"Bedroom\")\n",
    "  room(\"Bathroom\")\n",
    "  room(\"Office\")\n",
    "}"
   ]
  },
  {
   "cell_type": "markdown",
   "metadata": {},
   "source": [
    "## Domain Specific Languages (DSLs)\n",
    "\n",
    "By combining function extensions and higher-order functions, we can create DSLs in Kotlin."
   ]
  },
  {
   "cell_type": "code",
   "execution_count": 53,
   "metadata": {
    "ExecuteTime": {
     "end_time": "2025-08-27T09:58:42.828587Z",
     "start_time": "2025-08-27T09:58:42.793634Z"
    }
   },
   "outputs": [
    {
     "data": {
      "text/plain": [
       "null"
      ]
     },
     "execution_count": 53,
     "metadata": {},
     "output_type": "execute_result"
    }
   ],
   "source": [
    "var s = \"Hello\"\n",
    "// s = null\n",
    "// at Cell In[29], line 2, column 5: Null can not be a value of a non-null type String\n",
    "\n",
    "var s2: String? = \"Hello\"\n",
    "s2 = null\n",
    "s2"
   ]
  },
  {
   "cell_type": "markdown",
   "metadata": {},
   "source": [
    "A non-nullable type can be assigned to its nullable equivalent, but not the opposite."
   ]
  },
  {
   "cell_type": "code",
   "execution_count": 55,
   "metadata": {
    "ExecuteTime": {
     "end_time": "2025-08-27T10:00:48.904360Z",
     "start_time": "2025-08-27T10:00:48.863803Z"
    }
   },
   "outputs": [
    {
     "data": {
      "text/plain": [
       "Hello"
      ]
     },
     "execution_count": 55,
     "metadata": {},
     "output_type": "execute_result"
    }
   ],
   "source": [
    "s2 = s\n",
    "s2\n",
    "\n",
    "// s = s2\n",
    "// Type mismatch: inferred type is String? but String was expected"
   ]
  },
  {
   "cell_type": "markdown",
   "metadata": {},
   "source": [
    "This means that some functions designed to take non-nullables cannot accept nullables."
   ]
  },
  {
   "cell_type": "code",
   "execution_count": 45,
   "metadata": {
    "ExecuteTime": {
     "end_time": "2025-08-27T09:33:13.452971Z",
     "start_time": "2025-08-27T09:33:13.411349Z"
    }
   },
   "outputs": [],
   "source": [
    "//String.format(s2)\n",
    "//Type mismatch: inferred type is String? but String was expected"
   ]
  },
  {
   "cell_type": "markdown",
   "metadata": {},
   "source": [
    "In Kotlin, we try to get rid of nullables whenever possible and there are many ways to do it.\n",
    "Let's see some examples through a function that takes a nullable and returns a non-nullable.\n",
    "\n",
    "First, let's use smart casting which automatically infers the type based on previous conditions."
   ]
  },
  {
   "cell_type": "code",
   "execution_count": 46,
   "metadata": {
    "ExecuteTime": {
     "end_time": "2025-08-27T09:33:13.668449Z",
     "start_time": "2025-08-27T09:33:13.513983Z"
    }
   },
   "outputs": [
    {
     "name": "stdout",
     "output_type": "stream",
     "text": [
      "H\n",
      "W\n"
     ]
    }
   ],
   "source": [
    "fun capitalizeFirstOrDefault(text: String?, default: String): String {\n",
    "  if (text == null) {\n",
    "    return default\n",
    "  }\n",
    "  // In this point forward text is of type String\n",
    "  return text.first().uppercase()\n",
    "}\n",
    "println(capitalizeFirstOrDefault(\"Hello\", \"W\"))\n",
    "println(capitalizeFirstOrDefault(null, \"W\"))"
   ]
  },
  {
   "cell_type": "markdown",
   "metadata": {},
   "source": [
    "We can also use null chaining with the ? operator. The result is still a nullable though. Thus, we need to convert the result into a non-nullable."
   ]
  },
  {
   "cell_type": "code",
   "execution_count": 47,
   "metadata": {
    "ExecuteTime": {
     "end_time": "2025-08-27T09:33:14.001111Z",
     "start_time": "2025-08-27T09:33:13.820281Z"
    }
   },
   "outputs": [
    {
     "name": "stdout",
     "output_type": "stream",
     "text": [
      "H\n",
      "W\n"
     ]
    }
   ],
   "source": [
    "fun capitalizeFirstOrDefaultOptChaining(text: String?, default: String): String {\n",
    "  val firstLetter = text?.first()?.uppercase()\n",
    "  return if (firstLetter == null) default else firstLetter\n",
    "}\n",
    "println(capitalizeFirstOrDefaultOptChaining(\"Hello\", \"W\"))\n",
    "println(capitalizeFirstOrDefaultOptChaining(null, \"W\"))"
   ]
  },
  {
   "cell_type": "markdown",
   "metadata": {},
   "source": [
    "The elvis operator `?:` allows to more easily provide a default value to a nullable."
   ]
  },
  {
   "cell_type": "code",
   "execution_count": 48,
   "metadata": {
    "ExecuteTime": {
     "end_time": "2025-08-27T09:33:14.357671Z",
     "start_time": "2025-08-27T09:33:14.146521Z"
    }
   },
   "outputs": [
    {
     "name": "stdout",
     "output_type": "stream",
     "text": [
      "H\n",
      "W\n"
     ]
    }
   ],
   "source": [
    "fun capitalizeFirstOrDefaultElvis(text: String?, default: String): String {\n",
    "  return text?.first()?.uppercase() ?: default\n",
    "}\n",
    "println(capitalizeFirstOrDefaultElvis(\"Hello\", \"W\"))\n",
    "println(capitalizeFirstOrDefaultElvis(null, \"W\"))"
   ]
  },
  {
   "cell_type": "markdown",
   "metadata": {},
   "source": [
    "We can even make it a single-line function"
   ]
  },
  {
   "cell_type": "code",
   "execution_count": 49,
   "metadata": {
    "ExecuteTime": {
     "end_time": "2025-08-27T09:33:14.596859Z",
     "start_time": "2025-08-27T09:33:14.518513Z"
    }
   },
   "outputs": [
    {
     "name": "stdout",
     "output_type": "stream",
     "text": [
      "H\n",
      "W\n"
     ]
    }
   ],
   "source": [
    "fun capitalizeFirstSingleLine(text: String?, default: String) = text?.first()?.uppercase() ?: default\n",
    "\n",
    "println(capitalizeFirstSingleLine(\"Hello\", \"W\"))\n",
    "println(capitalizeFirstSingleLine(null, \"W\"))"
   ]
  },
  {
   "cell_type": "markdown",
   "metadata": {},
   "source": [
    "## Couroutines\n",
    "\n",
    "Coroutines are a big topic, but we'll cover the basic concepts that are useful for the remainder of the workshop.\n",
    "\n",
    "The basic idea behind is to write asynchronous code in a sequential way.\n",
    "These long running functions can be paused and resumed without blocking the underlying thread.\n",
    "They are called suspending functions and are defined with the `suspend` qualifier.\n",
    "Suspending function have to be called from a special code blocks called a coroutine scope.\n",
    "Kotlin provides many ways to create coroutine scopes, the simplest one being the `runBlocking` function.\n",
    "\n",
    "Let's take a look at an example.\n",
    "First, let's download the necessary library."
   ]
  },
  {
   "cell_type": "code",
   "execution_count": 2,
   "metadata": {
    "ExecuteTime": {
     "end_time": "2025-08-28T18:37:17.027678Z",
     "start_time": "2025-08-28T18:37:15.425748Z"
    }
   },
   "outputs": [],
   "source": [
    "%use coroutines"
   ]
  },
  {
   "cell_type": "markdown",
   "metadata": {},
   "source": [
    "Suppose that we have a function that takes a long time to complete (e.g. a network call).\n",
    "Let's define it as a suspending function that simulates a long computation with `delay`."
   ]
  },
  {
   "cell_type": "code",
   "execution_count": 3,
   "metadata": {
    "ExecuteTime": {
     "end_time": "2025-08-28T18:37:29.933349Z",
     "start_time": "2025-08-28T18:37:29.793066Z"
    }
   },
   "outputs": [],
   "source": [
    "suspend fun fetchData(): String {\n",
    "  kotlinx.coroutines.delay(3000) // simulate a long computation\n",
    "  return \"Data from the network\"\n",
    "}"
   ]
  },
  {
   "cell_type": "markdown",
   "metadata": {},
   "source": [
    "This code cannot be called directly since it is a suspending function.\n",
    "Instead, we can call it from a coroutine scope created with `runBlocking`.\n",
    "The syntax is similar to `async` and `await` in JavaScript, with `async` being the equivalent of `suspend` and `await` being implicit in Kotlin."
   ]
  },
  {
   "cell_type": "code",
   "execution_count": 4,
   "metadata": {
    "ExecuteTime": {
     "end_time": "2025-08-28T18:38:10.433254Z",
     "start_time": "2025-08-28T18:38:07.263054Z"
    }
   },
   "outputs": [
    {
     "name": "stdout",
     "output_type": "stream",
     "text": [
      "Data from the network\n"
     ]
    }
   ],
   "source": [
    "runBlocking {\n",
    "  val data = fetchData()\n",
    "  println(data)\n",
    "}"
   ]
  },
  {
   "cell_type": "markdown",
   "metadata": {},
   "source": [
    "Please note that the code inside `runBlocking` is still sequential, while keeping the calling thread unblocked.\n",
    "The latter is useful in UI applications where the UI thread must not be blocked.\n",
    "For example, in Android and iOS forbid calling network from the main thread, thus coroutines are very useful in this situation."
   ]
  },
  {
   "cell_type": "markdown",
   "metadata": {},
   "source": [
    "## References\n",
    "\n",
    "- [Building DSLs in Kotlin](https://www.baeldung.com/kotlin/dsl)"
   ]
  }
 ],
 "metadata": {
  "kernelspec": {
   "display_name": "Kotlin",
   "language": "kotlin",
   "name": "kotlin"
  },
  "language_info": {
   "codemirror_mode": "text/x-kotlin",
   "file_extension": ".kt",
   "mimetype": "text/x-kotlin",
   "name": "kotlin",
   "nbconvert_exporter": "",
   "pygments_lexer": "kotlin",
   "version": "1.9.23"
  }
 },
 "nbformat": 4,
 "nbformat_minor": 2
}

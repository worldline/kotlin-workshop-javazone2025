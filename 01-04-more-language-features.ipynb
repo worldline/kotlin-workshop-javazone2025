{
 "cells": [
  {
   "cell_type": "markdown",
   "metadata": {},
   "source": [
    "# More Kotlin Language features\n",
    "\n",
    "## If ans swift expressions"
   ]
  },
  {
   "metadata": {},
   "cell_type": "markdown",
   "source": "`if` and `when` (equivalent of Java's `switch` are expressions)"
  },
  {
   "metadata": {
    "ExecuteTime": {
     "end_time": "2025-08-20T13:44:14.349999Z",
     "start_time": "2025-08-20T13:44:14.198054Z"
    }
   },
   "cell_type": "code",
   "source": [
    "val total = 5 + 9\n",
    "val testResult1 = if (total > 3) {\n",
    "    \"Big\"\n",
    "} else {\n",
    "    \"small\"\n",
    "}\n",
    "testResult1"
   ],
   "outputs": [
    {
     "data": {
      "text/plain": [
       "Big"
      ]
     },
     "execution_count": 2,
     "metadata": {},
     "output_type": "execute_result"
    }
   ],
   "execution_count": 2
  },
  {
   "metadata": {
    "ExecuteTime": {
     "end_time": "2025-08-20T13:44:14.424432Z",
     "start_time": "2025-08-20T13:44:14.359282Z"
    }
   },
   "cell_type": "code",
   "source": [
    "val greeting = \"Bonjour\"\n",
    "val language = when (greeting) {\n",
    "    \"Bonjour\", \"salut\" -> \"Français\"\n",
    "    \"Good morning\" -> \"English\"\n",
    "    else -> \"Unknown\"\n",
    "}\n",
    "language"
   ],
   "outputs": [
    {
     "data": {
      "text/plain": [
       "Français"
      ]
     },
     "execution_count": 3,
     "metadata": {},
     "output_type": "execute_result"
    }
   ],
   "execution_count": 3
  },
  {
   "metadata": {},
   "cell_type": "markdown",
   "source": "Ternary operation is not available since this can be achieved with a single line `if`"
  },
  {
   "metadata": {
    "ExecuteTime": {
     "end_time": "2025-08-20T13:44:14.519776Z",
     "start_time": "2025-08-20T13:44:14.448889Z"
    }
   },
   "cell_type": "code",
   "source": [
    "val testResult2 = if (total > 3) \"Big\" else \"small\"\n",
    "testResult2"
   ],
   "outputs": [
    {
     "data": {
      "text/plain": [
       "Big"
      ]
     },
     "execution_count": 4,
     "metadata": {},
     "output_type": "execute_result"
    }
   ],
   "execution_count": 4
  },
  {
   "metadata": {},
   "cell_type": "markdown",
   "source": [
    "## Range objects\n",
    "\n",
    "Ranges are objects that allow to write nice for loops"
   ]
  },
  {
   "cell_type": "code",
   "metadata": {
    "ExecuteTime": {
     "end_time": "2025-08-20T13:44:14.635247Z",
     "start_time": "2025-08-20T13:44:14.530565Z"
    }
   },
   "source": [
    "val range = 1..3\n",
    "\"range: $range, first: ${range.first}, last: ${range.last}, step: ${range.step}\""
   ],
   "outputs": [
    {
     "data": {
      "text/plain": [
       "range: 1..3, first: 1, last: 3, step: 1"
      ]
     },
     "execution_count": 5,
     "metadata": {},
     "output_type": "execute_result"
    }
   ],
   "execution_count": 5
  },
  {
   "cell_type": "markdown",
   "metadata": {},
   "source": [
    "For loop are much easier to write and read"
   ]
  },
  {
   "cell_type": "code",
   "metadata": {
    "ExecuteTime": {
     "end_time": "2025-08-20T13:44:14.940591Z",
     "start_time": "2025-08-20T13:44:14.642251Z"
    }
   },
   "source": [
    "for (i in 1..3) println(i)"
   ],
   "outputs": [
    {
     "name": "stdout",
     "output_type": "stream",
     "text": [
      "1\n",
      "2\n",
      "3\n"
     ]
    }
   ],
   "execution_count": 6
  },
  {
   "cell_type": "markdown",
   "metadata": {},
   "source": [
    "## Collections\n",
    "\n",
    "Kotlin, thanks to its standard library, provides out of the box support for collection operations like `map`, `filter`, `reduce`, etc.\n",
    "The declarative API are somewhat similar Java Streams but can feel more natural to use."
   ]
  },
  {
   "metadata": {
    "ExecuteTime": {
     "end_time": "2025-08-20T13:44:15.457844Z",
     "start_time": "2025-08-20T13:44:14.973009Z"
    }
   },
   "cell_type": "code",
   "source": [
    "val fantasyNames = listOf(\"Clebbrer\", \"Sninjur\", \"Moddnaac\", \"Leednat\" ,\"Gierwyst\", \"Zevurig\", \"Claamparairt\", \"Gufapraam\", \"Riemaprast\", \"Bilanjom\")\n",
    "\n",
    "// find names that start with \"G\" or end with \"t\" and return them as capital letters\n",
    "fantasyNames.filter { it.startsWith('G') || it.endsWith('t') }.map { it.uppercase() }\n"
   ],
   "outputs": [
    {
     "data": {
      "text/plain": [
       "[LEEDNAT, GIERWYST, CLAAMPARAIRT, GUFAPRAAM, RIEMAPRAST]"
      ]
     },
     "execution_count": 7,
     "metadata": {},
     "output_type": "execute_result"
    }
   ],
   "execution_count": 7
  },
  {
   "metadata": {},
   "cell_type": "markdown",
   "source": "Ccount the number of vowels. `flapmap` converts a 2d array to a 1d array by concatenating the elements (called a flat operation)"
  },
  {
   "metadata": {
    "ExecuteTime": {
     "end_time": "2025-08-20T13:44:15.828206Z",
     "start_time": "2025-08-20T13:44:15.468002Z"
    }
   },
   "cell_type": "code",
   "source": "fantasyNames.flatMap{ it.toList() }.filter{ \"aiueo\".contains(it) }.map { 1 }.sum()",
   "outputs": [
    {
     "data": {
      "text/plain": [
       "31"
      ]
     },
     "execution_count": 8,
     "metadata": {},
     "output_type": "execute_result"
    }
   ],
   "execution_count": 8
  },
  {
   "metadata": {},
   "cell_type": "markdown",
   "source": "Alternative way using `reduce` instead of `sum`"
  },
  {
   "metadata": {
    "ExecuteTime": {
     "end_time": "2025-08-20T13:44:16.208968Z",
     "start_time": "2025-08-20T13:44:15.856196Z"
    }
   },
   "cell_type": "code",
   "source": [
    "fantasyNames.flatMap{ it.toList() }\n",
    "    .map{ if (\"aiueo\".contains(it)) 1 else 0 }\n",
    "    .reduce { acc, current -> acc + current }"
   ],
   "outputs": [
    {
     "data": {
      "text/plain": [
       "31"
      ]
     },
     "execution_count": 9,
     "metadata": {},
     "output_type": "execute_result"
    }
   ],
   "execution_count": 9
  }
 ],
 "metadata": {
  "kernelspec": {
   "display_name": "Kotlin",
   "language": "kotlin",
   "name": "kotlin"
  },
  "language_info": {
   "codemirror_mode": "text/x-kotlin",
   "file_extension": ".kt",
   "mimetype": "text/x-kotlin",
   "name": "kotlin",
   "nbconvert_exporter": "",
   "pygments_lexer": "kotlin",
   "version": "1.9.23"
  }
 },
 "nbformat": 4,
 "nbformat_minor": 2
}

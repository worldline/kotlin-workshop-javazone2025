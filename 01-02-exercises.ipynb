{
 "cells": [
  {
   "cell_type": "markdown",
   "metadata": {},
   "source": [
    "# Exercises\n",
    "\n",
    "1. Define a function called `countVowels` that takes a String argument and returns its number of vowels (a, u, i , e, o).\n",
    "2. Define an extension function for the Array<Int> class that returns the maximum value in the array or throws an exception if the array is empty.\n",
    "3. Modify the House DSL seen in [01-01-kotlin-tour.ipynb](./01-01-kotlin-tour.ipynb) to be able to define furniture in rooms.\n",
    "\n",
    "  ```kotlin\n",
    "  house {\n",
    "      room(\"Living Room\") {\n",
    "          furniture(\"Sofa\")\n",
    "          furniture(\"Coffee Table\")\n",
    "      }\n",
    "      room(\"Bedroom\") {\n",
    "          furniture(\"Bed\")\n",
    "          furniture(\"Wardrobe\")\n",
    "      }\n",
    "  }\n",
    "  ```"
   ]
  }
 ],
 "metadata": {
  "kernelspec": {
   "display_name": "Kotlin",
   "language": "kotlin",
   "name": "kotlin"
  },
  "language_info": {
   "codemirror_mode": "text/x-kotlin",
   "file_extension": ".kt",
   "mimetype": "text/x-kotlin",
   "name": "kotlin",
   "nbconvert_exporter": "",
   "pygments_lexer": "kotlin",
   "version": "1.9.23"
  }
 },
 "nbformat": 4,
 "nbformat_minor": 0
}

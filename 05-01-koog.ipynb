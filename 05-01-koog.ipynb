{
 "cells": [
  {
   "cell_type": "markdown",
   "metadata": {},
   "source": [
    "# Koog\n",
    "\n"
   ]
  },
  {
   "metadata": {},
   "cell_type": "markdown",
   "source": [
    "[Koog](https://docs.koog.ai/) a multiplatform library for building AI empowered applications in idiomatic Kotlin (in a way that feels natural for Kotlin devs).\n",
    "It supports state of the art features like agents, MCP, tools, embeddings, and more.\n",
    "It can currently target the JVM, WASM and JS.\n",
    "\n",
    "Since it supports the JVM, we can use it in a Kotlin notebook.\n",
    "Let's start by adding the dependency."
   ]
  },
  {
   "metadata": {
    "ExecuteTime": {
     "end_time": "2025-08-22T14:33:24.529320Z",
     "start_time": "2025-08-22T14:33:24.103127Z"
    }
   },
   "cell_type": "code",
   "source": "%use koog(0.3.0)",
   "outputs": [],
   "execution_count": 22
  },
  {
   "metadata": {},
   "cell_type": "markdown",
   "source": "## Single-run agents"
  },
  {
   "metadata": {},
   "cell_type": "markdown",
   "source": "Create an agent for different providers"
  },
  {
   "metadata": {
    "ExecuteTime": {
     "end_time": "2025-08-22T14:33:24.615084Z",
     "start_time": "2025-08-22T14:33:24.535584Z"
    }
   },
   "cell_type": "code",
   "source": [
    "val systemPrompt = \"You are a helpful assistant. Answer user questions concisely.\"\n",
    "\n",
    "fun getOpenAiAgent() = AIAgent(\n",
    "    executor = simpleOpenAIExecutor(System.getenv(\"OPENAI_API_KEY\")),\n",
    "    systemPrompt = systemPrompt,\n",
    "    llmModel = OpenAIModels.Chat.GPT4o\n",
    ")\n",
    "\n",
    "fun getGoogleAiAgent() = AIAgent(\n",
    "    executor = simpleGoogleAIExecutor(System.getenv(\"GOOGLEAI_API_KEY\")),\n",
    "    systemPrompt = systemPrompt,\n",
    "    llmModel = GoogleModels.Gemini2_0FlashLite\n",
    ")"
   ],
   "outputs": [],
   "execution_count": 23
  },
  {
   "metadata": {},
   "cell_type": "markdown",
   "source": "Uncomment the agent you want to use"
  },
  {
   "metadata": {
    "ExecuteTime": {
     "end_time": "2025-08-22T14:33:24.649018Z",
     "start_time": "2025-08-22T14:33:24.622375Z"
    }
   },
   "cell_type": "code",
   "source": [
    "//val agent = getOpenAiAgent()\n",
    "val agent = getGoogleAiAgent()"
   ],
   "outputs": [],
   "execution_count": 24
  },
  {
   "metadata": {
    "ExecuteTime": {
     "end_time": "2025-08-22T14:33:25.279600Z",
     "start_time": "2025-08-22T14:33:24.654747Z"
    }
   },
   "cell_type": "code",
   "source": [
    "import kotlinx.coroutines.runBlocking\n",
    "\n",
    "runBlocking {\n",
    "    val result = agent.run(\"Hello! How can you help me?\")\n",
    "    println(result)\n",
    "}"
   ],
   "outputs": [
    {
     "name": "stdout",
     "output_type": "stream",
     "text": [
      "I can provide information, answer questions, and complete tasks as instructed. What can I do for you today?\n",
      "\n"
     ]
    }
   ],
   "execution_count": 25
  },
  {
   "metadata": {},
   "cell_type": "markdown",
   "source": [
    "## Tool calling\n",
    "\n",
    "First, define the toolset"
   ]
  },
  {
   "metadata": {
    "ExecuteTime": {
     "end_time": "2025-08-22T14:46:50.066239Z",
     "start_time": "2025-08-22T14:46:50.002797Z"
    }
   },
   "cell_type": "code",
   "source": [
    "import ai.koog.agents.core.tools.annotations.Tool\n",
    "\n",
    "@LLMDescription(\"Tools for performing basic arithmetic operations\")\n",
    "class CircleGeometryToolset : ToolSet {\n",
    "    @Tool\n",
    "    @LLMDescription(\"Circle are calculation\")\n",
    "    fun area(\n",
    "        @LLMDescription(\"Circle circumference radius (floating point value)\")\n",
    "        r: Double,\n",
    "    ) = r * Math.PI * Math.PI\n",
    "\n",
    "    @Tool\n",
    "    @LLMDescription(\"Circle circumference calculation\")\n",
    "    fun circumference(\n",
    "        @LLMDescription(\"Circle circumference radius (floating point value)\")\n",
    "        r: Double,\n",
    "    ) = r * 2 * Math.PI\n",
    "}\n",
    "\n",
    "// Add the tool to the tool registry\n",
    "val toolRegistry = ToolRegistry {\n",
    "    tools(CircleGeometryToolset())\n",
    "}"
   ],
   "outputs": [],
   "execution_count": 31
  },
  {
   "metadata": {},
   "cell_type": "markdown",
   "source": "Add an event handler feature to log tool calls"
  },
  {
   "metadata": {
    "ExecuteTime": {
     "end_time": "2025-08-22T14:46:44.388626Z",
     "start_time": "2025-08-22T14:46:44.215423Z"
    }
   },
   "cell_type": "code",
   "source": [
    "import ai.koog.agents.features.eventHandler.feature.EventHandler\n",
    "\n",
    "val features: AIAgent.FeatureContext.() -> Unit = {\n",
    "    install(EventHandler) {\n",
    "        onToolCall { println(\"tool called $it\") }\n",
    "    }\n",
    "}"
   ],
   "outputs": [],
   "execution_count": 29
  },
  {
   "metadata": {},
   "cell_type": "markdown",
   "source": "Define the agent"
  },
  {
   "metadata": {
    "ExecuteTime": {
     "end_time": "2025-08-22T14:47:04.177434Z",
     "start_time": "2025-08-22T14:47:04.093896Z"
    }
   },
   "cell_type": "code",
   "source": [
    "val circleGeomertrySystemPrompt =\n",
    "    \"You are a helpful assistant that can perform circle area and circumference calculations using the provided tools.\"\n",
    "\n",
    "fun getGoogleAiAgentWithTools() = AIAgent(\n",
    "    executor = simpleGoogleAIExecutor(System.getenv(\"GOOGLEAI_API_KEY\")),\n",
    "    llmModel = GoogleModels.Gemini2_0FlashLite,\n",
    "    toolRegistry = toolRegistry,\n",
    "    systemPrompt = circleGeomertrySystemPrompt,\n",
    "    installFeatures = features\n",
    ")\n",
    "\n",
    "fun getOpenAiAgentWithTools() = AIAgent(\n",
    "    executor = simpleOpenAIExecutor(System.getenv(\"OPENAI_API_KEY\")),\n",
    "    llmModel = OpenAIModels.Chat.GPT4o,\n",
    "    systemPrompt = circleGeomertrySystemPrompt,\n",
    "    toolRegistry = toolRegistry,\n",
    "    installFeatures = features\n",
    ")\n",
    "\n",
    "val agentWithTools = getGoogleAiAgentWithTools()\n",
    "//val agentWithTools = getOpenAiAgentWithTools()"
   ],
   "outputs": [],
   "execution_count": 32
  },
  {
   "metadata": {
    "ExecuteTime": {
     "end_time": "2025-08-22T14:47:07.815652Z",
     "start_time": "2025-08-22T14:47:06.047771Z"
    }
   },
   "cell_type": "code",
   "source": [
    "import kotlinx.coroutines.runBlocking\n",
    "\n",
    "runBlocking {\n",
    "    val result = agentWithTools.run(\"What is the are and circumference of a circle with radius 5?\")\n",
    "    println(result)\n",
    "    println(\"Cecck area: ${(5 * Math.PI * Math.PI)} Circumference: ${5 * 2 * Math.PI}\")\n",
    "}"
   ],
   "outputs": [
    {
     "name": "stdout",
     "output_type": "stream",
     "text": [
      "tool called ToolCallContext(runId=c7ba42d3-cbb5-4240-bdde-221b44bac597, toolCallId=ff96ff8b-d21d-42ee-9db3-495a7f3a28f8, tool=ai.koog.agents.core.tools.reflect.ToolFromCallable@162aa5e1, toolArgs=VarArgs(args={parameter #1 r of fun Line_32_jupyter.CircleGeometryToolset.area(kotlin.Double): kotlin.Double=5.0}))\n",
      "tool called ToolCallContext(runId=c7ba42d3-cbb5-4240-bdde-221b44bac597, toolCallId=a5e361f8-27ef-447a-99e9-e44ae2445f9a, tool=ai.koog.agents.core.tools.reflect.ToolFromCallable@3ee70f51, toolArgs=VarArgs(args={parameter #1 r of fun Line_32_jupyter.CircleGeometryToolset.circumference(kotlin.Double): kotlin.Double=5.0}))\n",
      "The area is 49.348 and the circumference is 31.416.\n",
      "\n",
      "Cecck area: 49.348022005446786 Circumference: 31.41592653589793\n"
     ]
    }
   ],
   "execution_count": 33
  }
 ],
 "metadata": {
  "kernelspec": {
   "display_name": "Kotlin",
   "language": "kotlin",
   "name": "kotlin"
  },
  "language_info": {
   "codemirror_mode": "text/x-kotlin",
   "file_extension": ".kt",
   "mimetype": "text/x-kotlin",
   "name": "kotlin",
   "nbconvert_exporter": "",
   "pygments_lexer": "kotlin",
   "version": "1.9.23"
  }
 },
 "nbformat": 4,
 "nbformat_minor": 0
}

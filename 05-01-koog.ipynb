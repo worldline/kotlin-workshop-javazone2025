{
 "cells": [
  {
   "cell_type": "markdown",
   "metadata": {},
   "source": [
    "# Koog\n",
    "\n"
   ]
  },
  {
   "metadata": {},
   "cell_type": "markdown",
   "source": [
    "[Koog](https://docs.koog.ai/) a multiplatform library for building AI empowered applications in idiomatic Kotlin (in a way that feels natural for Kotlin devs).\n",
    "It supports state of the art features like agents, MCP, embeddings, and more.\n",
    "It can currently target the JVM, WASM and JS.\n",
    "\n",
    "Since it supports the JVM, we can use it in a Kotlin notebook.\n",
    "Let's start by adding the dependency."
   ]
  },
  {
   "metadata": {
    "ExecuteTime": {
     "end_time": "2025-08-22T09:59:54.860456Z",
     "start_time": "2025-08-22T09:59:53.131212Z"
    }
   },
   "cell_type": "code",
   "source": "%use koog(0.3.0)",
   "outputs": [],
   "execution_count": 11
  },
  {
   "metadata": {},
   "cell_type": "markdown",
   "source": "## Single-run agents"
  },
  {
   "metadata": {},
   "cell_type": "markdown",
   "source": "Create an agent for different providers"
  },
  {
   "metadata": {
    "ExecuteTime": {
     "end_time": "2025-08-22T09:54:35.206125Z",
     "start_time": "2025-08-22T09:54:35.082209Z"
    }
   },
   "cell_type": "code",
   "source": [
    "val systemPrompt = \"You are a helpful assistant. Answer user questions concisely.\"\n",
    "\n",
    "fun getOpenAiAgent() = AIAgent(\n",
    "    executor = simpleOpenAIExecutor(System.getenv(\"OPENAI_API_KEY\")),\n",
    "    systemPrompt = systemPrompt,\n",
    "    llmModel = OpenAIModels.Chat.GPT4o\n",
    ")\n",
    "\n",
    "fun getGoogleAiAgent() = AIAgent(\n",
    "    executor = simpleGoogleAIExecutor(System.getenv(\"GOOGLEAI_API_KEY\")),\n",
    "    systemPrompt = systemPrompt,\n",
    "    llmModel = GoogleModels.Gemini2_0FlashLite\n",
    ")"
   ],
   "outputs": [],
   "execution_count": 7
  },
  {
   "metadata": {},
   "cell_type": "markdown",
   "source": "Uncomment the agent you want to use"
  },
  {
   "metadata": {
    "ExecuteTime": {
     "end_time": "2025-08-22T09:54:35.386856Z",
     "start_time": "2025-08-22T09:54:35.220420Z"
    }
   },
   "cell_type": "code",
   "source": [
    "//val agent = getOpenAiAgent()\n",
    "val agent = getGoogleAiAgent()\n"
   ],
   "outputs": [],
   "execution_count": 8
  },
  {
   "metadata": {
    "ExecuteTime": {
     "end_time": "2025-08-22T09:54:42.768121Z",
     "start_time": "2025-08-22T09:54:41.780267Z"
    }
   },
   "cell_type": "code",
   "source": [
    "import kotlinx.coroutines.runBlocking\n",
    "\n",
    "runBlocking {\n",
    "    val result = agent.run(\"Hello! How can you help me?\")\n",
    "    println(result)\n",
    "}"
   ],
   "outputs": [
    {
     "name": "stdout",
     "output_type": "stream",
     "text": [
      "I can provide information, answer questions, and generate text. Just let me know what you need help with!\n",
      "\n"
     ]
    }
   ],
   "execution_count": 10
  }
 ],
 "metadata": {
  "kernelspec": {
   "display_name": "Kotlin",
   "language": "kotlin",
   "name": "kotlin"
  },
  "language_info": {
   "codemirror_mode": "text/x-kotlin",
   "file_extension": ".kt",
   "mimetype": "text/x-kotlin",
   "name": "kotlin",
   "nbconvert_exporter": "",
   "pygments_lexer": "kotlin",
   "version": "1.9.23"
  }
 },
 "nbformat": 4,
 "nbformat_minor": 0
}

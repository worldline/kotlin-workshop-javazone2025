{
 "cells": [
  {
   "cell_type": "markdown",
   "metadata": {},
   "source": [
    "# Exercises solutions"
   ]
  },
  {
   "cell_type": "markdown",
   "metadata": {},
   "source": [
    "1. Declare a function called `countVowels` that takes a String argument and returns its number of vowels (a, u, i , e, o). Please use a foor loop."
   ]
  },
  {
   "cell_type": "code",
   "metadata": {
    "ExecuteTime": {
     "end_time": "2025-09-02T10:12:24.172220Z",
     "start_time": "2025-09-02T10:12:24.111698Z"
    }
   },
   "source": [
    "fun countVowels(text: String): Int {\n",
    "  var count = 0\n",
    "  for (c in text) {\n",
    "    if (\"auieoy\".contains(c)) {\n",
    "      count += 1\n",
    "    }\n",
    "  }\n",
    "  return count\n",
    "}\n",
    "\n",
    "println(countVowels(\"Hello\"))\n",
    "println(countVowels(\"World\"))"
   ],
   "outputs": [
    {
     "name": "stdout",
     "output_type": "stream",
     "text": [
      "2\n",
      "1\n"
     ]
    }
   ],
   "execution_count": 12
  },
  {
   "metadata": {
    "ExecuteTime": {
     "end_time": "2025-09-02T10:12:24.235348Z",
     "start_time": "2025-09-02T10:12:24.178517Z"
    }
   },
   "cell_type": "code",
   "source": [
    "fun countVowelsListOfChar(text: String): Int {\n",
    "  var count = 0\n",
    "  for (c in text) {\n",
    "    if (listOf('a', 'e', 'i', 'o', 'u', 'y').contains(c)) {\n",
    "      count += 1\n",
    "    }\n",
    "  }\n",
    "  return count\n",
    "}\n",
    "\n",
    "println(countVowelsListOfChar(\"Hello\"))\n",
    "println(countVowelsListOfChar(\"World\"))"
   ],
   "outputs": [
    {
     "name": "stdout",
     "output_type": "stream",
     "text": [
      "2\n",
      "1\n"
     ]
    }
   ],
   "execution_count": 13
  },
  {
   "metadata": {},
   "cell_type": "markdown",
   "source": "Kotlin stdlib provides many utility functions. Here is a solution using the `count` method."
  },
  {
   "cell_type": "code",
   "metadata": {
    "ExecuteTime": {
     "end_time": "2025-09-02T10:12:24.294458Z",
     "start_time": "2025-09-02T10:12:24.244439Z"
    }
   },
   "source": [
    "fun countVowels2(text: String) =\n",
    "  text.count { \"auieoy\".contains(it) }\n",
    "\n",
    "println(countVowels2(\"Hello\"))\n",
    "println(countVowels2(\"World\"))"
   ],
   "outputs": [
    {
     "name": "stdout",
     "output_type": "stream",
     "text": [
      "2\n",
      "1\n"
     ]
    }
   ],
   "execution_count": 14
  },
  {
   "metadata": {
    "ExecuteTime": {
     "end_time": "2025-09-02T10:12:24.352391Z",
     "start_time": "2025-09-02T10:12:24.301914Z"
    }
   },
   "cell_type": "code",
   "source": [
    "fun countVowels3(text: String): Int {\n",
    "  return text.filter { c -> \"auoiey\".contains(c) }.length\n",
    "}\n",
    "\n",
    "println(countVowels3(\"Hello\"))\n",
    "println(countVowels3(\"World\"))"
   ],
   "outputs": [
    {
     "name": "stdout",
     "output_type": "stream",
     "text": [
      "2\n",
      "1\n"
     ]
    }
   ],
   "execution_count": 15
  },
  {
   "metadata": {},
   "cell_type": "markdown",
   "source": "2. Define an extension function for the Array<Int> class that returns the maximum value in the array or throws an exception if the array is empty."
  },
  {
   "metadata": {
    "ExecuteTime": {
     "end_time": "2025-09-02T10:12:24.423201Z",
     "start_time": "2025-09-02T10:12:24.362146Z"
    }
   },
   "cell_type": "code",
   "source": [
    "fun Array<Int>.myMaxOrThow(): Int {\n",
    "  if (this.isEmpty()) {\n",
    "    throw Exception(\"Array is empty\")\n",
    "  }\n",
    "  return this.max()\n",
    "}\n",
    "\n",
    "(1..10).toList().toTypedArray().myMaxOrThow()"
   ],
   "outputs": [
    {
     "data": {
      "text/plain": [
       "10"
      ]
     },
     "execution_count": 16,
     "metadata": {},
     "output_type": "execute_result"
    }
   ],
   "execution_count": 16
  },
  {
   "metadata": {
    "ExecuteTime": {
     "end_time": "2025-09-02T10:12:24.456152Z",
     "start_time": "2025-09-02T10:12:24.431786Z"
    }
   },
   "cell_type": "code",
   "source": [
    "//emptyArray<Int>().myMaxOrThow()\n",
    "//java.lang.Exception: Array is empty"
   ],
   "outputs": [],
   "execution_count": 17
  },
  {
   "metadata": {
    "ExecuteTime": {
     "end_time": "2025-09-02T10:12:24.498733Z",
     "start_time": "2025-09-02T10:12:24.461465Z"
    }
   },
   "cell_type": "code",
   "source": "arrayOf(3, -1, 200, 1).myMaxOrThow()",
   "outputs": [
    {
     "data": {
      "text/plain": [
       "200"
      ]
     },
     "execution_count": 18,
     "metadata": {},
     "output_type": "execute_result"
    }
   ],
   "execution_count": 18
  },
  {
   "metadata": {},
   "cell_type": "markdown",
   "source": [
    "3. Modify the House DSL seen in [01-01-kotlin-tour.ipynb](./01-01-kotlin-tour.ipynb) to be able to define furniture in rooms.\n",
    "\n",
    "\n",
    "  ```kotlin\n",
    "  house {\n",
    "      room(\"Living Room\") {\n",
    "          furniture(\"Sofa\")\n",
    "          furniture(\"Coffee Table\")\n",
    "      }\n",
    "      room(\"Bedroom\") {\n",
    "          furniture(\"Bed\")\n",
    "          furniture(\"Wardrobe\")\n",
    "      }\n",
    "  }\n",
    "  ```"
   ]
  },
  {
   "metadata": {
    "ExecuteTime": {
     "end_time": "2025-09-02T10:24:50.214695Z",
     "start_time": "2025-09-02T10:24:50.121531Z"
    }
   },
   "cell_type": "code",
   "source": [
    "data class Furniture(val name: String)\n",
    "data class Room(val name: String, val furnitures: List<Furniture>)\n",
    "data class House(val rooms: List<Room>)\n",
    "\n",
    "class RoomBuilder(val name: String) {\n",
    "  val furnitures = mutableListOf<Furniture>()\n",
    "  fun furniture(name: String) {\n",
    "    furnitures.add(Furniture(name))\n",
    "  }\n",
    "\n",
    "  fun build() = Room(name, furnitures.toList())\n",
    "}\n",
    "\n",
    "class HouseBuilder() {\n",
    "  val rooms = mutableListOf<Room>()\n",
    "\n",
    "  fun room(name: String, f: RoomBuilder.() -> Unit): Unit {\n",
    "    val builder = RoomBuilder(name)\n",
    "    builder.f()\n",
    "    rooms.add(builder.build())\n",
    "  }\n",
    "\n",
    "  fun build() = House(rooms.toList())\n",
    "}\n",
    "\n",
    "\n",
    "fun house(f: HouseBuilder.() -> Unit): House {\n",
    "  val builder = HouseBuilder()\n",
    "  builder.f()\n",
    "  return builder.build()\n",
    "}"
   ],
   "outputs": [],
   "execution_count": 24
  },
  {
   "metadata": {
    "ExecuteTime": {
     "end_time": "2025-09-02T10:25:40.139914Z",
     "start_time": "2025-09-02T10:25:40.099659Z"
    }
   },
   "cell_type": "code",
   "source": [
    "house {\n",
    "  room(\"Saloon\") {\n",
    "    furniture(\"Sofa\")\n",
    "    furniture(\"Coffee Table\")\n",
    "    furniture(\"TV\")\n",
    "  }\n",
    "  room(\"Bedroom\") {\n",
    "    furniture(\"Bed\")\n",
    "    furniture(\"Wardrobe\")\n",
    "  }\n",
    "  room(\"Work room\") {\n",
    "    furniture(\"Desk\")\n",
    "    furniture(\"Computer\")\n",
    "  }\n",
    "}"
   ],
   "outputs": [
    {
     "data": {
      "text/plain": [
       "House(rooms=[Room(name=Saloon, furnitures=[Furniture(name=Sofa), Furniture(name=Coffee Table), Furniture(name=TV)]), Room(name=Bedroom, furnitures=[Furniture(name=Bed), Furniture(name=Wardrobe)]), Room(name=Work room, furnitures=[Furniture(name=Desk), Furniture(name=Computer)])])"
      ]
     },
     "execution_count": 27,
     "metadata": {},
     "output_type": "execute_result"
    }
   ],
   "execution_count": 27
  }
 ],
 "metadata": {
  "kernelspec": {
   "display_name": "Kotlin",
   "language": "kotlin",
   "name": "kotlin"
  },
  "language_info": {
   "codemirror_mode": "text/x-kotlin",
   "file_extension": ".kt",
   "mimetype": "text/x-kotlin",
   "name": "kotlin",
   "nbconvert_exporter": "",
   "pygments_lexer": "kotlin",
   "version": "1.9.23"
  }
 },
 "nbformat": 4,
 "nbformat_minor": 0
}

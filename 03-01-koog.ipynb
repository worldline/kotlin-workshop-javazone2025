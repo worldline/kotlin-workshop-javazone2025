{
 "cells": [
  {
   "cell_type": "markdown",
   "metadata": {},
   "source": [
    "# Koog\n",
    "\n"
   ]
  },
  {
   "metadata": {},
   "cell_type": "markdown",
   "source": [
    "[Koog](https://docs.koog.ai/) a multiplatform library for building AI empowered applications in idiomatic Kotlin (in a way that feels natural for Kotlin devs).\n",
    "It supports state of the art features like agents, MCP, tools, embeddings, and more.\n",
    "It can currently target the JVM, WASM and JS.\n",
    "\n",
    "Since it supports the JVM, we can use it in a Kotlin notebook.\n",
    "Let's start by adding the dependency."
   ]
  },
  {
   "metadata": {
    "ExecuteTime": {
     "end_time": "2025-08-28T13:06:15.489011Z",
     "start_time": "2025-08-28T13:06:08.568269Z"
    }
   },
   "cell_type": "code",
   "source": "%use koog(0.3.0)",
   "outputs": [],
   "execution_count": 6
  },
  {
   "metadata": {},
   "cell_type": "markdown",
   "source": "## Single-run agents"
  },
  {
   "metadata": {},
   "cell_type": "markdown",
   "source": "Create an agent for different providers.\n"
  },
  {
   "metadata": {
    "ExecuteTime": {
     "end_time": "2025-08-28T12:39:18.064052Z",
     "start_time": "2025-08-28T12:39:17.762191Z"
    }
   },
   "cell_type": "code",
   "source": [
    "val systemPrompt = \"You are a helpful assistant. Answer user questions concisely.\"\n",
    "\n",
    "fun getOpenAiAgent() = AIAgent(\n",
    "  executor = simpleOpenAIExecutor(System.getenv(\"OPENAI_API_KEY\")),\n",
    "  systemPrompt = systemPrompt,\n",
    "  llmModel = OpenAIModels.Chat.GPT4o\n",
    ")\n",
    "\n",
    "fun getGoogleAiAgent() = AIAgent(\n",
    "  executor = simpleGoogleAIExecutor(System.getenv(\"GOOGLEAI_API_KEY\")),\n",
    "  systemPrompt = systemPrompt,\n",
    "  llmModel = GoogleModels.Gemini2_0FlashLite\n",
    ")"
   ],
   "outputs": [],
   "execution_count": 2
  },
  {
   "metadata": {},
   "cell_type": "markdown",
   "source": [
    "You can get a free google AI API key from [Google AI Studio](https://aistudio.google.com/apikey).\n",
    "Please add to your user environment variables as `GOOGLEAI_API_KEY`, and then reboot your IDE (so that is loads the new environment variable).\n",
    "\n",
    "Uncomment the agent you want to use."
   ]
  },
  {
   "metadata": {
    "ExecuteTime": {
     "end_time": "2025-08-28T12:50:44.806424Z",
     "start_time": "2025-08-28T12:50:44.554760Z"
    }
   },
   "cell_type": "code",
   "source": [
    "//val agent = getOpenAiAgent()\n",
    "val agent = getGoogleAiAgent()"
   ],
   "outputs": [],
   "execution_count": 4
  },
  {
   "metadata": {
    "ExecuteTime": {
     "end_time": "2025-08-28T12:53:13.950003Z",
     "start_time": "2025-08-28T12:53:12.338662Z"
    }
   },
   "cell_type": "code",
   "source": [
    "import kotlinx.coroutines.runBlocking\n",
    "\n",
    "runBlocking {\n",
    "  val result = agent.run(\"Hello! How can you help me?\")\n",
    "  println(result)\n",
    "}"
   ],
   "outputs": [
    {
     "name": "stdout",
     "output_type": "stream",
     "text": [
      "I can help you with a variety of tasks, such as answering questions, summarizing text, generating creative content, and more. Just let me know what you need!\n",
      "\n"
     ]
    }
   ],
   "execution_count": 5
  },
  {
   "metadata": {},
   "cell_type": "markdown",
   "source": [
    "## Tool calling\n",
    "\n",
    "First, define the toolset"
   ]
  },
  {
   "metadata": {
    "ExecuteTime": {
     "end_time": "2025-08-28T13:12:34.923942Z",
     "start_time": "2025-08-28T13:12:34.566693Z"
    }
   },
   "cell_type": "code",
   "source": [
    "import ai.koog.agents.core.tools.annotations.Tool\n",
    "\n",
    "@LLMDescription(\"Tools for performing basic arithmetic operations\")\n",
    "class CircleGeometryToolset : ToolSet {\n",
    "  @Tool\n",
    "  @LLMDescription(\"Circle area calculation\")\n",
    "  fun area(\n",
    "    @LLMDescription(\"Circle radius (floating point value)\")\n",
    "    r: Double,\n",
    "  ) = r * r * Math.PI\n",
    "\n",
    "  @Tool\n",
    "  @LLMDescription(\"Circle circumference calculation\")\n",
    "  fun circumference(\n",
    "    @LLMDescription(\"Circle radius (floating point value)\")\n",
    "    r: Double,\n",
    "  ) = r * 2 * Math.PI\n",
    "}\n",
    "\n",
    "// Add the tool to the tool registry\n",
    "val toolRegistry = ToolRegistry {\n",
    "  tools(CircleGeometryToolset())\n",
    "}"
   ],
   "outputs": [],
   "execution_count": 7
  },
  {
   "metadata": {},
   "cell_type": "markdown",
   "source": "Add an event handler feature to log tool calls"
  },
  {
   "metadata": {
    "ExecuteTime": {
     "end_time": "2025-08-28T13:12:37.518662Z",
     "start_time": "2025-08-28T13:12:37.310730Z"
    }
   },
   "cell_type": "code",
   "source": [
    "import ai.koog.agents.features.eventHandler.feature.EventHandler\n",
    "\n",
    "val features: AIAgent.FeatureContext.() -> Unit = {\n",
    "  install(EventHandler) {\n",
    "    onToolCall { println(\"tool called $it\") }\n",
    "  }\n",
    "}"
   ],
   "outputs": [],
   "execution_count": 8
  },
  {
   "metadata": {},
   "cell_type": "markdown",
   "source": "Define the agent"
  },
  {
   "metadata": {
    "ExecuteTime": {
     "end_time": "2025-08-28T13:17:49.985634Z",
     "start_time": "2025-08-28T13:17:49.895287Z"
    }
   },
   "cell_type": "code",
   "source": [
    "val circleGeomertrySystemPrompt =\n",
    "  \"You are a helpful assistant that can perform circle area and circumference calculations using the provided tools. Please show 2 decimal points in your final answer.\"\n",
    "\n",
    "fun getGoogleAiAgentWithTools() = AIAgent(\n",
    "  executor = simpleGoogleAIExecutor(System.getenv(\"GOOGLEAI_API_KEY\")),\n",
    "  llmModel = GoogleModels.Gemini2_0FlashLite,\n",
    "  systemPrompt = circleGeomertrySystemPrompt,\n",
    "  toolRegistry = toolRegistry,\n",
    "  installFeatures = features\n",
    ")\n",
    "\n",
    "fun getOpenAiAgentWithTools() = AIAgent(\n",
    "  executor = simpleOpenAIExecutor(System.getenv(\"OPENAI_API_KEY\")),\n",
    "  llmModel = OpenAIModels.Chat.GPT4o,\n",
    "  systemPrompt = circleGeomertrySystemPrompt,\n",
    "  toolRegistry = toolRegistry,\n",
    "  installFeatures = features\n",
    ")\n",
    "\n",
    "val agentWithTools = getGoogleAiAgentWithTools()\n",
    "//val agentWithTools = getOpenAiAgentWithTools()"
   ],
   "outputs": [],
   "execution_count": 14
  },
  {
   "metadata": {
    "ExecuteTime": {
     "end_time": "2025-08-28T13:17:55.952119Z",
     "start_time": "2025-08-28T13:17:54.102658Z"
    }
   },
   "cell_type": "code",
   "source": [
    "import kotlinx.coroutines.runBlocking\n",
    "\n",
    "runBlocking {\n",
    "  val result = agentWithTools.run(\"What is the area and circumference of a circle with radius 5?\")\n",
    "  println(result)\n",
    "  println(\"Manually computed area: ${(25 * Math.PI)} Circumference: ${5 * 2 * Math.PI}\")\n",
    "}"
   ],
   "outputs": [
    {
     "name": "stdout",
     "output_type": "stream",
     "text": [
      "tool called ToolCallContext(runId=44f8c993-9791-45f6-a95f-aef5330a0700, toolCallId=fdd36998-17ff-4166-9882-cd764893c3e9, tool=ai.koog.agents.core.tools.reflect.ToolFromCallable@3e0c5b7f, toolArgs=VarArgs(args={parameter #1 r of fun Line_8_jupyter.CircleGeometryToolset.area(kotlin.Double): kotlin.Double=5.0}))\n",
      "tool called ToolCallContext(runId=44f8c993-9791-45f6-a95f-aef5330a0700, toolCallId=2df07d46-cf80-4d53-832e-4dc04ea545d7, tool=ai.koog.agents.core.tools.reflect.ToolFromCallable@5af48146, toolArgs=VarArgs(args={parameter #1 r of fun Line_8_jupyter.CircleGeometryToolset.circumference(kotlin.Double): kotlin.Double=5.0}))\n",
      "The area of the circle is 78.54 and the circumference is 31.42.\n",
      "\n",
      "Manually computed area: 78.53981633974483 Circumference: 31.41592653589793\n"
     ]
    }
   ],
   "execution_count": 15
  }
 ],
 "metadata": {
  "kernelspec": {
   "display_name": "Kotlin",
   "language": "kotlin",
   "name": "kotlin"
  },
  "language_info": {
   "codemirror_mode": "text/x-kotlin",
   "file_extension": ".kt",
   "mimetype": "text/x-kotlin",
   "name": "kotlin",
   "nbconvert_exporter": "",
   "pygments_lexer": "kotlin",
   "version": "1.9.23"
  }
 },
 "nbformat": 4,
 "nbformat_minor": 0
}

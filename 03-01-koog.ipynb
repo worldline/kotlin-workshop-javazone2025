{
 "cells": [
  {
   "cell_type": "markdown",
   "metadata": {},
   "source": [
    "# Koog\n",
    "\n"
   ]
  },
  {
   "metadata": {},
   "cell_type": "markdown",
   "source": [
    "[Koog](https://docs.koog.ai/) a multiplatform library for building AI empowered applications in idiomatic Kotlin (in a way that feels natural for Kotlin devs).\n",
    "\n",
    "Since it supports the JVM, we can use it in a Kotlin notebook.\n",
    "Let's start by adding the dependency."
   ]
  },
  {
   "metadata": {
    "ExecuteTime": {
     "end_time": "2025-09-01T18:53:09.568360Z",
     "start_time": "2025-09-01T18:52:50.311465Z"
    }
   },
   "cell_type": "code",
   "source": "%use koog(0.4.1)",
   "outputs": [],
   "execution_count": 1
  },
  {
   "metadata": {},
   "cell_type": "markdown",
   "source": "## Single-run agents"
  },
  {
   "metadata": {},
   "cell_type": "markdown",
   "source": "Create an agent for different providers.\n"
  },
  {
   "metadata": {
    "ExecuteTime": {
     "end_time": "2025-09-01T18:53:09.791947Z",
     "start_time": "2025-09-01T18:53:09.643517Z"
    }
   },
   "cell_type": "code",
   "source": [
    "val systemPrompt = \"You are a helpful assistant. Answer user questions concisely.\"\n",
    "\n",
    "fun getOpenAiAgent() = AIAgent(\n",
    "  executor = simpleOpenAIExecutor(System.getenv(\"OPENAI_API_KEY\")),\n",
    "  systemPrompt = systemPrompt,\n",
    "  llmModel = OpenAIModels.Chat.GPT4o\n",
    ")\n",
    "\n",
    "fun getGoogleAiAgent() = AIAgent(\n",
    "  executor = simpleGoogleAIExecutor(System.getenv(\"GOOGLEAI_API_KEY\")),\n",
    "  systemPrompt = systemPrompt,\n",
    "  llmModel = GoogleModels.Gemini2_0FlashLite\n",
    ")"
   ],
   "outputs": [],
   "execution_count": 2
  },
  {
   "metadata": {},
   "cell_type": "markdown",
   "source": [
    "You can get a free google AI API key from [Google AI Studio](https://aistudio.google.com/apikey).\n",
    "Please add to your user environment variables as `GOOGLEAI_API_KEY`, and then reboot your IDE (so that is loads the new environment variable).\n",
    "\n",
    "Uncomment the agent you want to use."
   ]
  },
  {
   "metadata": {
    "ExecuteTime": {
     "end_time": "2025-09-01T18:53:09.950999Z",
     "start_time": "2025-09-01T18:53:09.797808Z"
    }
   },
   "cell_type": "code",
   "source": [
    "//val agent = getOpenAiAgent()\n",
    "val agent = getGoogleAiAgent()"
   ],
   "outputs": [],
   "execution_count": 3
  },
  {
   "metadata": {
    "ExecuteTime": {
     "end_time": "2025-09-01T18:53:11.441439Z",
     "start_time": "2025-09-01T18:53:09.996339Z"
    }
   },
   "cell_type": "code",
   "source": [
    "import kotlinx.coroutines.runBlocking\n",
    "\n",
    "runBlocking {\n",
    "  val result = agent.run(\"Hello! How can you help me?\")\n",
    "  println(result)\n",
    "}"
   ],
   "outputs": [
    {
     "name": "stdout",
     "output_type": "stream",
     "text": [
      "I can provide information, answer questions, and generate text. Just let me know what you need help with!\n",
      "\n"
     ]
    }
   ],
   "execution_count": 4
  },
  {
   "metadata": {},
   "cell_type": "markdown",
   "source": [
    "## Tool calling\n",
    "\n",
    "First, define the toolset"
   ]
  },
  {
   "metadata": {
    "ExecuteTime": {
     "end_time": "2025-09-01T18:53:11.970966Z",
     "start_time": "2025-09-01T18:53:11.521317Z"
    }
   },
   "cell_type": "code",
   "source": [
    "import ai.koog.agents.core.tools.annotations.Tool\n",
    "\n",
    "@LLMDescription(\"Tools for performing basic arithmetic operations\")\n",
    "class CircleGeometryToolset : ToolSet {\n",
    "  @Tool\n",
    "  @LLMDescription(\"Circle area calculation\")\n",
    "  fun area(\n",
    "    @LLMDescription(\"Circle radius (floating point value)\")\n",
    "    r: Double,\n",
    "  ) = r * r * Math.PI\n",
    "\n",
    "  @Tool\n",
    "  @LLMDescription(\"Circle circumference calculation\")\n",
    "  fun circumference(\n",
    "    @LLMDescription(\"Circle radius (floating point value)\")\n",
    "    r: Double,\n",
    "  ) = r * 2 * Math.PI\n",
    "}\n",
    "\n",
    "// Add the tool to the tool registry\n",
    "val toolRegistry = ToolRegistry {\n",
    "  tools(CircleGeometryToolset())\n",
    "}"
   ],
   "outputs": [],
   "execution_count": 5
  },
  {
   "metadata": {},
   "cell_type": "markdown",
   "source": "Add an event handler feature to log tool calls"
  },
  {
   "metadata": {
    "ExecuteTime": {
     "end_time": "2025-09-01T18:53:12.533420Z",
     "start_time": "2025-09-01T18:53:12.097837Z"
    }
   },
   "cell_type": "code",
   "source": [
    "import ai.koog.agents.features.eventHandler.feature.EventHandler\n",
    "\n",
    "val features: AIAgent.FeatureContext.() -> Unit = {\n",
    "  install(EventHandler) {\n",
    "    onToolCall { println(\"tool called $it\") }\n",
    "  }\n",
    "}"
   ],
   "outputs": [],
   "execution_count": 6
  },
  {
   "metadata": {},
   "cell_type": "markdown",
   "source": "Define the agent"
  },
  {
   "metadata": {
    "ExecuteTime": {
     "end_time": "2025-09-01T18:53:12.872867Z",
     "start_time": "2025-09-01T18:53:12.755606Z"
    }
   },
   "cell_type": "code",
   "source": [
    "val circleGeomertrySystemPrompt =\n",
    "  \"You are a helpful assistant that can perform circle area and circumference calculations using the provided tools. Please show 2 decimal points in your final answer.\"\n",
    "\n",
    "fun getGoogleAiAgentWithTools() = AIAgent(\n",
    "  executor = simpleGoogleAIExecutor(System.getenv(\"GOOGLEAI_API_KEY\")),\n",
    "  llmModel = GoogleModels.Gemini2_0FlashLite,\n",
    "  systemPrompt = circleGeomertrySystemPrompt,\n",
    "  toolRegistry = toolRegistry,\n",
    "  installFeatures = features\n",
    ")\n",
    "\n",
    "fun getOpenAiAgentWithTools() = AIAgent(\n",
    "  executor = simpleOpenAIExecutor(System.getenv(\"OPENAI_API_KEY\")),\n",
    "  llmModel = OpenAIModels.Chat.GPT4o,\n",
    "  systemPrompt = circleGeomertrySystemPrompt,\n",
    "  toolRegistry = toolRegistry,\n",
    "  installFeatures = features\n",
    ")\n",
    "\n",
    "val agentWithTools = getGoogleAiAgentWithTools()\n",
    "//val agentWithTools = getOpenAiAgentWithTools()"
   ],
   "outputs": [],
   "execution_count": 7
  },
  {
   "metadata": {
    "ExecuteTime": {
     "end_time": "2025-09-01T18:53:15.674973Z",
     "start_time": "2025-09-01T18:53:12.907891Z"
    }
   },
   "cell_type": "code",
   "source": [
    "import kotlinx.coroutines.runBlocking\n",
    "\n",
    "runBlocking {\n",
    "  val result = agentWithTools.run(\"What is the area and circumference of a circle with radius 5?\")\n",
    "  println(result)\n",
    "  println(\"Manually computed area: ${(25 * Math.PI)} Circumference: ${5 * 2 * Math.PI}\")\n",
    "}"
   ],
   "outputs": [
    {
     "name": "stdout",
     "output_type": "stream",
     "text": [
      "tool called ToolCallContext(runId=a6a64802-444d-476f-b394-d996697055ad, toolCallId=2a17b252-280a-44fc-be78-8ef9642f6e38, tool=ai.koog.agents.core.tools.reflect.ToolFromCallable@4f12806b, toolArgs=VarArgs(args={parameter #1 r of fun Line_6_jupyter.CircleGeometryToolset.area(kotlin.Double): kotlin.Double=5.0}))\n",
      "tool called ToolCallContext(runId=a6a64802-444d-476f-b394-d996697055ad, toolCallId=f033bc1e-57b6-4eb3-9f46-ed68e2fe3072, tool=ai.koog.agents.core.tools.reflect.ToolFromCallable@60321179, toolArgs=VarArgs(args={parameter #1 r of fun Line_6_jupyter.CircleGeometryToolset.circumference(kotlin.Double): kotlin.Double=5.0}))\n",
      "The area of the circle is 78.54, and the circumference is 31.42.\n",
      "Manually computed area: 78.53981633974483 Circumference: 31.41592653589793\n"
     ]
    }
   ],
   "execution_count": 8
  }
 ],
 "metadata": {
  "kernelspec": {
   "display_name": "Kotlin",
   "language": "kotlin",
   "name": "kotlin"
  },
  "language_info": {
   "codemirror_mode": "text/x-kotlin",
   "file_extension": ".kt",
   "mimetype": "text/x-kotlin",
   "name": "kotlin",
   "nbconvert_exporter": "",
   "pygments_lexer": "kotlin",
   "version": "1.9.23"
  }
 },
 "nbformat": 4,
 "nbformat_minor": 0
}

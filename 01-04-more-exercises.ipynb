{
 "cells": [
  {
   "metadata": {},
   "cell_type": "markdown",
   "source": [
    "# More exercises\n",
    "\n",
    "1. Complete the following code (hint: you can use the max method).\n",
    "\n",
    "    ```kotlin\n",
    "    fun printMax(items: Array<Int>?){\n",
    "\n",
    "    }\n",
    "\n",
    "    fun runExercise(items: Array<Int>?){\n",
    "        var items = arrayOf(1, 2, 2)\n",
    "        printMax(items)\n",
    "        // Print, the second item of the array if it exists\n",
    "\n",
    "        // Print the sum of the first and last items (hint: `first()` and `last()` methods)\n",
    "    }\n",
    "    runExercise(arrayOf(1, 2, 2))\n",
    "    runExercise(null)\n",
    "    runExercise(arrayOf(1))\n",
    "    runExercise(arrayOf(15, 6, 8, 22))\n",
    "    ```"
   ]
  }
 ],
 "metadata": {
  "kernelspec": {
   "display_name": "Kotlin",
   "language": "kotlin",
   "name": "kotlin"
  },
  "language_info": {
   "codemirror_mode": "text/x-kotlin",
   "file_extension": ".kt",
   "mimetype": "text/x-kotlin",
   "name": "kotlin",
   "nbconvert_exporter": "",
   "pygments_lexer": "kotlin",
   "version": "1.9.23"
  }
 },
 "nbformat": 4,
 "nbformat_minor": 2
}

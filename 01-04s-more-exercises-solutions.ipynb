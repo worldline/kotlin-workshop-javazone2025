{
 "cells": [
  {
   "metadata": {},
   "cell_type": "markdown",
   "source": [
    "# More exercises\n",
    "\n",
    "1. Complete the following code (hint: you can use the max method).\n",
    "\n",
    "    ```kotlin\n",
    "    fun printMax(items: Array<Int>?){\n",
    "\n",
    "    }\n",
    "\n",
    "    fun runExercise(items: Array<Int>?){\n",
    "        var items = arrayOf(1, 2, 2)\n",
    "        printMax(items)\n",
    "        // Print, the second item of the array if it exists\n",
    "\n",
    "        // Print the sum of the first and last items (hint: `first()` and `last()` methods)\n",
    "    }\n",
    "    runExercise(arrayOf(1, 2, 2))\n",
    "    runExercise(null)\n",
    "    runExercise(arrayOf(1))\n",
    "    runExercise(arrayOf(15, 6, 8, 22))\n",
    "    ```"
   ]
  },
  {
   "metadata": {},
   "cell_type": "code",
   "outputs": [],
   "execution_count": null,
   "source": [
    "fun printMax(items: Array<Int>?) {\n",
    "  if (items.isNullOrEmpty()) {\n",
    "    println(\"No max because the array is null or empty\")\n",
    "    return\n",
    "  }\n",
    "  println(items.max())\n",
    "}\n",
    "\n",
    "fun runExercise(items: Array<Int>?) {\n",
    "  if (items.isNullOrEmpty()) {\n",
    "    println(\"null or empty arrray\")\n",
    "    return\n",
    "  }\n",
    "  printMax(items)\n",
    "  // Print, the second item of the array if it exists\n",
    "  if (items.size > 2) {\n",
    "    println(\"second item: ${items[2]}\")\n",
    "  }\n",
    "  // Print the sum of the first and last items (hint: `first()` and `last()` methods)\n",
    "  println(\"sum of first and last ${items.first() + items.last()}\")\n",
    "}\n",
    "runExercise(arrayOf(1, 2, 2))\n",
    "runExercise(null)\n",
    "runExercise(arrayOf(1))\n",
    "runExercise(arrayOf(15, 6, 8, 22))"
   ]
  },
  {
   "metadata": {},
   "cell_type": "markdown",
   "source": "Define an extension function for the Array<Int> class that returns the maximum value in the array or null if the array is empty.\n"
  },
  {
   "metadata": {},
   "cell_type": "code",
   "outputs": [],
   "execution_count": null,
   "source": [
    "fun Array<Int>.myMaxOrNull(): Int? {\n",
    "  if (this.isEmpty()) return null\n",
    "  var max = this[0]\n",
    "  for (item in this) {\n",
    "    if (item > max) {\n",
    "      max = item\n",
    "    }\n",
    "  }\n",
    "  return max\n",
    "}\n",
    "\n",
    "arrayOf(1, 8, 9).myMaxOrNull()"
   ]
  },
  {
   "metadata": {},
   "cell_type": "markdown",
   "source": [
    "We can also generate integers with the range syntax.\n",
    "In that case, we need ton convert it to a typed array."
   ]
  },
  {
   "metadata": {},
   "cell_type": "code",
   "outputs": [],
   "execution_count": null,
   "source": "(1..9).toList().toTypedArray().myMaxOrNull()"
  }
 ],
 "metadata": {
  "kernelspec": {
   "display_name": "Kotlin",
   "language": "kotlin",
   "name": "kotlin"
  },
  "language_info": {
   "codemirror_mode": "text/x-kotlin",
   "file_extension": ".kt",
   "mimetype": "text/x-kotlin",
   "name": "kotlin",
   "nbconvert_exporter": "",
   "pygments_lexer": "kotlin",
   "version": "1.9.23"
  }
 },
 "nbformat": 4,
 "nbformat_minor": 2
}
